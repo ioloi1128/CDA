{
  "nbformat": 4,
  "nbformat_minor": 0,
  "metadata": {
    "colab": {
      "name": "CDA.week10.EOF.partVII.ENSO.ipynb",
      "provenance": [],
      "mount_file_id": "1vzwoVq2fVyfGCE_duvkPAcUrPFxX50gS",
      "authorship_tag": "ABX9TyP3JD9xsJuc76eFSv3Nc/QP",
      "include_colab_link": true
    },
    "kernelspec": {
      "name": "python3",
      "display_name": "Python 3"
    },
    "language_info": {
      "name": "python"
    }
  },
  "cells": [
    {
      "cell_type": "markdown",
      "metadata": {
        "id": "view-in-github",
        "colab_type": "text"
      },
      "source": [
        "<a href=\"https://colab.research.google.com/github/ioloi1128/CDA/blob/main/CDA_week10_EOF_partVII_ENSO.ipynb\" target=\"_parent\"><img src=\"https://colab.research.google.com/assets/colab-badge.svg\" alt=\"Open In Colab\"/></a>"
      ]
    },
    {
      "cell_type": "code",
      "source": [
        "!pip install numpy\n",
        "!pip install xarray\n",
        "!pip install matplotlib\n",
        "!pip install scipy\n",
        "!pip install pandas\n",
        "\n",
        "!apt-get install libproj-dev proj-data proj-bin\n",
        "!apt-get install libgeos-dev\n",
        "!pip install cython\n",
        "!pip install cartopy\n",
        "\n",
        "!apt-get -V -y -qq install python-cartopy python3-cartopy\n",
        "!pip uninstall shapely -y\n",
        "!pip install shapely --no-binary shapely"
      ],
      "metadata": {
        "id": "ugv1hihWdHSr",
        "colab": {
          "base_uri": "https://localhost:8080/"
        },
        "outputId": "e518b9ca-f1de-4096-cdc2-bc8848b09565"
      },
      "execution_count": null,
      "outputs": [
        {
          "output_type": "stream",
          "name": "stdout",
          "text": [
            "Requirement already satisfied: numpy in /usr/local/lib/python3.7/dist-packages (1.21.5)\n",
            "Requirement already satisfied: xarray in /usr/local/lib/python3.7/dist-packages (0.18.2)\n",
            "Requirement already satisfied: pandas>=1.0 in /usr/local/lib/python3.7/dist-packages (from xarray) (1.3.5)\n",
            "Requirement already satisfied: numpy>=1.17 in /usr/local/lib/python3.7/dist-packages (from xarray) (1.21.5)\n",
            "Requirement already satisfied: setuptools>=40.4 in /usr/local/lib/python3.7/dist-packages (from xarray) (57.4.0)\n",
            "Requirement already satisfied: pytz>=2017.3 in /usr/local/lib/python3.7/dist-packages (from pandas>=1.0->xarray) (2018.9)\n",
            "Requirement already satisfied: python-dateutil>=2.7.3 in /usr/local/lib/python3.7/dist-packages (from pandas>=1.0->xarray) (2.8.2)\n",
            "Requirement already satisfied: six>=1.5 in /usr/local/lib/python3.7/dist-packages (from python-dateutil>=2.7.3->pandas>=1.0->xarray) (1.15.0)\n",
            "Requirement already satisfied: matplotlib in /usr/local/lib/python3.7/dist-packages (3.2.2)\n",
            "Requirement already satisfied: kiwisolver>=1.0.1 in /usr/local/lib/python3.7/dist-packages (from matplotlib) (1.4.2)\n",
            "Requirement already satisfied: python-dateutil>=2.1 in /usr/local/lib/python3.7/dist-packages (from matplotlib) (2.8.2)\n",
            "Requirement already satisfied: cycler>=0.10 in /usr/local/lib/python3.7/dist-packages (from matplotlib) (0.11.0)\n",
            "Requirement already satisfied: numpy>=1.11 in /usr/local/lib/python3.7/dist-packages (from matplotlib) (1.21.5)\n",
            "Requirement already satisfied: pyparsing!=2.0.4,!=2.1.2,!=2.1.6,>=2.0.1 in /usr/local/lib/python3.7/dist-packages (from matplotlib) (3.0.8)\n",
            "Requirement already satisfied: typing-extensions in /usr/local/lib/python3.7/dist-packages (from kiwisolver>=1.0.1->matplotlib) (4.1.1)\n",
            "Requirement already satisfied: six>=1.5 in /usr/local/lib/python3.7/dist-packages (from python-dateutil>=2.1->matplotlib) (1.15.0)\n",
            "Requirement already satisfied: scipy in /usr/local/lib/python3.7/dist-packages (1.4.1)\n",
            "Requirement already satisfied: numpy>=1.13.3 in /usr/local/lib/python3.7/dist-packages (from scipy) (1.21.5)\n",
            "Requirement already satisfied: pandas in /usr/local/lib/python3.7/dist-packages (1.3.5)\n",
            "Requirement already satisfied: numpy>=1.17.3 in /usr/local/lib/python3.7/dist-packages (from pandas) (1.21.5)\n",
            "Requirement already satisfied: pytz>=2017.3 in /usr/local/lib/python3.7/dist-packages (from pandas) (2018.9)\n",
            "Requirement already satisfied: python-dateutil>=2.7.3 in /usr/local/lib/python3.7/dist-packages (from pandas) (2.8.2)\n",
            "Requirement already satisfied: six>=1.5 in /usr/local/lib/python3.7/dist-packages (from python-dateutil>=2.7.3->pandas) (1.15.0)\n",
            "Reading package lists... Done\n",
            "Building dependency tree       \n",
            "Reading state information... Done\n",
            "libproj-dev is already the newest version (4.9.3-2).\n",
            "libproj-dev set to manually installed.\n",
            "proj-data is already the newest version (4.9.3-2).\n",
            "proj-data set to manually installed.\n",
            "The following NEW packages will be installed:\n",
            "  proj-bin\n",
            "0 upgraded, 1 newly installed, 0 to remove and 39 not upgraded.\n",
            "Need to get 32.3 kB of archives.\n",
            "After this operation, 110 kB of additional disk space will be used.\n",
            "Get:1 http://archive.ubuntu.com/ubuntu bionic/universe amd64 proj-bin amd64 4.9.3-2 [32.3 kB]\n",
            "Fetched 32.3 kB in 0s (94.6 kB/s)\n",
            "Selecting previously unselected package proj-bin.\n",
            "(Reading database ... 155455 files and directories currently installed.)\n",
            "Preparing to unpack .../proj-bin_4.9.3-2_amd64.deb ...\n",
            "Unpacking proj-bin (4.9.3-2) ...\n",
            "Setting up proj-bin (4.9.3-2) ...\n",
            "Processing triggers for man-db (2.8.3-2ubuntu0.1) ...\n",
            "Reading package lists... Done\n",
            "Building dependency tree       \n",
            "Reading state information... Done\n",
            "libgeos-dev is already the newest version (3.6.2-1build2).\n",
            "libgeos-dev set to manually installed.\n",
            "0 upgraded, 0 newly installed, 0 to remove and 39 not upgraded.\n",
            "Requirement already satisfied: cython in /usr/local/lib/python3.7/dist-packages (0.29.28)\n",
            "Collecting cartopy\n",
            "  Downloading Cartopy-0.20.2.tar.gz (10.8 MB)\n",
            "\u001b[K     |████████████████████████████████| 10.8 MB 5.3 MB/s \n",
            "\u001b[?25h  Installing build dependencies ... \u001b[?25l\u001b[?25hdone\n",
            "  Getting requirements to build wheel ... \u001b[?25l\u001b[?25herror\n",
            "\u001b[33mWARNING: Discarding https://files.pythonhosted.org/packages/f6/55/1e1c737dc9436b320deead73d1c455ddbb74b8b6992081863492f6f6378a/Cartopy-0.20.2.tar.gz#sha256=4d08c198ecaa50a6a6b109d0f14c070e813defc046a83ac5d7ab494f85599e35 (from https://pypi.org/simple/cartopy/) (requires-python:>=3.7). Command errored out with exit status 1: /usr/bin/python3 /usr/local/lib/python3.7/dist-packages/pip/_vendor/pep517/in_process/_in_process.py get_requires_for_build_wheel /tmp/tmpeapjusjv Check the logs for full command output.\u001b[0m\n",
            "  Downloading Cartopy-0.20.1.tar.gz (10.8 MB)\n",
            "\u001b[K     |████████████████████████████████| 10.8 MB 32.5 MB/s \n",
            "\u001b[?25h  Installing build dependencies ... \u001b[?25l\u001b[?25hdone\n",
            "  Getting requirements to build wheel ... \u001b[?25l\u001b[?25herror\n",
            "\u001b[33mWARNING: Discarding https://files.pythonhosted.org/packages/fc/59/aa52698e3838f4cd0e7eaa75bd86837e9e0b05041dbdaee3cda2fffced06/Cartopy-0.20.1.tar.gz#sha256=91f87b130e2574547a20cd634498df97d797abd12dcfd0235bc0cdbcec8b05e3 (from https://pypi.org/simple/cartopy/) (requires-python:>=3.7). Command errored out with exit status 1: /usr/bin/python3 /usr/local/lib/python3.7/dist-packages/pip/_vendor/pep517/in_process/_in_process.py get_requires_for_build_wheel /tmp/tmp900j3sxu Check the logs for full command output.\u001b[0m\n",
            "  Downloading Cartopy-0.20.0.tar.gz (10.8 MB)\n",
            "\u001b[K     |████████████████████████████████| 10.8 MB 42.3 MB/s \n",
            "\u001b[?25h  Installing build dependencies ... \u001b[?25l\u001b[?25hdone\n",
            "  Getting requirements to build wheel ... \u001b[?25l\u001b[?25herror\n",
            "\u001b[33mWARNING: Discarding https://files.pythonhosted.org/packages/0f/c0/58453b036e79046d211f083880d58dcce787e7e07647ac25dc46c6555099/Cartopy-0.20.0.tar.gz#sha256=eae58aff26806e63cf115b2bce9477cedc4aa9f578c5e477b2c25cfa404f2b7a (from https://pypi.org/simple/cartopy/) (requires-python:>=3.7). Command errored out with exit status 1: /usr/bin/python3 /usr/local/lib/python3.7/dist-packages/pip/_vendor/pep517/in_process/_in_process.py get_requires_for_build_wheel /tmp/tmphl8_ksw_ Check the logs for full command output.\u001b[0m\n",
            "  Downloading Cartopy-0.19.0.post1.tar.gz (12.1 MB)\n",
            "\u001b[K     |████████████████████████████████| 12.1 MB 46.0 MB/s \n",
            "\u001b[?25h  Installing build dependencies ... \u001b[?25l\u001b[?25hdone\n",
            "  Getting requirements to build wheel ... \u001b[?25l\u001b[?25hdone\n",
            "    Preparing wheel metadata ... \u001b[?25l\u001b[?25hdone\n",
            "Requirement already satisfied: shapely>=1.5.6 in /usr/local/lib/python3.7/dist-packages (from cartopy) (1.8.1.post1)\n",
            "Collecting pyshp>=2\n",
            "  Downloading pyshp-2.2.0-py3-none-any.whl (44 kB)\n",
            "\u001b[K     |████████████████████████████████| 44 kB 2.8 MB/s \n",
            "\u001b[?25hRequirement already satisfied: numpy>=1.13.3 in /usr/local/lib/python3.7/dist-packages (from cartopy) (1.21.5)\n",
            "Building wheels for collected packages: cartopy\n",
            "  Building wheel for cartopy (PEP 517) ... \u001b[?25l\u001b[?25hdone\n",
            "  Created wheel for cartopy: filename=Cartopy-0.19.0.post1-cp37-cp37m-linux_x86_64.whl size=12516274 sha256=ce4da67baee9c46a084081c379648c11800ee4c9f74c26f6d0ca1e98e84acb16\n",
            "  Stored in directory: /root/.cache/pip/wheels/98/01/f7/bd10aeb96fe4b518cde5f7c4f5e12c7202f85b7353a5017847\n",
            "Successfully built cartopy\n",
            "Installing collected packages: pyshp, cartopy\n",
            "Successfully installed cartopy-0.19.0.post1 pyshp-2.2.0\n",
            "Selecting previously unselected package python-pkg-resources.\n",
            "(Reading database ... 155471 files and directories currently installed.)\n",
            "Preparing to unpack .../00-python-pkg-resources_39.0.1-2_all.deb ...\n",
            "Unpacking python-pkg-resources (39.0.1-2) ...\n",
            "Selecting previously unselected package python-pyshp.\n",
            "Preparing to unpack .../01-python-pyshp_1.2.12+ds-1_all.deb ...\n",
            "Unpacking python-pyshp (1.2.12+ds-1) ...\n",
            "Selecting previously unselected package python-shapely.\n",
            "Preparing to unpack .../02-python-shapely_1.6.4-1_amd64.deb ...\n",
            "Unpacking python-shapely (1.6.4-1) ...\n",
            "Selecting previously unselected package python-six.\n",
            "Preparing to unpack .../03-python-six_1.11.0-2_all.deb ...\n",
            "Unpacking python-six (1.11.0-2) ...\n",
            "Selecting previously unselected package python-cartopy:amd64.\n",
            "Preparing to unpack .../04-python-cartopy_0.14.2+dfsg1-2build3_amd64.deb ...\n",
            "Unpacking python-cartopy:amd64 (0.14.2+dfsg1-2build3) ...\n",
            "Selecting previously unselected package python3-numpy.\n",
            "Preparing to unpack .../05-python3-numpy_1%3a1.13.3-2ubuntu1_amd64.deb ...\n",
            "Unpacking python3-numpy (1:1.13.3-2ubuntu1) ...\n",
            "Selecting previously unselected package python3-pkg-resources.\n",
            "Preparing to unpack .../06-python3-pkg-resources_39.0.1-2_all.deb ...\n",
            "Unpacking python3-pkg-resources (39.0.1-2) ...\n",
            "Selecting previously unselected package python3-pyshp.\n",
            "Preparing to unpack .../07-python3-pyshp_1.2.12+ds-1_all.deb ...\n",
            "Unpacking python3-pyshp (1.2.12+ds-1) ...\n",
            "Selecting previously unselected package python3-shapely.\n",
            "Preparing to unpack .../08-python3-shapely_1.6.4-1_amd64.deb ...\n",
            "Unpacking python3-shapely (1.6.4-1) ...\n",
            "Selecting previously unselected package python3-six.\n",
            "Preparing to unpack .../09-python3-six_1.11.0-2_all.deb ...\n",
            "Unpacking python3-six (1.11.0-2) ...\n",
            "Selecting previously unselected package python3-cartopy:amd64.\n",
            "Preparing to unpack .../10-python3-cartopy_0.14.2+dfsg1-2build3_amd64.deb ...\n",
            "Unpacking python3-cartopy:amd64 (0.14.2+dfsg1-2build3) ...\n",
            "Setting up python-shapely (1.6.4-1) ...\n",
            "Setting up python-pyshp (1.2.12+ds-1) ...\n",
            "Setting up python3-numpy (1:1.13.3-2ubuntu1) ...\n",
            "Setting up python3-six (1.11.0-2) ...\n",
            "Setting up python3-shapely (1.6.4-1) ...\n",
            "Setting up python3-pyshp (1.2.12+ds-1) ...\n",
            "Setting up python3-pkg-resources (39.0.1-2) ...\n",
            "Setting up python-pkg-resources (39.0.1-2) ...\n",
            "Setting up python-six (1.11.0-2) ...\n",
            "Setting up python3-cartopy:amd64 (0.14.2+dfsg1-2build3) ...\n",
            "Setting up python-cartopy:amd64 (0.14.2+dfsg1-2build3) ...\n",
            "Processing triggers for man-db (2.8.3-2ubuntu0.1) ...\n",
            "Found existing installation: Shapely 1.8.1.post1\n",
            "Uninstalling Shapely-1.8.1.post1:\n",
            "  Successfully uninstalled Shapely-1.8.1.post1\n",
            "Requirement already satisfied: shapely in /usr/lib/python3/dist-packages (1.6.4)\n"
          ]
        }
      ]
    },
    {
      "cell_type": "code",
      "execution_count": null,
      "metadata": {
        "id": "RIbgJmDcb7UB"
      },
      "outputs": [],
      "source": [
        "import xarray as xr\n",
        "import numpy as np\n",
        "import matplotlib.pyplot as plt\n",
        "import scipy.stats\n",
        "import pandas as pd\n",
        "\n",
        "import cartopy.crs as ccrs\n",
        "import cartopy.mpl.ticker as cticker\n",
        "from cartopy.util import add_cyclic_point"
      ]
    },
    {
      "cell_type": "code",
      "source": [
        "!pip install eofs\n",
        "from eofs.xarray import Eof\n",
        "from eofs.examples import example_data_path"
      ],
      "metadata": {
        "id": "2N9U9T4dD1mD",
        "colab": {
          "base_uri": "https://localhost:8080/"
        },
        "outputId": "46bca350-9187-4be0-e621-b4109a396604"
      },
      "execution_count": null,
      "outputs": [
        {
          "output_type": "stream",
          "name": "stdout",
          "text": [
            "Collecting eofs\n",
            "  Downloading eofs-1.4.0.tar.gz (1.0 MB)\n",
            "\u001b[?25l\r\u001b[K     |▎                               | 10 kB 15.3 MB/s eta 0:00:01\r\u001b[K     |▋                               | 20 kB 10.9 MB/s eta 0:00:01\r\u001b[K     |█                               | 30 kB 6.8 MB/s eta 0:00:01\r\u001b[K     |█▎                              | 40 kB 6.3 MB/s eta 0:00:01\r\u001b[K     |█▋                              | 51 kB 4.2 MB/s eta 0:00:01\r\u001b[K     |██                              | 61 kB 5.0 MB/s eta 0:00:01\r\u001b[K     |██▎                             | 71 kB 5.1 MB/s eta 0:00:01\r\u001b[K     |██▌                             | 81 kB 5.0 MB/s eta 0:00:01\r\u001b[K     |██▉                             | 92 kB 5.6 MB/s eta 0:00:01\r\u001b[K     |███▏                            | 102 kB 4.9 MB/s eta 0:00:01\r\u001b[K     |███▌                            | 112 kB 4.9 MB/s eta 0:00:01\r\u001b[K     |███▉                            | 122 kB 4.9 MB/s eta 0:00:01\r\u001b[K     |████▏                           | 133 kB 4.9 MB/s eta 0:00:01\r\u001b[K     |████▌                           | 143 kB 4.9 MB/s eta 0:00:01\r\u001b[K     |████▊                           | 153 kB 4.9 MB/s eta 0:00:01\r\u001b[K     |█████                           | 163 kB 4.9 MB/s eta 0:00:01\r\u001b[K     |█████▍                          | 174 kB 4.9 MB/s eta 0:00:01\r\u001b[K     |█████▊                          | 184 kB 4.9 MB/s eta 0:00:01\r\u001b[K     |██████                          | 194 kB 4.9 MB/s eta 0:00:01\r\u001b[K     |██████▍                         | 204 kB 4.9 MB/s eta 0:00:01\r\u001b[K     |██████▊                         | 215 kB 4.9 MB/s eta 0:00:01\r\u001b[K     |███████                         | 225 kB 4.9 MB/s eta 0:00:01\r\u001b[K     |███████▎                        | 235 kB 4.9 MB/s eta 0:00:01\r\u001b[K     |███████▋                        | 245 kB 4.9 MB/s eta 0:00:01\r\u001b[K     |████████                        | 256 kB 4.9 MB/s eta 0:00:01\r\u001b[K     |████████▎                       | 266 kB 4.9 MB/s eta 0:00:01\r\u001b[K     |████████▋                       | 276 kB 4.9 MB/s eta 0:00:01\r\u001b[K     |█████████                       | 286 kB 4.9 MB/s eta 0:00:01\r\u001b[K     |█████████▎                      | 296 kB 4.9 MB/s eta 0:00:01\r\u001b[K     |█████████▌                      | 307 kB 4.9 MB/s eta 0:00:01\r\u001b[K     |█████████▉                      | 317 kB 4.9 MB/s eta 0:00:01\r\u001b[K     |██████████▏                     | 327 kB 4.9 MB/s eta 0:00:01\r\u001b[K     |██████████▌                     | 337 kB 4.9 MB/s eta 0:00:01\r\u001b[K     |██████████▉                     | 348 kB 4.9 MB/s eta 0:00:01\r\u001b[K     |███████████▏                    | 358 kB 4.9 MB/s eta 0:00:01\r\u001b[K     |███████████▌                    | 368 kB 4.9 MB/s eta 0:00:01\r\u001b[K     |███████████▊                    | 378 kB 4.9 MB/s eta 0:00:01\r\u001b[K     |████████████                    | 389 kB 4.9 MB/s eta 0:00:01\r\u001b[K     |████████████▍                   | 399 kB 4.9 MB/s eta 0:00:01\r\u001b[K     |████████████▊                   | 409 kB 4.9 MB/s eta 0:00:01\r\u001b[K     |█████████████                   | 419 kB 4.9 MB/s eta 0:00:01\r\u001b[K     |█████████████▍                  | 430 kB 4.9 MB/s eta 0:00:01\r\u001b[K     |█████████████▊                  | 440 kB 4.9 MB/s eta 0:00:01\r\u001b[K     |██████████████                  | 450 kB 4.9 MB/s eta 0:00:01\r\u001b[K     |██████████████▎                 | 460 kB 4.9 MB/s eta 0:00:01\r\u001b[K     |██████████████▋                 | 471 kB 4.9 MB/s eta 0:00:01\r\u001b[K     |███████████████                 | 481 kB 4.9 MB/s eta 0:00:01\r\u001b[K     |███████████████▎                | 491 kB 4.9 MB/s eta 0:00:01\r\u001b[K     |███████████████▋                | 501 kB 4.9 MB/s eta 0:00:01\r\u001b[K     |████████████████                | 512 kB 4.9 MB/s eta 0:00:01\r\u001b[K     |████████████████▎               | 522 kB 4.9 MB/s eta 0:00:01\r\u001b[K     |████████████████▌               | 532 kB 4.9 MB/s eta 0:00:01\r\u001b[K     |████████████████▉               | 542 kB 4.9 MB/s eta 0:00:01\r\u001b[K     |█████████████████▏              | 552 kB 4.9 MB/s eta 0:00:01\r\u001b[K     |█████████████████▌              | 563 kB 4.9 MB/s eta 0:00:01\r\u001b[K     |█████████████████▉              | 573 kB 4.9 MB/s eta 0:00:01\r\u001b[K     |██████████████████▏             | 583 kB 4.9 MB/s eta 0:00:01\r\u001b[K     |██████████████████▌             | 593 kB 4.9 MB/s eta 0:00:01\r\u001b[K     |██████████████████▊             | 604 kB 4.9 MB/s eta 0:00:01\r\u001b[K     |███████████████████             | 614 kB 4.9 MB/s eta 0:00:01\r\u001b[K     |███████████████████▍            | 624 kB 4.9 MB/s eta 0:00:01\r\u001b[K     |███████████████████▊            | 634 kB 4.9 MB/s eta 0:00:01\r\u001b[K     |████████████████████            | 645 kB 4.9 MB/s eta 0:00:01\r\u001b[K     |████████████████████▍           | 655 kB 4.9 MB/s eta 0:00:01\r\u001b[K     |████████████████████▊           | 665 kB 4.9 MB/s eta 0:00:01\r\u001b[K     |█████████████████████           | 675 kB 4.9 MB/s eta 0:00:01\r\u001b[K     |█████████████████████▎          | 686 kB 4.9 MB/s eta 0:00:01\r\u001b[K     |█████████████████████▋          | 696 kB 4.9 MB/s eta 0:00:01\r\u001b[K     |██████████████████████          | 706 kB 4.9 MB/s eta 0:00:01\r\u001b[K     |██████████████████████▎         | 716 kB 4.9 MB/s eta 0:00:01\r\u001b[K     |██████████████████████▋         | 727 kB 4.9 MB/s eta 0:00:01\r\u001b[K     |███████████████████████         | 737 kB 4.9 MB/s eta 0:00:01\r\u001b[K     |███████████████████████▎        | 747 kB 4.9 MB/s eta 0:00:01\r\u001b[K     |███████████████████████▌        | 757 kB 4.9 MB/s eta 0:00:01\r\u001b[K     |███████████████████████▉        | 768 kB 4.9 MB/s eta 0:00:01\r\u001b[K     |████████████████████████▏       | 778 kB 4.9 MB/s eta 0:00:01\r\u001b[K     |████████████████████████▌       | 788 kB 4.9 MB/s eta 0:00:01\r\u001b[K     |████████████████████████▉       | 798 kB 4.9 MB/s eta 0:00:01\r\u001b[K     |█████████████████████████▏      | 808 kB 4.9 MB/s eta 0:00:01\r\u001b[K     |█████████████████████████▌      | 819 kB 4.9 MB/s eta 0:00:01\r\u001b[K     |█████████████████████████▊      | 829 kB 4.9 MB/s eta 0:00:01\r\u001b[K     |██████████████████████████      | 839 kB 4.9 MB/s eta 0:00:01\r\u001b[K     |██████████████████████████▍     | 849 kB 4.9 MB/s eta 0:00:01\r\u001b[K     |██████████████████████████▊     | 860 kB 4.9 MB/s eta 0:00:01\r\u001b[K     |███████████████████████████     | 870 kB 4.9 MB/s eta 0:00:01\r\u001b[K     |███████████████████████████▍    | 880 kB 4.9 MB/s eta 0:00:01\r\u001b[K     |███████████████████████████▊    | 890 kB 4.9 MB/s eta 0:00:01\r\u001b[K     |████████████████████████████    | 901 kB 4.9 MB/s eta 0:00:01\r\u001b[K     |████████████████████████████▎   | 911 kB 4.9 MB/s eta 0:00:01\r\u001b[K     |████████████████████████████▋   | 921 kB 4.9 MB/s eta 0:00:01\r\u001b[K     |█████████████████████████████   | 931 kB 4.9 MB/s eta 0:00:01\r\u001b[K     |█████████████████████████████▎  | 942 kB 4.9 MB/s eta 0:00:01\r\u001b[K     |█████████████████████████████▋  | 952 kB 4.9 MB/s eta 0:00:01\r\u001b[K     |██████████████████████████████  | 962 kB 4.9 MB/s eta 0:00:01\r\u001b[K     |██████████████████████████████▏ | 972 kB 4.9 MB/s eta 0:00:01\r\u001b[K     |██████████████████████████████▌ | 983 kB 4.9 MB/s eta 0:00:01\r\u001b[K     |██████████████████████████████▉ | 993 kB 4.9 MB/s eta 0:00:01\r\u001b[K     |███████████████████████████████▏| 1.0 MB 4.9 MB/s eta 0:00:01\r\u001b[K     |███████████████████████████████▌| 1.0 MB 4.9 MB/s eta 0:00:01\r\u001b[K     |███████████████████████████████▉| 1.0 MB 4.9 MB/s eta 0:00:01\r\u001b[K     |████████████████████████████████| 1.0 MB 4.9 MB/s \n",
            "\u001b[?25hRequirement already satisfied: numpy in /usr/local/lib/python3.7/dist-packages (from eofs) (1.21.5)\n",
            "Building wheels for collected packages: eofs\n",
            "  Building wheel for eofs (setup.py) ... \u001b[?25l\u001b[?25hdone\n",
            "  Created wheel for eofs: filename=eofs-1.4.0-py3-none-any.whl size=1100374 sha256=113047b16ced0ef92a119024fc71bfad6f9020dea0aa36f4d627438882caca8e\n",
            "  Stored in directory: /root/.cache/pip/wheels/ce/4e/36/2ef48d7342cd326d5f3bdb4ddd0441f06b387b5cbfc8336095\n",
            "Successfully built eofs\n",
            "Installing collected packages: eofs\n",
            "Successfully installed eofs-1.4.0\n"
          ]
        }
      ]
    },
    {
      "cell_type": "markdown",
      "source": [
        "EOF analysis"
      ],
      "metadata": {
        "id": "6Yvy64kHDIlN"
      }
    },
    {
      "cell_type": "code",
      "source": [
        "import cartopy.crs as ccrs\n",
        "import cartopy.feature as cfeature\n",
        "import matplotlib.pyplot as plt\n",
        "import numpy as np\n",
        "import xarray as xr\n",
        "\n",
        "from eofs.xarray import Eof\n",
        "from eofs.examples import example_data_path\n",
        "\n",
        "\n",
        "# Read SST anomalies using the xarray module. The file contains November-March\n",
        "# averages of SST anomaly in the central and northern Pacific.\n",
        "filename = example_data_path('sst_ndjfm_anom.nc')\n",
        "sst = xr.open_dataset(filename)['sst']\n",
        "\n",
        "# Create an EOF solver to do the EOF analysis. Square-root of cosine of\n",
        "# latitude weights are applied before the computation of EOFs.\n",
        "coslat = np.cos(np.deg2rad(sst.coords['latitude'].values))\n",
        "wgts = np.sqrt(coslat)[..., np.newaxis]\n",
        "solver = Eof(sst, weights=wgts)\n",
        "\n",
        "# Retrieve the leading EOF, expressed as the correlation between the leading\n",
        "# PC time series and the input SST anomalies at each grid point, and the\n",
        "# leading PC time series itself.\n",
        "eof1 = solver.eofsAsCorrelation(neofs=1)\n",
        "pc1 = solver.pcs(npcs=1, pcscaling=1)\n",
        "\n",
        "# Plot the leading EOF expressed as correlation in the Pacific domain.\n",
        "clevs = np.linspace(-1, 1, 11)\n",
        "ax = plt.axes(projection=ccrs.PlateCarree(central_longitude=190))\n",
        "fill = eof1[0].plot.contourf(ax=ax, levels=clevs, cmap=plt.cm.RdBu_r,\n",
        "                             add_colorbar=False, transform=ccrs.PlateCarree())\n",
        "ax.add_feature(cfeature.LAND, facecolor='w', edgecolor='k')\n",
        "cb = plt.colorbar(fill, orientation='horizontal')\n",
        "cb.set_label('correlation coefficient', fontsize=12)\n",
        "ax.set_title('EOF1 expressed as correlation', fontsize=16)\n",
        "\n",
        "# Plot the leading PC time series.\n",
        "plt.figure()\n",
        "pc1[:, 0].plot(color='b', linewidth=2)\n",
        "ax = plt.gca()\n",
        "ax.axhline(0, color='k')\n",
        "ax.set_ylim(-3, 3)\n",
        "ax.set_xlabel('Year')\n",
        "ax.set_ylabel('Normalized Units')\n",
        "ax.set_title('PC1 Time Series', fontsize=16)\n",
        "\n",
        "plt.show()"
      ],
      "metadata": {
        "colab": {
          "base_uri": "https://localhost:8080/",
          "height": 611
        },
        "id": "hFDJXJQwQcmX",
        "outputId": "abdab6a5-ccd6-4eea-a724-93f47ae67c06"
      },
      "execution_count": null,
      "outputs": [
        {
          "output_type": "stream",
          "name": "stderr",
          "text": [
            "/usr/local/lib/python3.7/dist-packages/cartopy/io/__init__.py:241: DownloadWarning: Downloading: https://naciscdn.org/naturalearth/110m/physical/ne_110m_land.zip\n",
            "  warnings.warn('Downloading: {}'.format(url), DownloadWarning)\n"
          ]
        },
        {
          "output_type": "display_data",
          "data": {
            "text/plain": [
              "<Figure size 432x288 with 2 Axes>"
            ],
            "image/png": "[encoded data removed]"
          },
          "metadata": {
            "needs_background": "light"
          }
        },
        {
          "output_type": "display_data",
          "data": {
            "text/plain": [
              "<Figure size 432x288 with 1 Axes>"
            ],
            "image/png": "[encoded data removed]"
          },
          "metadata": {
            "needs_background": "light"
          }
        }
      ]
    }
  ]
}