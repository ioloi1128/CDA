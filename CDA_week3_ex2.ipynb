{
  "nbformat": 4,
  "nbformat_minor": 0,
  "metadata": {
    "colab": {
      "name": "CDA.week3.ex2.ipynb",
      "provenance": [],
      "mount_file_id": "1nZE5U2WIdzHq8P9Q1GJZe0jnbVM71Bye",
      "authorship_tag": "ABX9TyNGreqrHGBLaeUjivUd4P9U",
      "include_colab_link": true
    },
    "kernelspec": {
      "name": "python3",
      "display_name": "Python 3"
    },
    "language_info": {
      "name": "python"
    }
  },
  "cells": [
    {
      "cell_type": "markdown",
      "metadata": {
        "id": "view-in-github",
        "colab_type": "text"
      },
      "source": [
        "<a href=\"https://colab.research.google.com/github/ioloi1128/CDA/blob/main/CDA_week3_ex2.ipynb\" target=\"_parent\"><img src=\"https://colab.research.google.com/assets/colab-badge.svg\" alt=\"Open In Colab\"/></a>"
      ]
    },
    {
      "cell_type": "markdown",
      "source": [
        "Install"
      ],
      "metadata": {
        "id": "CcS1xifxfRRG"
      }
    },
    {
      "cell_type": "code",
      "execution_count": null,
      "metadata": {
        "id": "OXlkkjAhiHKM"
      },
      "outputs": [],
      "source": [
        "!pip install numpy\n",
        "!pip install xarray\n",
        "!pip install matplotlib\n",
        "!pip install scipy"
      ]
    },
    {
      "cell_type": "markdown",
      "source": [
        "Define"
      ],
      "metadata": {
        "id": "ljwETZ2ufX5A"
      }
    },
    {
      "cell_type": "code",
      "source": [
        "import xarray as xr\n",
        "from matplotlib import pyplot as plt\n",
        "import numpy as np\n",
        "import scipy as stats\n",
        "from scipy.stats import ttest_ind_from_stats"
      ],
      "metadata": {
        "id": "dQNa89WBfZI4"
      },
      "execution_count": 4,
      "outputs": []
    },
    {
      "cell_type": "markdown",
      "source": [
        "Load data"
      ],
      "metadata": {
        "id": "4yVVxm3Jfs0h"
      }
    },
    {
      "cell_type": "code",
      "source": [
        "url = 'http://www.esrl.noaa.gov/psd/thredds/dodsC/Datasets/noaa.ersst.v5/sst.mnmean.nc'\n",
        "ds = xr.open_dataset(url)\n",
        "print(ds)\n",
        "#ds\n",
        "\n",
        "# select period\n",
        "ds = ds.sel(time=slice('1960', '2018'))\n",
        "#ds\n",
        "\n",
        "#actually load the data\n",
        "ds.load()"
      ],
      "metadata": {
        "id": "Y9IE7RWFfp2H"
      },
      "execution_count": null,
      "outputs": []
    },
    {
      "cell_type": "markdown",
      "source": [
        "Process data"
      ],
      "metadata": {
        "id": "jLooe5EqgflK"
      }
    },
    {
      "cell_type": "code",
      "source": [
        "#make anomaly\n",
        "sst_clim = ds.sst.groupby('time.month').mean(dim='time')\n",
        "sst_anom = ds.sst.groupby('time.month') - sst_clim"
      ],
      "metadata": {
        "id": "qNJdc105gBCC"
      },
      "execution_count": 7,
      "outputs": []
    },
    {
      "cell_type": "code",
      "source": [
        "#detrend\n",
        "from scipy.signal import detrend\n",
        "sst_anom_detrended = xr.apply_ufunc(detrend, sst_anom.fillna(0),\n",
        "                                    kwargs={'axis': 0}).where(~sst_anom.isnull())"
      ],
      "metadata": {
        "id": "9DyRJJdAgo8K"
      },
      "execution_count": 8,
      "outputs": []
    },
    {
      "cell_type": "code",
      "source": [
        "# For a global average, we need to weigh the points by cosine of latitude.\n",
        "# This is not built into xarray because xarray is not specific to geoscientific data.\n",
        "weights = np.cos(np.deg2rad(ds.lat)).where(~sst_anom[0].isnull())\n",
        "weights /= weights.mean()\n",
        "\n",
        "(sst_anom * weights).mean(dim=['lon', 'lat']).plot(label='raw')\n",
        "(sst_anom_detrended * weights).mean(dim=['lon', 'lat']).plot(label='detrended')\n",
        "plt.grid()\n",
        "plt.legend()"
      ],
      "metadata": {
        "id": "tfAdcr_Yguwe"
      },
      "execution_count": null,
      "outputs": []
    },
    {
      "cell_type": "code",
      "source": [
        "sst_anom_nino34 = sst_anom_detrended.sel(lat=slice(5, -5), lon=slice(190, 240))\n",
        "sst_anom_nino34_mean = sst_anom_nino34.mean(dim=('lon', 'lat'))\n",
        "oni = sst_anom_nino34_mean.rolling(time=3, center=True).mean()"
      ],
      "metadata": {
        "id": "wmPX5jCBg7dE"
      },
      "execution_count": 10,
      "outputs": []
    },
    {
      "cell_type": "code",
      "source": [
        "oni.plot()\n",
        "plt.grid()\n",
        "plt.ylabel('Anomaly (dec. C)');"
      ],
      "metadata": {
        "id": "D3ZrldZehDVs"
      },
      "execution_count": null,
      "outputs": []
    },
    {
      "cell_type": "code",
      "source": [
        "positive_oni = ((oni>0.5).astype('b').rolling(time=5, center=True).sum()==5)\n",
        "negative_oni = ((oni<0.5).astype('b').rolling(time=5, center=True).sum()==5)\n",
        "positive_oni.astype('i').plot(marker='.', label='positive')\n",
        "(-negative_oni.astype('i')).plot(marker='.', label='negative')\n",
        "plt.legend()"
      ],
      "metadata": {
        "id": "RDpMT-LLhIPG"
      },
      "execution_count": null,
      "outputs": []
    },
    {
      "cell_type": "code",
      "source": [
        "sst_anom.where(positive_oni).mean(dim='time').plot()\n",
        "plt.title('SST Anomaly - Positive Niño3.4');"
      ],
      "metadata": {
        "id": "wASAqkrzhK4X"
      },
      "execution_count": null,
      "outputs": []
    },
    {
      "cell_type": "code",
      "source": [
        "sst_anom.where(negative_oni).mean(dim='time').plot()\n",
        "plt.title('SST Anomaly - Negative Niño3.4');"
      ],
      "metadata": {
        "id": "BujUOw_zhQCd"
      },
      "execution_count": null,
      "outputs": []
    },
    {
      "cell_type": "markdown",
      "source": [
        "Add sifnificant ttest"
      ],
      "metadata": {
        "id": "zvwTLaLLhWsN"
      }
    },
    {
      "cell_type": "code",
      "source": [
        "mean1 = sst_anom.where(positive_oni).mean(dim='time')\n",
        "mean2 = sst_anom.mean(dim='time')\n",
        "\n",
        "#mean1.plot()\n",
        "#mean2.plot()"
      ],
      "metadata": {
        "id": "K6xQporMhWNe"
      },
      "execution_count": 15,
      "outputs": []
    },
    {
      "cell_type": "code",
      "source": [
        "std1 = sst_anom.where(positive_oni).std(dim='time')\n",
        "#std1.plot()\n",
        "std2 = sst_anom.std(dim='time')\n",
        "#std2.plot()"
      ],
      "metadata": {
        "id": "t_QX-Iq2hj4w"
      },
      "execution_count": 16,
      "outputs": []
    },
    {
      "cell_type": "code",
      "source": [
        "nobs1 = np.count_nonzero(positive_oni)\n",
        "#nobs1\n",
        "nobs2 = len(oni)\n",
        "#nobs2"
      ],
      "metadata": {
        "id": "l9J7qMWlhsdn"
      },
      "execution_count": 17,
      "outputs": []
    },
    {
      "cell_type": "code",
      "source": [
        "modified_std1 = np.sqrt(np.float32(nobs1)/np.float32(nobs1-1)) * std1\n",
        "#modified_std1\n",
        "modified_std2 = np.sqrt(np.float32(nobs2)/np.float32(nobs2-1)) * std2\n",
        "#modified_std2"
      ],
      "metadata": {
        "id": "SYhDZmZeh0Oh"
      },
      "execution_count": 18,
      "outputs": []
    },
    {
      "cell_type": "code",
      "source": [
        "import scipy.stats as stats\n",
        "from scipy.stats import ttest_ind, ttest_ind_from_stats"
      ],
      "metadata": {
        "id": "CiufhEBvh6qH"
      },
      "execution_count": 19,
      "outputs": []
    },
    {
      "cell_type": "code",
      "source": [
        "(statistic, pvalue) = stats.ttest_ind_from_stats(mean1=mean1, std1=modified_std1, nobs1=nobs1, mean2=mean2, std2=modified_std2, nobs2=nobs2 )\n",
        "print(pvalue)"
      ],
      "metadata": {
        "colab": {
          "base_uri": "https://localhost:8080/"
        },
        "id": "cJDF2YtZiCQt",
        "outputId": "4d188e4a-7e05-4218-aca3-8bdc78394100"
      },
      "execution_count": 20,
      "outputs": [
        {
          "output_type": "stream",
          "name": "stdout",
          "text": [
            "[[0.37340941 0.39722566 0.41440279 ... 0.35038151 0.35253362 0.35478176]\n",
            " [0.40571    0.41745395 0.42931914 ... 0.42931344 0.41438659 0.40336707]\n",
            " [0.57660761 0.42930321 0.4293142  ... 0.57413789 0.57667056 0.57667975]\n",
            " ...\n",
            " [       nan        nan        nan ...        nan        nan        nan]\n",
            " [       nan        nan        nan ...        nan        nan        nan]\n",
            " [       nan        nan        nan ...        nan        nan        nan]]\n"
          ]
        }
      ]
    },
    {
      "cell_type": "code",
      "source": [
        "alpha=0.05\n",
        "mean1_sig=mean1.where(pvalue <= alpha)\n",
        "mean1_sig.plot()\n",
        "plt.title('95% significant');"
      ],
      "metadata": {
        "id": "xKDgwSCRiD8Z"
      },
      "execution_count": null,
      "outputs": []
    },
    {
      "cell_type": "code",
      "source": [
        "mean1_sig.to_netcdf(path=\"Elnino_sig.nc\")\n",
        "mean1.to_netcdf(path=\"Elnino_nosig.nc\")"
      ],
      "metadata": {
        "id": "Jw-fzHepi9gt"
      },
      "execution_count": 27,
      "outputs": []
    }
  ]
}