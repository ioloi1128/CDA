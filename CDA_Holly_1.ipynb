{
  "nbformat": 4,
  "nbformat_minor": 0,
  "metadata": {
    "colab": {
      "name": "CDA_Holly.1.ipynb",
      "provenance": [],
      "collapsed_sections": [],
      "include_colab_link": true
    },
    "kernelspec": {
      "name": "python3",
      "display_name": "Python 3"
    },
    "language_info": {
      "name": "python"
    }
  },
  "cells": [
    {
      "cell_type": "markdown",
      "metadata": {
        "id": "view-in-github",
        "colab_type": "text"
      },
      "source": [
        "<a href=\"https://colab.research.google.com/github/ioloi1128/CDA/blob/main/CDA_Holly_1.ipynb\" target=\"_parent\"><img src=\"https://colab.research.google.com/assets/colab-badge.svg\" alt=\"Open In Colab\"/></a>"
      ]
    },
    {
      "cell_type": "code",
      "source": [
        "!pip install numpy\n",
        "!pip install xarray\n",
        "!pip install matplotlib\n",
        "!pip install scipy\n",
        "!pip install pandas\n",
        "\n",
        "#!apt-get install libproj-dev proj-data proj-bin\n",
        "#!apt-get install libgeos-dev\n",
        "#!pip install cython\n",
        "#!pip install cartopy\n",
        "\n",
        "#!apt-get -V -y -qq install python-cartopy python3-cartopy\n",
        "#!pip uninstall shapely -y\n",
        "#!pip install shapely --no-binary shapely"
      ],
      "metadata": {
        "id": "nrDL-hlApZTf",
        "colab": {
          "base_uri": "https://localhost:8080/"
        },
        "outputId": "a1137448-cce4-44fc-8639-972d0a6609c7"
      },
      "execution_count": null,
      "outputs": [
        {
          "output_type": "stream",
          "name": "stdout",
          "text": [
            "Looking in indexes: https://pypi.org/simple, https://us-python.pkg.dev/colab-wheels/public/simple/\n",
            "Requirement already satisfied: numpy in /usr/local/lib/python3.7/dist-packages (1.21.6)\n",
            "Looking in indexes: https://pypi.org/simple, https://us-python.pkg.dev/colab-wheels/public/simple/\n",
            "Requirement already satisfied: xarray in /usr/local/lib/python3.7/dist-packages (0.20.2)\n",
            "Requirement already satisfied: pandas>=1.1 in /usr/local/lib/python3.7/dist-packages (from xarray) (1.3.5)\n",
            "Requirement already satisfied: typing-extensions>=3.7 in /usr/local/lib/python3.7/dist-packages (from xarray) (4.2.0)\n",
            "Requirement already satisfied: importlib-metadata in /usr/local/lib/python3.7/dist-packages (from xarray) (4.11.3)\n",
            "Requirement already satisfied: numpy>=1.18 in /usr/local/lib/python3.7/dist-packages (from xarray) (1.21.6)\n",
            "Requirement already satisfied: pytz>=2017.3 in /usr/local/lib/python3.7/dist-packages (from pandas>=1.1->xarray) (2022.1)\n",
            "Requirement already satisfied: python-dateutil>=2.7.3 in /usr/local/lib/python3.7/dist-packages (from pandas>=1.1->xarray) (2.8.2)\n",
            "Requirement already satisfied: six>=1.5 in /usr/local/lib/python3.7/dist-packages (from python-dateutil>=2.7.3->pandas>=1.1->xarray) (1.15.0)\n",
            "Requirement already satisfied: zipp>=0.5 in /usr/local/lib/python3.7/dist-packages (from importlib-metadata->xarray) (3.8.0)\n",
            "Looking in indexes: https://pypi.org/simple, https://us-python.pkg.dev/colab-wheels/public/simple/\n",
            "Requirement already satisfied: matplotlib in /usr/local/lib/python3.7/dist-packages (3.2.2)\n",
            "Requirement already satisfied: pyparsing!=2.0.4,!=2.1.2,!=2.1.6,>=2.0.1 in /usr/local/lib/python3.7/dist-packages (from matplotlib) (3.0.9)\n",
            "Requirement already satisfied: numpy>=1.11 in /usr/local/lib/python3.7/dist-packages (from matplotlib) (1.21.6)\n",
            "Requirement already satisfied: cycler>=0.10 in /usr/local/lib/python3.7/dist-packages (from matplotlib) (0.11.0)\n",
            "Requirement already satisfied: kiwisolver>=1.0.1 in /usr/local/lib/python3.7/dist-packages (from matplotlib) (1.4.2)\n",
            "Requirement already satisfied: python-dateutil>=2.1 in /usr/local/lib/python3.7/dist-packages (from matplotlib) (2.8.2)\n",
            "Requirement already satisfied: typing-extensions in /usr/local/lib/python3.7/dist-packages (from kiwisolver>=1.0.1->matplotlib) (4.2.0)\n",
            "Requirement already satisfied: six>=1.5 in /usr/local/lib/python3.7/dist-packages (from python-dateutil>=2.1->matplotlib) (1.15.0)\n",
            "Looking in indexes: https://pypi.org/simple, https://us-python.pkg.dev/colab-wheels/public/simple/\n",
            "Requirement already satisfied: scipy in /usr/local/lib/python3.7/dist-packages (1.4.1)\n",
            "Requirement already satisfied: numpy>=1.13.3 in /usr/local/lib/python3.7/dist-packages (from scipy) (1.21.6)\n",
            "Looking in indexes: https://pypi.org/simple, https://us-python.pkg.dev/colab-wheels/public/simple/\n",
            "Requirement already satisfied: pandas in /usr/local/lib/python3.7/dist-packages (1.3.5)\n",
            "Requirement already satisfied: python-dateutil>=2.7.3 in /usr/local/lib/python3.7/dist-packages (from pandas) (2.8.2)\n",
            "Requirement already satisfied: numpy>=1.17.3 in /usr/local/lib/python3.7/dist-packages (from pandas) (1.21.6)\n",
            "Requirement already satisfied: pytz>=2017.3 in /usr/local/lib/python3.7/dist-packages (from pandas) (2022.1)\n",
            "Requirement already satisfied: six>=1.5 in /usr/local/lib/python3.7/dist-packages (from python-dateutil>=2.7.3->pandas) (1.15.0)\n"
          ]
        }
      ]
    },
    {
      "cell_type": "code",
      "execution_count": null,
      "metadata": {
        "id": "Lh79lFiCnnQd"
      },
      "outputs": [],
      "source": [
        "#import plotly.express as px\n",
        "import xarray as xr\n",
        "import numpy as np\n",
        "import matplotlib.pyplot as plt\n",
        "import scipy.stats\n",
        "import pandas as pd\n",
        "#import cartopy.crs as ccrs\n",
        "#import cartopy.mpl.ticker as cticker\n",
        "#from cartopy.util import add_cyclic_point\n",
        "#from matplotlib import pyplot as plt\n",
        "#import scipy as stats\n",
        "from scipy.stats import ttest_ind_from_stats\n",
        "import csv\n",
        "#import netCDF4 as nc\n",
        "import cftime\n",
        "import sys\n",
        "import os\n",
        "import urllib.request\n",
        "import io\n",
        "#import scipy.stats\n",
        "from io import StringIO\n",
        "\n"
      ]
    },
    {
      "cell_type": "code",
      "source": [
        "con = pd.read_csv('/content/drive/MyDrive/Colab_data/TPconsump.csv')\n",
        "con02 = con.squeeze()\n",
        "print(type(con02))\n",
        "\n",
        "# print(con02)\n",
        "con02.plot.line(color='green')\n",
        "# con03=con02.to_numpy()\n",
        "con03=con02.to_xarray() #轉成xr Dataset而已\n",
        "con04=con03.set_coords('year') #將year放到Coordinates\n",
        "# con05=con04.set_coords('Domestic') #將year放到Coordinates\n",
        "\n",
        "\n",
        "# print(con03)\n"
      ],
      "metadata": {
        "id": "QY7o8EVXntus",
        "colab": {
          "base_uri": "https://localhost:8080/",
          "height": 293
        },
        "outputId": "94da9e35-e0a5-46cb-feb1-3bce40a39ee4"
      },
      "execution_count": null,
      "outputs": [
        {
          "output_type": "stream",
          "name": "stdout",
          "text": [
            "<class 'pandas.core.frame.DataFrame'>\n"
          ]
        },
        {
          "output_type": "display_data",
          "data": {
            "text/plain": [
              "<Figure size 432x288 with 1 Axes>"
            ],
            "image/png": "[encoded data removed]"
          },
          "metadata": {
            "needs_background": "light"
          }
        }
      ]
    },
    {
      "cell_type": "code",
      "source": [
        "from google.colab import drive\n",
        "drive.mount('/content/drive')"
      ],
      "metadata": {
        "colab": {
          "base_uri": "https://localhost:8080/"
        },
        "id": "uOq0FSKz8dn7",
        "outputId": "2e1a0fbd-919c-4db4-8274-18b17d5ad4e9"
      },
      "execution_count": null,
      "outputs": [
        {
          "output_type": "stream",
          "name": "stdout",
          "text": [
            "Mounted at /content/drive\n"
          ]
        }
      ]
    },
    {
      "cell_type": "code",
      "source": [
        "# con05\n",
        "con05=con04.drop_vars('Domestic', errors='raise')#拿掉一個變數\n",
        "con05\n",
        "con06=con05.to_array(dim='Foreign', name=None) \n",
        "# con06.reset_coords(names='Foreign', drop=True)\n",
        "con06\n",
        "newCon=con06.values"
      ],
      "metadata": {
        "id": "CpgPjTJUyOkD"
      },
      "execution_count": null,
      "outputs": []
    },
    {
      "cell_type": "code",
      "source": [
        "# 建立一個列表儲存60年資料的url\n",
        "file_tavg = []\n",
        "for year in range(1960,2019):\n",
        "  fn = os.path.join(\"http://140.109.172.135/~dadm/data_share/tccip/temp/1km/nc/\",\"tavg.\" + str(year) + \".monthly.1km-grid-v4.nc\" )\n",
        "  file_tavg.append(fn)"
      ],
      "metadata": {
        "id": "kcfU5iG2vGWf"
      },
      "execution_count": null,
      "outputs": []
    },
    {
      "cell_type": "code",
      "source": [
        "# 透過爬蟲下載60年的nc資料放進列表中\n",
        "hadv_new = []\n",
        "for i in range(len(file_tavg)):\n",
        " req = urllib.request.Request(file_tavg[i])\n",
        " with urllib.request.urlopen(req) as resp:\n",
        "  xadv = xr.open_dataset(io.BytesIO(resp.read()), decode_times=False)\n",
        "  hadv_new.append(xadv)\n",
        "# 合併60年的資料\n",
        "xadv60 = xr.concat(hadv_new, dim=\"time\")"
      ],
      "metadata": {
        "id": "8hss3_SovIfH"
      },
      "execution_count": null,
      "outputs": []
    },
    {
      "cell_type": "code",
      "source": [
        "# 建立1960-2018的時間列表\n",
        "time=pd.date_range(start='1960-01',end='2018-12',freq='MS')\n",
        "xadv60.coords['time'] = time\n",
        "xadv60.coords"
      ],
      "metadata": {
        "id": "R8frxfJdvNc6",
        "colab": {
          "base_uri": "https://localhost:8080/"
        },
        "outputId": "79c866a5-91ca-4965-9ad0-911312dc9258"
      },
      "execution_count": null,
      "outputs": [
        {
          "output_type": "execute_result",
          "data": {
            "text/plain": [
              "Coordinates:\n",
              "  * time     (time) datetime64[ns] 1960-01-01 1960-02-01 ... 2018-12-01\n",
              "  * lat      (lat) float32 21.5 21.51 21.52 21.53 ... 25.47 25.48 25.49 25.5\n",
              "  * lon      (lon) float32 119.2 119.2 119.2 119.2 ... 122.3 122.3 122.3 122.3"
            ]
          },
          "metadata": {},
          "execution_count": 13
        }
      ]
    },
    {
      "cell_type": "code",
      "source": [
        "# 根據經緯度篩選資料\n",
        "xadv60tas=xadv60.tas.sel(lat=slice(24.59,25.091080),lon=slice(121.3,121.5598))\n",
        "# (lat=slice(-15,15),lon=slice(180,180+90)\n",
        "# 根據時間區間篩選資料\n",
        "xadv60tas6018=xadv60tas.sel(time=slice('1968-01-01', '2018-12-01'))\n"
      ],
      "metadata": {
        "id": "EwAYCTSUvT2J"
      },
      "execution_count": null,
      "outputs": []
    },
    {
      "cell_type": "code",
      "source": [
        "# 得到年平均tas並視覺化\n",
        "val_yr=xadv60tas6018.groupby('time.year').mean(dim='time')\n",
        "\n",
        "# print(val_yr01)\n",
        "# print(type(val_yr01))\n",
        "# val_yr02 = val_yr.to_series()\n",
        "# val_yr02.plot.line(color='purple')\n",
        "val_yr.reset_coords(names=None, drop=False)\n",
        "val_yr"
      ],
      "metadata": {
        "id": "gech5eBovUb7",
        "colab": {
          "base_uri": "https://localhost:8080/",
          "height": 885
        },
        "outputId": "14a56d17-dfd5-465c-b786-486dfaa871d3"
      },
      "execution_count": null,
      "outputs": [
        {
          "output_type": "execute_result",
          "data": {
            "text/plain": [
              "<xarray.DataArray 'tas' (year: 51, lat: 60, lon: 31)>\n",
              "array([[[14.738458 , 15.580711 , 15.680508 , ..., 19.698128 ,\n",
              "         17.396368 , 16.172768 ],\n",
              "        [16.096243 , 14.9421015, 13.801631 , ..., 19.906225 ,\n",
              "         18.747665 , 19.038237 ],\n",
              "        [15.525561 , 16.116945 , 13.672528 , ..., 20.727442 ,\n",
              "         20.129179 , 19.63832  ],\n",
              "        ...,\n",
              "        [21.17287  , 20.997057 , 21.043495 , ..., 21.968573 ,\n",
              "         21.984781 , 22.028452 ],\n",
              "        [21.485071 , 21.435324 , 21.325289 , ..., 21.947678 ,\n",
              "         21.905212 , 22.003271 ],\n",
              "        [21.453278 , 21.109743 , 21.101942 , ..., 21.601896 ,\n",
              "         21.565138 , 21.718225 ]],\n",
              "\n",
              "       [[15.311507 , 16.156626 , 16.254566 , ..., 20.40051  ,\n",
              "         18.576645 , 17.154978 ],\n",
              "        [16.607782 , 15.514553 , 14.347018 , ..., 20.54039  ,\n",
              "         19.715746 , 19.916801 ],\n",
              "        [16.075933 , 16.68735  , 14.212643 , ..., 21.03251  ,\n",
              "         20.783209 , 20.348227 ],\n",
              "...\n",
              "        [22.696936 , 22.518715 , 22.564508 , ..., 23.751518 ,\n",
              "         23.748405 , 23.745338 ],\n",
              "        [23.048393 , 22.996527 , 22.880262 , ..., 23.854391 ,\n",
              "         23.769026 , 23.723902 ],\n",
              "        [23.022367 , 22.66744  , 22.559357 , ..., 23.609606 ,\n",
              "         23.397284 , 23.524225 ]],\n",
              "\n",
              "       [[16.831667 , 17.62446  , 17.718767 , ..., 19.952047 ,\n",
              "         17.67312  , 16.04723  ],\n",
              "        [17.945593 , 17.01195  , 16.073624 , ..., 20.138353 ,\n",
              "         18.95829  , 19.244894 ],\n",
              "        [17.48417  , 17.931387 , 15.97303  , ..., 21.089956 ,\n",
              "         20.403818 , 19.896544 ],\n",
              "        ...,\n",
              "        [22.422602 , 22.226    , 22.35785  , ..., 23.879995 ,\n",
              "         23.76209  , 23.746696 ],\n",
              "        [22.913263 , 22.861084 , 22.68001  , ..., 23.902182 ,\n",
              "         23.696127 , 23.7621   ],\n",
              "        [22.88804  , 22.472939 , 22.356943 , ..., 23.550934 ,\n",
              "         23.422571 , 23.54331  ]]], dtype=float32)\n",
              "Coordinates:\n",
              "  * lat      (lat) float32 24.6 24.6 24.61 24.62 ... 25.06 25.07 25.08 25.09\n",
              "  * lon      (lon) float32 121.3 121.3 121.3 121.3 ... 121.5 121.5 121.5 121.6\n",
              "  * year     (year) int64 1968 1969 1970 1971 1972 ... 2014 2015 2016 2017 2018"
            ],
            "text/html": [
              "<div><svg style=\"position: absolute; width: 0; height: 0; overflow: hidden\">\n",
              "<defs>\n",
              "<symbol id=\"icon-database\" viewBox=\"0 0 32 32\">\n",
              "<path d=\"M16 0c-8.837 0-16 2.239-16 5v4c0 2.761 7.163 5 16 5s16-2.239 16-5v-4c0-2.761-7.163-5-16-5z\"></path>\n",
              "<path d=\"M16 17c-8.837 0-16-2.239-16-5v6c0 2.761 7.163 5 16 5s16-2.239 16-5v-6c0 2.761-7.163 5-16 5z\"></path>\n",
              "<path d=\"M16 26c-8.837 0-16-2.239-16-5v6c0 2.761 7.163 5 16 5s16-2.239 16-5v-6c0 2.761-7.163 5-16 5z\"></path>\n",
              "</symbol>\n",
              "<symbol id=\"icon-file-text2\" viewBox=\"0 0 32 32\">\n",
              "<path d=\"M28.681 7.159c-0.694-0.947-1.662-2.053-2.724-3.116s-2.169-2.030-3.116-2.724c-1.612-1.182-2.393-1.319-2.841-1.319h-15.5c-1.378 0-2.5 1.121-2.5 2.5v27c0 1.378 1.122 2.5 2.5 2.5h23c1.378 0 2.5-1.122 2.5-2.5v-19.5c0-0.448-0.137-1.23-1.319-2.841zM24.543 5.457c0.959 0.959 1.712 1.825 2.268 2.543h-4.811v-4.811c0.718 0.556 1.584 1.309 2.543 2.268zM28 29.5c0 0.271-0.229 0.5-0.5 0.5h-23c-0.271 0-0.5-0.229-0.5-0.5v-27c0-0.271 0.229-0.5 0.5-0.5 0 0 15.499-0 15.5 0v7c0 0.552 0.448 1 1 1h7v19.5z\"></path>\n",
              "<path d=\"M23 26h-14c-0.552 0-1-0.448-1-1s0.448-1 1-1h14c0.552 0 1 0.448 1 1s-0.448 1-1 1z\"></path>\n",
              "<path d=\"M23 22h-14c-0.552 0-1-0.448-1-1s0.448-1 1-1h14c0.552 0 1 0.448 1 1s-0.448 1-1 1z\"></path>\n",
              "<path d=\"M23 18h-14c-0.552 0-1-0.448-1-1s0.448-1 1-1h14c0.552 0 1 0.448 1 1s-0.448 1-1 1z\"></path>\n",
              "</symbol>\n",
              "</defs>\n",
              "</svg>\n",
              "<style>/* CSS stylesheet for displaying xarray objects in jupyterlab.\n",
              " *\n",
              " */\n",
              "\n",
              ":root {\n",
              "  --xr-font-color0: var(--jp-content-font-color0, rgba(0, 0, 0, 1));\n",
              "  --xr-font-color2: var(--jp-content-font-color2, rgba(0, 0, 0, 0.54));\n",
              "  --xr-font-color3: var(--jp-content-font-color3, rgba(0, 0, 0, 0.38));\n",
              "  --xr-border-color: var(--jp-border-color2, #e0e0e0);\n",
              "  --xr-disabled-color: var(--jp-layout-color3, #bdbdbd);\n",
              "  --xr-background-color: var(--jp-layout-color0, white);\n",
              "  --xr-background-color-row-even: var(--jp-layout-color1, white);\n",
              "  --xr-background-color-row-odd: var(--jp-layout-color2, #eeeeee);\n",
              "}\n",
              "\n",
              "html[theme=dark],\n",
              "body.vscode-dark {\n",
              "  --xr-font-color0: rgba(255, 255, 255, 1);\n",
              "  --xr-font-color2: rgba(255, 255, 255, 0.54);\n",
              "  --xr-font-color3: rgba(255, 255, 255, 0.38);\n",
              "  --xr-border-color: #1F1F1F;\n",
              "  --xr-disabled-color: #515151;\n",
              "  --xr-background-color: #111111;\n",
              "  --xr-background-color-row-even: #111111;\n",
              "  --xr-background-color-row-odd: #313131;\n",
              "}\n",
              "\n",
              ".xr-wrap {\n",
              "  display: block !important;\n",
              "  min-width: 300px;\n",
              "  max-width: 700px;\n",
              "}\n",
              "\n",
              ".xr-text-repr-fallback {\n",
              "  /* fallback to plain text repr when CSS is not injected (untrusted notebook) */\n",
              "  display: none;\n",
              "}\n",
              "\n",
              ".xr-header {\n",
              "  padding-top: 6px;\n",
              "  padding-bottom: 6px;\n",
              "  margin-bottom: 4px;\n",
              "  border-bottom: solid 1px var(--xr-border-color);\n",
              "}\n",
              "\n",
              ".xr-header > div,\n",
              ".xr-header > ul {\n",
              "  display: inline;\n",
              "  margin-top: 0;\n",
              "  margin-bottom: 0;\n",
              "}\n",
              "\n",
              ".xr-obj-type,\n",
              ".xr-array-name {\n",
              "  margin-left: 2px;\n",
              "  margin-right: 10px;\n",
              "}\n",
              "\n",
              ".xr-obj-type {\n",
              "  color: var(--xr-font-color2);\n",
              "}\n",
              "\n",
              ".xr-sections {\n",
              "  padding-left: 0 !important;\n",
              "  display: grid;\n",
              "  grid-template-columns: 150px auto auto 1fr 20px 20px;\n",
              "}\n",
              "\n",
              ".xr-section-item {\n",
              "  display: contents;\n",
              "}\n",
              "\n",
              ".xr-section-item input {\n",
              "  display: none;\n",
              "}\n",
              "\n",
              ".xr-section-item input + label {\n",
              "  color: var(--xr-disabled-color);\n",
              "}\n",
              "\n",
              ".xr-section-item input:enabled + label {\n",
              "  cursor: pointer;\n",
              "  color: var(--xr-font-color2);\n",
              "}\n",
              "\n",
              ".xr-section-item input:enabled + label:hover {\n",
              "  color: var(--xr-font-color0);\n",
              "}\n",
              "\n",
              ".xr-section-summary {\n",
              "  grid-column: 1;\n",
              "  color: var(--xr-font-color2);\n",
              "  font-weight: 500;\n",
              "}\n",
              "\n",
              ".xr-section-summary > span {\n",
              "  display: inline-block;\n",
              "  padding-left: 0.5em;\n",
              "}\n",
              "\n",
              ".xr-section-summary-in:disabled + label {\n",
              "  color: var(--xr-font-color2);\n",
              "}\n",
              "\n",
              ".xr-section-summary-in + label:before {\n",
              "  display: inline-block;\n",
              "  content: '►';\n",
              "  font-size: 11px;\n",
              "  width: 15px;\n",
              "  text-align: center;\n",
              "}\n",
              "\n",
              ".xr-section-summary-in:disabled + label:before {\n",
              "  color: var(--xr-disabled-color);\n",
              "}\n",
              "\n",
              ".xr-section-summary-in:checked + label:before {\n",
              "  content: '▼';\n",
              "}\n",
              "\n",
              ".xr-section-summary-in:checked + label > span {\n",
              "  display: none;\n",
              "}\n",
              "\n",
              ".xr-section-summary,\n",
              ".xr-section-inline-details {\n",
              "  padding-top: 4px;\n",
              "  padding-bottom: 4px;\n",
              "}\n",
              "\n",
              ".xr-section-inline-details {\n",
              "  grid-column: 2 / -1;\n",
              "}\n",
              "\n",
              ".xr-section-details {\n",
              "  display: none;\n",
              "  grid-column: 1 / -1;\n",
              "  margin-bottom: 5px;\n",
              "}\n",
              "\n",
              ".xr-section-summary-in:checked ~ .xr-section-details {\n",
              "  display: contents;\n",
              "}\n",
              "\n",
              ".xr-array-wrap {\n",
              "  grid-column: 1 / -1;\n",
              "  display: grid;\n",
              "  grid-template-columns: 20px auto;\n",
              "}\n",
              "\n",
              ".xr-array-wrap > label {\n",
              "  grid-column: 1;\n",
              "  vertical-align: top;\n",
              "}\n",
              "\n",
              ".xr-preview {\n",
              "  color: var(--xr-font-color3);\n",
              "}\n",
              "\n",
              ".xr-array-preview,\n",
              ".xr-array-data {\n",
              "  padding: 0 5px !important;\n",
              "  grid-column: 2;\n",
              "}\n",
              "\n",
              ".xr-array-data,\n",
              ".xr-array-in:checked ~ .xr-array-preview {\n",
              "  display: none;\n",
              "}\n",
              "\n",
              ".xr-array-in:checked ~ .xr-array-data,\n",
              ".xr-array-preview {\n",
              "  display: inline-block;\n",
              "}\n",
              "\n",
              ".xr-dim-list {\n",
              "  display: inline-block !important;\n",
              "  list-style: none;\n",
              "  padding: 0 !important;\n",
              "  margin: 0;\n",
              "}\n",
              "\n",
              ".xr-dim-list li {\n",
              "  display: inline-block;\n",
              "  padding: 0;\n",
              "  margin: 0;\n",
              "}\n",
              "\n",
              ".xr-dim-list:before {\n",
              "  content: '(';\n",
              "}\n",
              "\n",
              ".xr-dim-list:after {\n",
              "  content: ')';\n",
              "}\n",
              "\n",
              ".xr-dim-list li:not(:last-child):after {\n",
              "  content: ',';\n",
              "  padding-right: 5px;\n",
              "}\n",
              "\n",
              ".xr-has-index {\n",
              "  font-weight: bold;\n",
              "}\n",
              "\n",
              ".xr-var-list,\n",
              ".xr-var-item {\n",
              "  display: contents;\n",
              "}\n",
              "\n",
              ".xr-var-item > div,\n",
              ".xr-var-item label,\n",
              ".xr-var-item > .xr-var-name span {\n",
              "  background-color: var(--xr-background-color-row-even);\n",
              "  margin-bottom: 0;\n",
              "}\n",
              "\n",
              ".xr-var-item > .xr-var-name:hover span {\n",
              "  padding-right: 5px;\n",
              "}\n",
              "\n",
              ".xr-var-list > li:nth-child(odd) > div,\n",
              ".xr-var-list > li:nth-child(odd) > label,\n",
              ".xr-var-list > li:nth-child(odd) > .xr-var-name span {\n",
              "  background-color: var(--xr-background-color-row-odd);\n",
              "}\n",
              "\n",
              ".xr-var-name {\n",
              "  grid-column: 1;\n",
              "}\n",
              "\n",
              ".xr-var-dims {\n",
              "  grid-column: 2;\n",
              "}\n",
              "\n",
              ".xr-var-dtype {\n",
              "  grid-column: 3;\n",
              "  text-align: right;\n",
              "  color: var(--xr-font-color2);\n",
              "}\n",
              "\n",
              ".xr-var-preview {\n",
              "  grid-column: 4;\n",
              "}\n",
              "\n",
              ".xr-var-name,\n",
              ".xr-var-dims,\n",
              ".xr-var-dtype,\n",
              ".xr-preview,\n",
              ".xr-attrs dt {\n",
              "  white-space: nowrap;\n",
              "  overflow: hidden;\n",
              "  text-overflow: ellipsis;\n",
              "  padding-right: 10px;\n",
              "}\n",
              "\n",
              ".xr-var-name:hover,\n",
              ".xr-var-dims:hover,\n",
              ".xr-var-dtype:hover,\n",
              ".xr-attrs dt:hover {\n",
              "  overflow: visible;\n",
              "  width: auto;\n",
              "  z-index: 1;\n",
              "}\n",
              "\n",
              ".xr-var-attrs,\n",
              ".xr-var-data {\n",
              "  display: none;\n",
              "  background-color: var(--xr-background-color) !important;\n",
              "  padding-bottom: 5px !important;\n",
              "}\n",
              "\n",
              ".xr-var-attrs-in:checked ~ .xr-var-attrs,\n",
              ".xr-var-data-in:checked ~ .xr-var-data {\n",
              "  display: block;\n",
              "}\n",
              "\n",
              ".xr-var-data > table {\n",
              "  float: right;\n",
              "}\n",
              "\n",
              ".xr-var-name span,\n",
              ".xr-var-data,\n",
              ".xr-attrs {\n",
              "  padding-left: 25px !important;\n",
              "}\n",
              "\n",
              ".xr-attrs,\n",
              ".xr-var-attrs,\n",
              ".xr-var-data {\n",
              "  grid-column: 1 / -1;\n",
              "}\n",
              "\n",
              "dl.xr-attrs {\n",
              "  padding: 0;\n",
              "  margin: 0;\n",
              "  display: grid;\n",
              "  grid-template-columns: 125px auto;\n",
              "}\n",
              "\n",
              ".xr-attrs dt,\n",
              ".xr-attrs dd {\n",
              "  padding: 0;\n",
              "  margin: 0;\n",
              "  float: left;\n",
              "  padding-right: 10px;\n",
              "  width: auto;\n",
              "}\n",
              "\n",
              ".xr-attrs dt {\n",
              "  font-weight: normal;\n",
              "  grid-column: 1;\n",
              "}\n",
              "\n",
              ".xr-attrs dt:hover span {\n",
              "  display: inline-block;\n",
              "  background: var(--xr-background-color);\n",
              "  padding-right: 10px;\n",
              "}\n",
              "\n",
              ".xr-attrs dd {\n",
              "  grid-column: 2;\n",
              "  white-space: pre-wrap;\n",
              "  word-break: break-all;\n",
              "}\n",
              "\n",
              ".xr-icon-database,\n",
              ".xr-icon-file-text2 {\n",
              "  display: inline-block;\n",
              "  vertical-align: middle;\n",
              "  width: 1em;\n",
              "  height: 1.5em !important;\n",
              "  stroke-width: 0;\n",
              "  stroke: currentColor;\n",
              "  fill: currentColor;\n",
              "}\n",
              "</style><pre class='xr-text-repr-fallback'>&lt;xarray.DataArray &#x27;tas&#x27; (year: 51, lat: 60, lon: 31)&gt;\n",
              "array([[[14.738458 , 15.580711 , 15.680508 , ..., 19.698128 ,\n",
              "         17.396368 , 16.172768 ],\n",
              "        [16.096243 , 14.9421015, 13.801631 , ..., 19.906225 ,\n",
              "         18.747665 , 19.038237 ],\n",
              "        [15.525561 , 16.116945 , 13.672528 , ..., 20.727442 ,\n",
              "         20.129179 , 19.63832  ],\n",
              "        ...,\n",
              "        [21.17287  , 20.997057 , 21.043495 , ..., 21.968573 ,\n",
              "         21.984781 , 22.028452 ],\n",
              "        [21.485071 , 21.435324 , 21.325289 , ..., 21.947678 ,\n",
              "         21.905212 , 22.003271 ],\n",
              "        [21.453278 , 21.109743 , 21.101942 , ..., 21.601896 ,\n",
              "         21.565138 , 21.718225 ]],\n",
              "\n",
              "       [[15.311507 , 16.156626 , 16.254566 , ..., 20.40051  ,\n",
              "         18.576645 , 17.154978 ],\n",
              "        [16.607782 , 15.514553 , 14.347018 , ..., 20.54039  ,\n",
              "         19.715746 , 19.916801 ],\n",
              "        [16.075933 , 16.68735  , 14.212643 , ..., 21.03251  ,\n",
              "         20.783209 , 20.348227 ],\n",
              "...\n",
              "        [22.696936 , 22.518715 , 22.564508 , ..., 23.751518 ,\n",
              "         23.748405 , 23.745338 ],\n",
              "        [23.048393 , 22.996527 , 22.880262 , ..., 23.854391 ,\n",
              "         23.769026 , 23.723902 ],\n",
              "        [23.022367 , 22.66744  , 22.559357 , ..., 23.609606 ,\n",
              "         23.397284 , 23.524225 ]],\n",
              "\n",
              "       [[16.831667 , 17.62446  , 17.718767 , ..., 19.952047 ,\n",
              "         17.67312  , 16.04723  ],\n",
              "        [17.945593 , 17.01195  , 16.073624 , ..., 20.138353 ,\n",
              "         18.95829  , 19.244894 ],\n",
              "        [17.48417  , 17.931387 , 15.97303  , ..., 21.089956 ,\n",
              "         20.403818 , 19.896544 ],\n",
              "        ...,\n",
              "        [22.422602 , 22.226    , 22.35785  , ..., 23.879995 ,\n",
              "         23.76209  , 23.746696 ],\n",
              "        [22.913263 , 22.861084 , 22.68001  , ..., 23.902182 ,\n",
              "         23.696127 , 23.7621   ],\n",
              "        [22.88804  , 22.472939 , 22.356943 , ..., 23.550934 ,\n",
              "         23.422571 , 23.54331  ]]], dtype=float32)\n",
              "Coordinates:\n",
              "  * lat      (lat) float32 24.6 24.6 24.61 24.62 ... 25.06 25.07 25.08 25.09\n",
              "  * lon      (lon) float32 121.3 121.3 121.3 121.3 ... 121.5 121.5 121.5 121.6\n",
              "  * year     (year) int64 1968 1969 1970 1971 1972 ... 2014 2015 2016 2017 2018</pre><div class='xr-wrap' style='display:none'><div class='xr-header'><div class='xr-obj-type'>xarray.DataArray</div><div class='xr-array-name'>'tas'</div><ul class='xr-dim-list'><li><span class='xr-has-index'>year</span>: 51</li><li><span class='xr-has-index'>lat</span>: 60</li><li><span class='xr-has-index'>lon</span>: 31</li></ul></div><ul class='xr-sections'><li class='xr-section-item'><div class='xr-array-wrap'><input id='section-eefb2a03-c340-49d5-a7aa-b49fa7131127' class='xr-array-in' type='checkbox' checked><label for='section-eefb2a03-c340-49d5-a7aa-b49fa7131127' title='Show/hide data repr'><svg class='icon xr-icon-database'><use xlink:href='#icon-database'></use></svg></label><div class='xr-array-preview xr-preview'><span>14.74 15.58 15.68 15.39 14.03 13.56 ... 23.85 23.76 23.55 23.42 23.54</span></div><div class='xr-array-data'><pre>array([[[14.738458 , 15.580711 , 15.680508 , ..., 19.698128 ,\n",
              "         17.396368 , 16.172768 ],\n",
              "        [16.096243 , 14.9421015, 13.801631 , ..., 19.906225 ,\n",
              "         18.747665 , 19.038237 ],\n",
              "        [15.525561 , 16.116945 , 13.672528 , ..., 20.727442 ,\n",
              "         20.129179 , 19.63832  ],\n",
              "        ...,\n",
              "        [21.17287  , 20.997057 , 21.043495 , ..., 21.968573 ,\n",
              "         21.984781 , 22.028452 ],\n",
              "        [21.485071 , 21.435324 , 21.325289 , ..., 21.947678 ,\n",
              "         21.905212 , 22.003271 ],\n",
              "        [21.453278 , 21.109743 , 21.101942 , ..., 21.601896 ,\n",
              "         21.565138 , 21.718225 ]],\n",
              "\n",
              "       [[15.311507 , 16.156626 , 16.254566 , ..., 20.40051  ,\n",
              "         18.576645 , 17.154978 ],\n",
              "        [16.607782 , 15.514553 , 14.347018 , ..., 20.54039  ,\n",
              "         19.715746 , 19.916801 ],\n",
              "        [16.075933 , 16.68735  , 14.212643 , ..., 21.03251  ,\n",
              "         20.783209 , 20.348227 ],\n",
              "...\n",
              "        [22.696936 , 22.518715 , 22.564508 , ..., 23.751518 ,\n",
              "         23.748405 , 23.745338 ],\n",
              "        [23.048393 , 22.996527 , 22.880262 , ..., 23.854391 ,\n",
              "         23.769026 , 23.723902 ],\n",
              "        [23.022367 , 22.66744  , 22.559357 , ..., 23.609606 ,\n",
              "         23.397284 , 23.524225 ]],\n",
              "\n",
              "       [[16.831667 , 17.62446  , 17.718767 , ..., 19.952047 ,\n",
              "         17.67312  , 16.04723  ],\n",
              "        [17.945593 , 17.01195  , 16.073624 , ..., 20.138353 ,\n",
              "         18.95829  , 19.244894 ],\n",
              "        [17.48417  , 17.931387 , 15.97303  , ..., 21.089956 ,\n",
              "         20.403818 , 19.896544 ],\n",
              "        ...,\n",
              "        [22.422602 , 22.226    , 22.35785  , ..., 23.879995 ,\n",
              "         23.76209  , 23.746696 ],\n",
              "        [22.913263 , 22.861084 , 22.68001  , ..., 23.902182 ,\n",
              "         23.696127 , 23.7621   ],\n",
              "        [22.88804  , 22.472939 , 22.356943 , ..., 23.550934 ,\n",
              "         23.422571 , 23.54331  ]]], dtype=float32)</pre></div></div></li><li class='xr-section-item'><input id='section-90fe41d0-0303-4097-adde-6f4f2472ea01' class='xr-section-summary-in' type='checkbox'  checked><label for='section-90fe41d0-0303-4097-adde-6f4f2472ea01' class='xr-section-summary' >Coordinates: <span>(3)</span></label><div class='xr-section-inline-details'></div><div class='xr-section-details'><ul class='xr-var-list'><li class='xr-var-item'><div class='xr-var-name'><span class='xr-has-index'>lat</span></div><div class='xr-var-dims'>(lat)</div><div class='xr-var-dtype'>float32</div><div class='xr-var-preview xr-preview'>24.6 24.6 24.61 ... 25.08 25.09</div><input id='attrs-e2ed248d-bc31-48b3-ac11-bd78cf27efc1' class='xr-var-attrs-in' type='checkbox' ><label for='attrs-e2ed248d-bc31-48b3-ac11-bd78cf27efc1' title='Show/Hide attributes'><svg class='icon xr-icon-file-text2'><use xlink:href='#icon-file-text2'></use></svg></label><input id='data-f3539971-752b-460f-a093-35dfe155c98c' class='xr-var-data-in' type='checkbox'><label for='data-f3539971-752b-460f-a093-35dfe155c98c' title='Show/Hide data repr'><svg class='icon xr-icon-database'><use xlink:href='#icon-database'></use></svg></label><div class='xr-var-attrs'><dl class='xr-attrs'><dt><span>standard_name :</span></dt><dd>latitude</dd><dt><span>axis :</span></dt><dd>Y</dd><dt><span>units :</span></dt><dd>degrees_north</dd><dt><span>long_name :</span></dt><dd>Latitude</dd></dl></div><div class='xr-var-data'><pre>array([24.59583 , 24.604164, 24.612497, 24.62083 , 24.629164, 24.637497,\n",
              "       24.645832, 24.654163, 24.662498, 24.670832, 24.679165, 24.687498,\n",
              "       24.695831, 24.704165, 24.712498, 24.72083 , 24.729164, 24.737497,\n",
              "       24.74583 , 24.754164, 24.762497, 24.770832, 24.779163, 24.787498,\n",
              "       24.795832, 24.804165, 24.812498, 24.820831, 24.829165, 24.837498,\n",
              "       24.84583 , 24.854164, 24.862497, 24.87083 , 24.879164, 24.887497,\n",
              "       24.89583 , 24.904163, 24.912498, 24.920832, 24.929165, 24.937498,\n",
              "       24.945831, 24.954165, 24.962498, 24.97083 , 24.979164, 24.987497,\n",
              "       24.99583 , 25.004164, 25.012497, 25.02083 , 25.029163, 25.037498,\n",
              "       25.045832, 25.054165, 25.062498, 25.070831, 25.079165, 25.087498],\n",
              "      dtype=float32)</pre></div></li><li class='xr-var-item'><div class='xr-var-name'><span class='xr-has-index'>lon</span></div><div class='xr-var-dims'>(lon)</div><div class='xr-var-dtype'>float32</div><div class='xr-var-preview xr-preview'>121.3 121.3 121.3 ... 121.5 121.6</div><input id='attrs-6718b2b8-55ba-484f-8c99-b55af6841c37' class='xr-var-attrs-in' type='checkbox' ><label for='attrs-6718b2b8-55ba-484f-8c99-b55af6841c37' title='Show/Hide attributes'><svg class='icon xr-icon-file-text2'><use xlink:href='#icon-file-text2'></use></svg></label><input id='data-2b181db7-e4e1-452e-b721-571294cdf12d' class='xr-var-data-in' type='checkbox'><label for='data-2b181db7-e4e1-452e-b721-571294cdf12d' title='Show/Hide data repr'><svg class='icon xr-icon-database'><use xlink:href='#icon-database'></use></svg></label><div class='xr-var-attrs'><dl class='xr-attrs'><dt><span>standard_name :</span></dt><dd>longitude</dd><dt><span>axis :</span></dt><dd>X</dd><dt><span>units :</span></dt><dd>degrees_east</dd><dt><span>long_name :</span></dt><dd>Longitude</dd></dl></div><div class='xr-var-data'><pre>array([121.30416 , 121.31249 , 121.32083 , 121.32916 , 121.337494, 121.345825,\n",
              "       121.354164, 121.362495, 121.37083 , 121.379166, 121.3875  , 121.39583 ,\n",
              "       121.40416 , 121.4125  , 121.42083 , 121.42916 , 121.43749 , 121.44583 ,\n",
              "       121.45416 , 121.462494, 121.470825, 121.479164, 121.487495, 121.49583 ,\n",
              "       121.50416 , 121.5125  , 121.52083 , 121.52916 , 121.5375  , 121.54583 ,\n",
              "       121.55416 ], dtype=float32)</pre></div></li><li class='xr-var-item'><div class='xr-var-name'><span class='xr-has-index'>year</span></div><div class='xr-var-dims'>(year)</div><div class='xr-var-dtype'>int64</div><div class='xr-var-preview xr-preview'>1968 1969 1970 ... 2016 2017 2018</div><input id='attrs-6b5fe1c7-bd94-43e8-92e9-7e3aa765b576' class='xr-var-attrs-in' type='checkbox' disabled><label for='attrs-6b5fe1c7-bd94-43e8-92e9-7e3aa765b576' title='Show/Hide attributes'><svg class='icon xr-icon-file-text2'><use xlink:href='#icon-file-text2'></use></svg></label><input id='data-b824d414-d414-41e9-939e-2b3dae436716' class='xr-var-data-in' type='checkbox'><label for='data-b824d414-d414-41e9-939e-2b3dae436716' title='Show/Hide data repr'><svg class='icon xr-icon-database'><use xlink:href='#icon-database'></use></svg></label><div class='xr-var-attrs'><dl class='xr-attrs'></dl></div><div class='xr-var-data'><pre>array([1968, 1969, 1970, 1971, 1972, 1973, 1974, 1975, 1976, 1977, 1978, 1979,\n",
              "       1980, 1981, 1982, 1983, 1984, 1985, 1986, 1987, 1988, 1989, 1990, 1991,\n",
              "       1992, 1993, 1994, 1995, 1996, 1997, 1998, 1999, 2000, 2001, 2002, 2003,\n",
              "       2004, 2005, 2006, 2007, 2008, 2009, 2010, 2011, 2012, 2013, 2014, 2015,\n",
              "       2016, 2017, 2018])</pre></div></li></ul></div></li><li class='xr-section-item'><input id='section-c663a973-25a7-4390-a13d-3005ac8a1cef' class='xr-section-summary-in' type='checkbox' disabled ><label for='section-c663a973-25a7-4390-a13d-3005ac8a1cef' class='xr-section-summary'  title='Expand/collapse section'>Attributes: <span>(0)</span></label><div class='xr-section-inline-details'></div><div class='xr-section-details'><dl class='xr-attrs'></dl></div></li></ul></div></div>"
            ]
          },
          "metadata": {},
          "execution_count": 15
        }
      ]
    },
    {
      "cell_type": "code",
      "source": [
        "df = pd.read_csv(r'/content/drive/MyDrive/Colab_data/TPconsump.csv', header=0, sep=',')\n",
        "print(df)"
      ],
      "metadata": {
        "colab": {
          "base_uri": "https://localhost:8080/"
        },
        "id": "4QvcNcuzEviX",
        "outputId": "4190617a-fadc-43dc-c093-eadbb6c9f8cf"
      },
      "execution_count": null,
      "outputs": [
        {
          "output_type": "stream",
          "name": "stdout",
          "text": [
            "    year  Domestic  Foreign\n",
            "0   1968    392990     1301\n",
            "1   1969    316995     1791\n",
            "2   1970    323170     1974\n",
            "3   1971    337500     2725\n",
            "4   1972    360229     2772\n",
            "5   1973    434945     4425\n",
            "6   1974    401367     4341\n",
            "7   1975    423579     5474\n",
            "8   1976    468783     7366\n",
            "9   1977    531057     8932\n",
            "10  1978    621739    10390\n",
            "11  1979    716892    12323\n",
            "12  1980    736044    14753\n",
            "13  1981    722094    15992\n",
            "14  1982    749011    16946\n",
            "15  1983    800679    19337\n",
            "16  1984    823638    21885\n",
            "17  1985    879612    21491\n",
            "18  1986    923863    23039\n",
            "19  1987    992990    23258\n",
            "20  1988   1005927    26148\n",
            "21  1989   1062078    27382\n",
            "22  1990   1041849    31621\n",
            "23  1991   1034170    29746\n",
            "24  1992    945193    27228\n",
            "25  1993    886331    19856\n",
            "26  1994    869693    11615\n",
            "27  1995    774850    14122\n",
            "28  1996    707627    17700\n",
            "29  1997    655902    16680\n",
            "30  1998    677712    14520\n",
            "31  1999    727061    14305\n",
            "32  2000    770655    17490\n",
            "33  2001    843412     9817\n",
            "34  2002    677769     4578\n",
            "35  2003    724090     1729\n",
            "36  2004    643046     1284\n",
            "37  2005    563008     1318\n",
            "38  2006    637500     1475\n",
            "39  2007    584897     1427\n",
            "40  2008    590679     1283\n",
            "41  2009    601997      999\n",
            "42  2010    617250     1129\n",
            "43  2011    678277     1068\n",
            "44  2012    668475       15\n",
            "45  2013    642578     1018\n",
            "46  2014    634136     1056\n",
            "47  2015    645986     1190\n",
            "48  2016    644546     1293\n",
            "49  2017    651542     1342\n",
            "50  2018    608927     1137\n"
          ]
        }
      ]
    },
    {
      "cell_type": "code",
      "source": [
        "df_for = df.Foreign\n",
        "df_for1 = df_for.to_xarray()\n"
      ],
      "metadata": {
        "id": "ZBPs4RW_E-Ev"
      },
      "execution_count": null,
      "outputs": []
    },
    {
      "cell_type": "code",
      "source": [
        "#Method I: xarray\n",
        "#r_map=xr.corr(con06,val_yr,dim='year')\n",
        "r_map=xr.corr(df_for1,val_yr[:,:,:],dim='year')\n",
        "r_map\n"
      ],
      "metadata": {
        "id": "cdMM2qYLTCmD",
        "colab": {
          "base_uri": "https://localhost:8080/",
          "height": 885
        },
        "outputId": "1d6d47f4-38bf-449a-dabe-2874f0a96f56"
      },
      "execution_count": 65,
      "outputs": [
        {
          "output_type": "execute_result",
          "data": {
            "text/plain": [
              "<xarray.DataArray (index: 51, lat: 60, lon: 31)>\n",
              "array([[[nan, nan, nan, ..., nan, nan, nan],\n",
              "        [nan, nan, nan, ..., nan, nan, nan],\n",
              "        [nan, nan, nan, ..., nan, nan, nan],\n",
              "        ...,\n",
              "        [nan, nan, nan, ..., nan, nan, nan],\n",
              "        [nan, nan, nan, ..., nan, nan, nan],\n",
              "        [nan, nan, nan, ..., nan, nan, nan]],\n",
              "\n",
              "       [[nan, nan, nan, ..., nan, nan, nan],\n",
              "        [nan, nan, nan, ..., nan, nan, nan],\n",
              "        [nan, nan, nan, ..., nan, nan, nan],\n",
              "        ...,\n",
              "        [nan, nan, nan, ..., nan, nan, nan],\n",
              "        [nan, nan, nan, ..., nan, nan, nan],\n",
              "        [nan, nan, nan, ..., nan, nan, nan]],\n",
              "\n",
              "       [[nan, nan, nan, ..., nan, nan, nan],\n",
              "        [nan, nan, nan, ..., nan, nan, nan],\n",
              "        [nan, nan, nan, ..., nan, nan, nan],\n",
              "        ...,\n",
              "...\n",
              "        ...,\n",
              "        [nan, nan, nan, ..., nan, nan, nan],\n",
              "        [nan, nan, nan, ..., nan, nan, nan],\n",
              "        [nan, nan, nan, ..., nan, nan, nan]],\n",
              "\n",
              "       [[nan, nan, nan, ..., nan, nan, nan],\n",
              "        [nan, nan, nan, ..., nan, nan, nan],\n",
              "        [nan, nan, nan, ..., nan, nan, nan],\n",
              "        ...,\n",
              "        [nan, nan, nan, ..., nan, nan, nan],\n",
              "        [nan, nan, nan, ..., nan, nan, nan],\n",
              "        [nan, nan, nan, ..., nan, nan, nan]],\n",
              "\n",
              "       [[nan, nan, nan, ..., nan, nan, nan],\n",
              "        [nan, nan, nan, ..., nan, nan, nan],\n",
              "        [nan, nan, nan, ..., nan, nan, nan],\n",
              "        ...,\n",
              "        [nan, nan, nan, ..., nan, nan, nan],\n",
              "        [nan, nan, nan, ..., nan, nan, nan],\n",
              "        [nan, nan, nan, ..., nan, nan, nan]]])\n",
              "Coordinates:\n",
              "  * index    (index) int64 0 1 2 3 4 5 6 7 8 9 ... 41 42 43 44 45 46 47 48 49 50\n",
              "  * lat      (lat) float32 24.6 24.6 24.61 24.62 ... 25.06 25.07 25.08 25.09\n",
              "  * lon      (lon) float32 121.3 121.3 121.3 121.3 ... 121.5 121.5 121.5 121.6"
            ],
            "text/html": [
              "<div><svg style=\"position: absolute; width: 0; height: 0; overflow: hidden\">\n",
              "<defs>\n",
              "<symbol id=\"icon-database\" viewBox=\"0 0 32 32\">\n",
              "<path d=\"M16 0c-8.837 0-16 2.239-16 5v4c0 2.761 7.163 5 16 5s16-2.239 16-5v-4c0-2.761-7.163-5-16-5z\"></path>\n",
              "<path d=\"M16 17c-8.837 0-16-2.239-16-5v6c0 2.761 7.163 5 16 5s16-2.239 16-5v-6c0 2.761-7.163 5-16 5z\"></path>\n",
              "<path d=\"M16 26c-8.837 0-16-2.239-16-5v6c0 2.761 7.163 5 16 5s16-2.239 16-5v-6c0 2.761-7.163 5-16 5z\"></path>\n",
              "</symbol>\n",
              "<symbol id=\"icon-file-text2\" viewBox=\"0 0 32 32\">\n",
              "<path d=\"M28.681 7.159c-0.694-0.947-1.662-2.053-2.724-3.116s-2.169-2.030-3.116-2.724c-1.612-1.182-2.393-1.319-2.841-1.319h-15.5c-1.378 0-2.5 1.121-2.5 2.5v27c0 1.378 1.122 2.5 2.5 2.5h23c1.378 0 2.5-1.122 2.5-2.5v-19.5c0-0.448-0.137-1.23-1.319-2.841zM24.543 5.457c0.959 0.959 1.712 1.825 2.268 2.543h-4.811v-4.811c0.718 0.556 1.584 1.309 2.543 2.268zM28 29.5c0 0.271-0.229 0.5-0.5 0.5h-23c-0.271 0-0.5-0.229-0.5-0.5v-27c0-0.271 0.229-0.5 0.5-0.5 0 0 15.499-0 15.5 0v7c0 0.552 0.448 1 1 1h7v19.5z\"></path>\n",
              "<path d=\"M23 26h-14c-0.552 0-1-0.448-1-1s0.448-1 1-1h14c0.552 0 1 0.448 1 1s-0.448 1-1 1z\"></path>\n",
              "<path d=\"M23 22h-14c-0.552 0-1-0.448-1-1s0.448-1 1-1h14c0.552 0 1 0.448 1 1s-0.448 1-1 1z\"></path>\n",
              "<path d=\"M23 18h-14c-0.552 0-1-0.448-1-1s0.448-1 1-1h14c0.552 0 1 0.448 1 1s-0.448 1-1 1z\"></path>\n",
              "</symbol>\n",
              "</defs>\n",
              "</svg>\n",
              "<style>/* CSS stylesheet for displaying xarray objects in jupyterlab.\n",
              " *\n",
              " */\n",
              "\n",
              ":root {\n",
              "  --xr-font-color0: var(--jp-content-font-color0, rgba(0, 0, 0, 1));\n",
              "  --xr-font-color2: var(--jp-content-font-color2, rgba(0, 0, 0, 0.54));\n",
              "  --xr-font-color3: var(--jp-content-font-color3, rgba(0, 0, 0, 0.38));\n",
              "  --xr-border-color: var(--jp-border-color2, #e0e0e0);\n",
              "  --xr-disabled-color: var(--jp-layout-color3, #bdbdbd);\n",
              "  --xr-background-color: var(--jp-layout-color0, white);\n",
              "  --xr-background-color-row-even: var(--jp-layout-color1, white);\n",
              "  --xr-background-color-row-odd: var(--jp-layout-color2, #eeeeee);\n",
              "}\n",
              "\n",
              "html[theme=dark],\n",
              "body.vscode-dark {\n",
              "  --xr-font-color0: rgba(255, 255, 255, 1);\n",
              "  --xr-font-color2: rgba(255, 255, 255, 0.54);\n",
              "  --xr-font-color3: rgba(255, 255, 255, 0.38);\n",
              "  --xr-border-color: #1F1F1F;\n",
              "  --xr-disabled-color: #515151;\n",
              "  --xr-background-color: #111111;\n",
              "  --xr-background-color-row-even: #111111;\n",
              "  --xr-background-color-row-odd: #313131;\n",
              "}\n",
              "\n",
              ".xr-wrap {\n",
              "  display: block !important;\n",
              "  min-width: 300px;\n",
              "  max-width: 700px;\n",
              "}\n",
              "\n",
              ".xr-text-repr-fallback {\n",
              "  /* fallback to plain text repr when CSS is not injected (untrusted notebook) */\n",
              "  display: none;\n",
              "}\n",
              "\n",
              ".xr-header {\n",
              "  padding-top: 6px;\n",
              "  padding-bottom: 6px;\n",
              "  margin-bottom: 4px;\n",
              "  border-bottom: solid 1px var(--xr-border-color);\n",
              "}\n",
              "\n",
              ".xr-header > div,\n",
              ".xr-header > ul {\n",
              "  display: inline;\n",
              "  margin-top: 0;\n",
              "  margin-bottom: 0;\n",
              "}\n",
              "\n",
              ".xr-obj-type,\n",
              ".xr-array-name {\n",
              "  margin-left: 2px;\n",
              "  margin-right: 10px;\n",
              "}\n",
              "\n",
              ".xr-obj-type {\n",
              "  color: var(--xr-font-color2);\n",
              "}\n",
              "\n",
              ".xr-sections {\n",
              "  padding-left: 0 !important;\n",
              "  display: grid;\n",
              "  grid-template-columns: 150px auto auto 1fr 20px 20px;\n",
              "}\n",
              "\n",
              ".xr-section-item {\n",
              "  display: contents;\n",
              "}\n",
              "\n",
              ".xr-section-item input {\n",
              "  display: none;\n",
              "}\n",
              "\n",
              ".xr-section-item input + label {\n",
              "  color: var(--xr-disabled-color);\n",
              "}\n",
              "\n",
              ".xr-section-item input:enabled + label {\n",
              "  cursor: pointer;\n",
              "  color: var(--xr-font-color2);\n",
              "}\n",
              "\n",
              ".xr-section-item input:enabled + label:hover {\n",
              "  color: var(--xr-font-color0);\n",
              "}\n",
              "\n",
              ".xr-section-summary {\n",
              "  grid-column: 1;\n",
              "  color: var(--xr-font-color2);\n",
              "  font-weight: 500;\n",
              "}\n",
              "\n",
              ".xr-section-summary > span {\n",
              "  display: inline-block;\n",
              "  padding-left: 0.5em;\n",
              "}\n",
              "\n",
              ".xr-section-summary-in:disabled + label {\n",
              "  color: var(--xr-font-color2);\n",
              "}\n",
              "\n",
              ".xr-section-summary-in + label:before {\n",
              "  display: inline-block;\n",
              "  content: '►';\n",
              "  font-size: 11px;\n",
              "  width: 15px;\n",
              "  text-align: center;\n",
              "}\n",
              "\n",
              ".xr-section-summary-in:disabled + label:before {\n",
              "  color: var(--xr-disabled-color);\n",
              "}\n",
              "\n",
              ".xr-section-summary-in:checked + label:before {\n",
              "  content: '▼';\n",
              "}\n",
              "\n",
              ".xr-section-summary-in:checked + label > span {\n",
              "  display: none;\n",
              "}\n",
              "\n",
              ".xr-section-summary,\n",
              ".xr-section-inline-details {\n",
              "  padding-top: 4px;\n",
              "  padding-bottom: 4px;\n",
              "}\n",
              "\n",
              ".xr-section-inline-details {\n",
              "  grid-column: 2 / -1;\n",
              "}\n",
              "\n",
              ".xr-section-details {\n",
              "  display: none;\n",
              "  grid-column: 1 / -1;\n",
              "  margin-bottom: 5px;\n",
              "}\n",
              "\n",
              ".xr-section-summary-in:checked ~ .xr-section-details {\n",
              "  display: contents;\n",
              "}\n",
              "\n",
              ".xr-array-wrap {\n",
              "  grid-column: 1 / -1;\n",
              "  display: grid;\n",
              "  grid-template-columns: 20px auto;\n",
              "}\n",
              "\n",
              ".xr-array-wrap > label {\n",
              "  grid-column: 1;\n",
              "  vertical-align: top;\n",
              "}\n",
              "\n",
              ".xr-preview {\n",
              "  color: var(--xr-font-color3);\n",
              "}\n",
              "\n",
              ".xr-array-preview,\n",
              ".xr-array-data {\n",
              "  padding: 0 5px !important;\n",
              "  grid-column: 2;\n",
              "}\n",
              "\n",
              ".xr-array-data,\n",
              ".xr-array-in:checked ~ .xr-array-preview {\n",
              "  display: none;\n",
              "}\n",
              "\n",
              ".xr-array-in:checked ~ .xr-array-data,\n",
              ".xr-array-preview {\n",
              "  display: inline-block;\n",
              "}\n",
              "\n",
              ".xr-dim-list {\n",
              "  display: inline-block !important;\n",
              "  list-style: none;\n",
              "  padding: 0 !important;\n",
              "  margin: 0;\n",
              "}\n",
              "\n",
              ".xr-dim-list li {\n",
              "  display: inline-block;\n",
              "  padding: 0;\n",
              "  margin: 0;\n",
              "}\n",
              "\n",
              ".xr-dim-list:before {\n",
              "  content: '(';\n",
              "}\n",
              "\n",
              ".xr-dim-list:after {\n",
              "  content: ')';\n",
              "}\n",
              "\n",
              ".xr-dim-list li:not(:last-child):after {\n",
              "  content: ',';\n",
              "  padding-right: 5px;\n",
              "}\n",
              "\n",
              ".xr-has-index {\n",
              "  font-weight: bold;\n",
              "}\n",
              "\n",
              ".xr-var-list,\n",
              ".xr-var-item {\n",
              "  display: contents;\n",
              "}\n",
              "\n",
              ".xr-var-item > div,\n",
              ".xr-var-item label,\n",
              ".xr-var-item > .xr-var-name span {\n",
              "  background-color: var(--xr-background-color-row-even);\n",
              "  margin-bottom: 0;\n",
              "}\n",
              "\n",
              ".xr-var-item > .xr-var-name:hover span {\n",
              "  padding-right: 5px;\n",
              "}\n",
              "\n",
              ".xr-var-list > li:nth-child(odd) > div,\n",
              ".xr-var-list > li:nth-child(odd) > label,\n",
              ".xr-var-list > li:nth-child(odd) > .xr-var-name span {\n",
              "  background-color: var(--xr-background-color-row-odd);\n",
              "}\n",
              "\n",
              ".xr-var-name {\n",
              "  grid-column: 1;\n",
              "}\n",
              "\n",
              ".xr-var-dims {\n",
              "  grid-column: 2;\n",
              "}\n",
              "\n",
              ".xr-var-dtype {\n",
              "  grid-column: 3;\n",
              "  text-align: right;\n",
              "  color: var(--xr-font-color2);\n",
              "}\n",
              "\n",
              ".xr-var-preview {\n",
              "  grid-column: 4;\n",
              "}\n",
              "\n",
              ".xr-var-name,\n",
              ".xr-var-dims,\n",
              ".xr-var-dtype,\n",
              ".xr-preview,\n",
              ".xr-attrs dt {\n",
              "  white-space: nowrap;\n",
              "  overflow: hidden;\n",
              "  text-overflow: ellipsis;\n",
              "  padding-right: 10px;\n",
              "}\n",
              "\n",
              ".xr-var-name:hover,\n",
              ".xr-var-dims:hover,\n",
              ".xr-var-dtype:hover,\n",
              ".xr-attrs dt:hover {\n",
              "  overflow: visible;\n",
              "  width: auto;\n",
              "  z-index: 1;\n",
              "}\n",
              "\n",
              ".xr-var-attrs,\n",
              ".xr-var-data {\n",
              "  display: none;\n",
              "  background-color: var(--xr-background-color) !important;\n",
              "  padding-bottom: 5px !important;\n",
              "}\n",
              "\n",
              ".xr-var-attrs-in:checked ~ .xr-var-attrs,\n",
              ".xr-var-data-in:checked ~ .xr-var-data {\n",
              "  display: block;\n",
              "}\n",
              "\n",
              ".xr-var-data > table {\n",
              "  float: right;\n",
              "}\n",
              "\n",
              ".xr-var-name span,\n",
              ".xr-var-data,\n",
              ".xr-attrs {\n",
              "  padding-left: 25px !important;\n",
              "}\n",
              "\n",
              ".xr-attrs,\n",
              ".xr-var-attrs,\n",
              ".xr-var-data {\n",
              "  grid-column: 1 / -1;\n",
              "}\n",
              "\n",
              "dl.xr-attrs {\n",
              "  padding: 0;\n",
              "  margin: 0;\n",
              "  display: grid;\n",
              "  grid-template-columns: 125px auto;\n",
              "}\n",
              "\n",
              ".xr-attrs dt,\n",
              ".xr-attrs dd {\n",
              "  padding: 0;\n",
              "  margin: 0;\n",
              "  float: left;\n",
              "  padding-right: 10px;\n",
              "  width: auto;\n",
              "}\n",
              "\n",
              ".xr-attrs dt {\n",
              "  font-weight: normal;\n",
              "  grid-column: 1;\n",
              "}\n",
              "\n",
              ".xr-attrs dt:hover span {\n",
              "  display: inline-block;\n",
              "  background: var(--xr-background-color);\n",
              "  padding-right: 10px;\n",
              "}\n",
              "\n",
              ".xr-attrs dd {\n",
              "  grid-column: 2;\n",
              "  white-space: pre-wrap;\n",
              "  word-break: break-all;\n",
              "}\n",
              "\n",
              ".xr-icon-database,\n",
              ".xr-icon-file-text2 {\n",
              "  display: inline-block;\n",
              "  vertical-align: middle;\n",
              "  width: 1em;\n",
              "  height: 1.5em !important;\n",
              "  stroke-width: 0;\n",
              "  stroke: currentColor;\n",
              "  fill: currentColor;\n",
              "}\n",
              "</style><pre class='xr-text-repr-fallback'>&lt;xarray.DataArray (index: 51, lat: 60, lon: 31)&gt;\n",
              "array([[[nan, nan, nan, ..., nan, nan, nan],\n",
              "        [nan, nan, nan, ..., nan, nan, nan],\n",
              "        [nan, nan, nan, ..., nan, nan, nan],\n",
              "        ...,\n",
              "        [nan, nan, nan, ..., nan, nan, nan],\n",
              "        [nan, nan, nan, ..., nan, nan, nan],\n",
              "        [nan, nan, nan, ..., nan, nan, nan]],\n",
              "\n",
              "       [[nan, nan, nan, ..., nan, nan, nan],\n",
              "        [nan, nan, nan, ..., nan, nan, nan],\n",
              "        [nan, nan, nan, ..., nan, nan, nan],\n",
              "        ...,\n",
              "        [nan, nan, nan, ..., nan, nan, nan],\n",
              "        [nan, nan, nan, ..., nan, nan, nan],\n",
              "        [nan, nan, nan, ..., nan, nan, nan]],\n",
              "\n",
              "       [[nan, nan, nan, ..., nan, nan, nan],\n",
              "        [nan, nan, nan, ..., nan, nan, nan],\n",
              "        [nan, nan, nan, ..., nan, nan, nan],\n",
              "        ...,\n",
              "...\n",
              "        ...,\n",
              "        [nan, nan, nan, ..., nan, nan, nan],\n",
              "        [nan, nan, nan, ..., nan, nan, nan],\n",
              "        [nan, nan, nan, ..., nan, nan, nan]],\n",
              "\n",
              "       [[nan, nan, nan, ..., nan, nan, nan],\n",
              "        [nan, nan, nan, ..., nan, nan, nan],\n",
              "        [nan, nan, nan, ..., nan, nan, nan],\n",
              "        ...,\n",
              "        [nan, nan, nan, ..., nan, nan, nan],\n",
              "        [nan, nan, nan, ..., nan, nan, nan],\n",
              "        [nan, nan, nan, ..., nan, nan, nan]],\n",
              "\n",
              "       [[nan, nan, nan, ..., nan, nan, nan],\n",
              "        [nan, nan, nan, ..., nan, nan, nan],\n",
              "        [nan, nan, nan, ..., nan, nan, nan],\n",
              "        ...,\n",
              "        [nan, nan, nan, ..., nan, nan, nan],\n",
              "        [nan, nan, nan, ..., nan, nan, nan],\n",
              "        [nan, nan, nan, ..., nan, nan, nan]]])\n",
              "Coordinates:\n",
              "  * index    (index) int64 0 1 2 3 4 5 6 7 8 9 ... 41 42 43 44 45 46 47 48 49 50\n",
              "  * lat      (lat) float32 24.6 24.6 24.61 24.62 ... 25.06 25.07 25.08 25.09\n",
              "  * lon      (lon) float32 121.3 121.3 121.3 121.3 ... 121.5 121.5 121.5 121.6</pre><div class='xr-wrap' style='display:none'><div class='xr-header'><div class='xr-obj-type'>xarray.DataArray</div><div class='xr-array-name'></div><ul class='xr-dim-list'><li><span class='xr-has-index'>index</span>: 51</li><li><span class='xr-has-index'>lat</span>: 60</li><li><span class='xr-has-index'>lon</span>: 31</li></ul></div><ul class='xr-sections'><li class='xr-section-item'><div class='xr-array-wrap'><input id='section-9ffd2295-7f0d-46b4-afad-c7ba9ad1e3eb' class='xr-array-in' type='checkbox' checked><label for='section-9ffd2295-7f0d-46b4-afad-c7ba9ad1e3eb' title='Show/hide data repr'><svg class='icon xr-icon-database'><use xlink:href='#icon-database'></use></svg></label><div class='xr-array-preview xr-preview'><span>nan nan nan nan nan nan nan nan ... nan nan nan nan nan nan nan nan</span></div><div class='xr-array-data'><pre>array([[[nan, nan, nan, ..., nan, nan, nan],\n",
              "        [nan, nan, nan, ..., nan, nan, nan],\n",
              "        [nan, nan, nan, ..., nan, nan, nan],\n",
              "        ...,\n",
              "        [nan, nan, nan, ..., nan, nan, nan],\n",
              "        [nan, nan, nan, ..., nan, nan, nan],\n",
              "        [nan, nan, nan, ..., nan, nan, nan]],\n",
              "\n",
              "       [[nan, nan, nan, ..., nan, nan, nan],\n",
              "        [nan, nan, nan, ..., nan, nan, nan],\n",
              "        [nan, nan, nan, ..., nan, nan, nan],\n",
              "        ...,\n",
              "        [nan, nan, nan, ..., nan, nan, nan],\n",
              "        [nan, nan, nan, ..., nan, nan, nan],\n",
              "        [nan, nan, nan, ..., nan, nan, nan]],\n",
              "\n",
              "       [[nan, nan, nan, ..., nan, nan, nan],\n",
              "        [nan, nan, nan, ..., nan, nan, nan],\n",
              "        [nan, nan, nan, ..., nan, nan, nan],\n",
              "        ...,\n",
              "...\n",
              "        ...,\n",
              "        [nan, nan, nan, ..., nan, nan, nan],\n",
              "        [nan, nan, nan, ..., nan, nan, nan],\n",
              "        [nan, nan, nan, ..., nan, nan, nan]],\n",
              "\n",
              "       [[nan, nan, nan, ..., nan, nan, nan],\n",
              "        [nan, nan, nan, ..., nan, nan, nan],\n",
              "        [nan, nan, nan, ..., nan, nan, nan],\n",
              "        ...,\n",
              "        [nan, nan, nan, ..., nan, nan, nan],\n",
              "        [nan, nan, nan, ..., nan, nan, nan],\n",
              "        [nan, nan, nan, ..., nan, nan, nan]],\n",
              "\n",
              "       [[nan, nan, nan, ..., nan, nan, nan],\n",
              "        [nan, nan, nan, ..., nan, nan, nan],\n",
              "        [nan, nan, nan, ..., nan, nan, nan],\n",
              "        ...,\n",
              "        [nan, nan, nan, ..., nan, nan, nan],\n",
              "        [nan, nan, nan, ..., nan, nan, nan],\n",
              "        [nan, nan, nan, ..., nan, nan, nan]]])</pre></div></div></li><li class='xr-section-item'><input id='section-e8091288-bdbb-4076-9750-e10517a36011' class='xr-section-summary-in' type='checkbox'  checked><label for='section-e8091288-bdbb-4076-9750-e10517a36011' class='xr-section-summary' >Coordinates: <span>(3)</span></label><div class='xr-section-inline-details'></div><div class='xr-section-details'><ul class='xr-var-list'><li class='xr-var-item'><div class='xr-var-name'><span class='xr-has-index'>index</span></div><div class='xr-var-dims'>(index)</div><div class='xr-var-dtype'>int64</div><div class='xr-var-preview xr-preview'>0 1 2 3 4 5 6 ... 45 46 47 48 49 50</div><input id='attrs-9f7c1331-e37f-4924-aed7-43098bc7fb09' class='xr-var-attrs-in' type='checkbox' disabled><label for='attrs-9f7c1331-e37f-4924-aed7-43098bc7fb09' title='Show/Hide attributes'><svg class='icon xr-icon-file-text2'><use xlink:href='#icon-file-text2'></use></svg></label><input id='data-a3e22f9b-c034-42ea-8b0a-278fb1f07dc4' class='xr-var-data-in' type='checkbox'><label for='data-a3e22f9b-c034-42ea-8b0a-278fb1f07dc4' title='Show/Hide data repr'><svg class='icon xr-icon-database'><use xlink:href='#icon-database'></use></svg></label><div class='xr-var-attrs'><dl class='xr-attrs'></dl></div><div class='xr-var-data'><pre>array([ 0,  1,  2,  3,  4,  5,  6,  7,  8,  9, 10, 11, 12, 13, 14, 15, 16, 17,\n",
              "       18, 19, 20, 21, 22, 23, 24, 25, 26, 27, 28, 29, 30, 31, 32, 33, 34, 35,\n",
              "       36, 37, 38, 39, 40, 41, 42, 43, 44, 45, 46, 47, 48, 49, 50])</pre></div></li><li class='xr-var-item'><div class='xr-var-name'><span class='xr-has-index'>lat</span></div><div class='xr-var-dims'>(lat)</div><div class='xr-var-dtype'>float32</div><div class='xr-var-preview xr-preview'>24.6 24.6 24.61 ... 25.08 25.09</div><input id='attrs-d75015d0-3e47-4d74-b94a-0a0c1a1a383a' class='xr-var-attrs-in' type='checkbox' ><label for='attrs-d75015d0-3e47-4d74-b94a-0a0c1a1a383a' title='Show/Hide attributes'><svg class='icon xr-icon-file-text2'><use xlink:href='#icon-file-text2'></use></svg></label><input id='data-697c0de7-c612-4093-b40b-206715da26a6' class='xr-var-data-in' type='checkbox'><label for='data-697c0de7-c612-4093-b40b-206715da26a6' title='Show/Hide data repr'><svg class='icon xr-icon-database'><use xlink:href='#icon-database'></use></svg></label><div class='xr-var-attrs'><dl class='xr-attrs'><dt><span>standard_name :</span></dt><dd>latitude</dd><dt><span>axis :</span></dt><dd>Y</dd><dt><span>units :</span></dt><dd>degrees_north</dd><dt><span>long_name :</span></dt><dd>Latitude</dd></dl></div><div class='xr-var-data'><pre>array([24.59583 , 24.604164, 24.612497, 24.62083 , 24.629164, 24.637497,\n",
              "       24.645832, 24.654163, 24.662498, 24.670832, 24.679165, 24.687498,\n",
              "       24.695831, 24.704165, 24.712498, 24.72083 , 24.729164, 24.737497,\n",
              "       24.74583 , 24.754164, 24.762497, 24.770832, 24.779163, 24.787498,\n",
              "       24.795832, 24.804165, 24.812498, 24.820831, 24.829165, 24.837498,\n",
              "       24.84583 , 24.854164, 24.862497, 24.87083 , 24.879164, 24.887497,\n",
              "       24.89583 , 24.904163, 24.912498, 24.920832, 24.929165, 24.937498,\n",
              "       24.945831, 24.954165, 24.962498, 24.97083 , 24.979164, 24.987497,\n",
              "       24.99583 , 25.004164, 25.012497, 25.02083 , 25.029163, 25.037498,\n",
              "       25.045832, 25.054165, 25.062498, 25.070831, 25.079165, 25.087498],\n",
              "      dtype=float32)</pre></div></li><li class='xr-var-item'><div class='xr-var-name'><span class='xr-has-index'>lon</span></div><div class='xr-var-dims'>(lon)</div><div class='xr-var-dtype'>float32</div><div class='xr-var-preview xr-preview'>121.3 121.3 121.3 ... 121.5 121.6</div><input id='attrs-6480d8db-d3be-4c9f-87aa-366080a56666' class='xr-var-attrs-in' type='checkbox' ><label for='attrs-6480d8db-d3be-4c9f-87aa-366080a56666' title='Show/Hide attributes'><svg class='icon xr-icon-file-text2'><use xlink:href='#icon-file-text2'></use></svg></label><input id='data-f5ceb506-fe3a-4b2d-8051-9630573cdc4e' class='xr-var-data-in' type='checkbox'><label for='data-f5ceb506-fe3a-4b2d-8051-9630573cdc4e' title='Show/Hide data repr'><svg class='icon xr-icon-database'><use xlink:href='#icon-database'></use></svg></label><div class='xr-var-attrs'><dl class='xr-attrs'><dt><span>standard_name :</span></dt><dd>longitude</dd><dt><span>axis :</span></dt><dd>X</dd><dt><span>units :</span></dt><dd>degrees_east</dd><dt><span>long_name :</span></dt><dd>Longitude</dd></dl></div><div class='xr-var-data'><pre>array([121.30416 , 121.31249 , 121.32083 , 121.32916 , 121.337494, 121.345825,\n",
              "       121.354164, 121.362495, 121.37083 , 121.379166, 121.3875  , 121.39583 ,\n",
              "       121.40416 , 121.4125  , 121.42083 , 121.42916 , 121.43749 , 121.44583 ,\n",
              "       121.45416 , 121.462494, 121.470825, 121.479164, 121.487495, 121.49583 ,\n",
              "       121.50416 , 121.5125  , 121.52083 , 121.52916 , 121.5375  , 121.54583 ,\n",
              "       121.55416 ], dtype=float32)</pre></div></li></ul></div></li><li class='xr-section-item'><input id='section-b5e5a92e-6808-45dc-a2f8-fc6e8bfb8b59' class='xr-section-summary-in' type='checkbox' disabled ><label for='section-b5e5a92e-6808-45dc-a2f8-fc6e8bfb8b59' class='xr-section-summary'  title='Expand/collapse section'>Attributes: <span>(0)</span></label><div class='xr-section-inline-details'></div><div class='xr-section-details'><dl class='xr-attrs'></dl></div></li></ul></div></div>"
            ]
          },
          "metadata": {},
          "execution_count": 65
        }
      ]
    },
    {
      "cell_type": "code",
      "source": [
        "print(con06)"
      ],
      "metadata": {
        "id": "i4rpI6LrtB_U",
        "colab": {
          "base_uri": "https://localhost:8080/"
        },
        "outputId": "e6f64bc3-86ca-469f-e0a3-8f1fac99c6d9"
      },
      "execution_count": null,
      "outputs": [
        {
          "output_type": "stream",
          "name": "stdout",
          "text": [
            "<xarray.DataArray (Foreign: 1, index: 51)>\n",
            "array([[ 1301,  1791,  1974,  2725,  2772,  4425,  4341,  5474,  7366,\n",
            "         8932, 10390, 12323, 14753, 15992, 16946, 19337, 21885, 21491,\n",
            "        23039, 23258, 26148, 27382, 31621, 29746, 27228, 19856, 11615,\n",
            "        14122, 17700, 16680, 14520, 14305, 17490,  9817,  4578,  1729,\n",
            "         1284,  1318,  1475,  1427,  1283,   999,  1129,  1068,    15,\n",
            "         1018,  1056,  1190,  1293,  1342,  1137]])\n",
            "Coordinates:\n",
            "  * index    (index) int64 0 1 2 3 4 5 6 7 8 9 ... 41 42 43 44 45 46 47 48 49 50\n",
            "    year     (index) int64 1968 1969 1970 1971 1972 ... 2014 2015 2016 2017 2018\n",
            "  * Foreign  (Foreign) <U7 'Foreign'\n"
          ]
        }
      ]
    },
    {
      "cell_type": "code",
      "source": [
        "from scipy.stats import pearsonr"
      ],
      "metadata": {
        "id": "UP1Y4nwkyODL"
      },
      "execution_count": null,
      "outputs": []
    },
    {
      "cell_type": "code",
      "source": [
        "nx=len(val_yr['lon']) #所以需要寫迴圈去讓他算\n",
        "ny=len(val_yr['lat'])\n",
        "\n",
        "p_array=np.zeros((ny,nx))\n",
        "r_array=np.zeros((ny,nx))\n",
        "\n",
        "\n",
        "for i in range(nx):\n",
        "    for j in range(ny):\n",
        "        #print(val_yr[:,j,i])\n",
        "        #print(newCon)\n",
        "        r,p=pearsonr(df_for,val_yr[:,j,i])\n",
        "        r_array[j,i]=r\n",
        "        p_array[j,i]=p\n",
        "r_array.shape"
      ],
      "metadata": {
        "id": "bz7ReIQoyPwT",
        "colab": {
          "base_uri": "https://localhost:8080/"
        },
        "outputId": "28909e5a-953d-4883-bc8c-90b971fd4fba"
      },
      "execution_count": 82,
      "outputs": [
        {
          "output_type": "execute_result",
          "data": {
            "text/plain": [
              "(60, 31)"
            ]
          },
          "metadata": {},
          "execution_count": 82
        }
      ]
    },
    {
      "cell_type": "code",
      "source": [
        "r_array"
      ],
      "metadata": {
        "colab": {
          "base_uri": "https://localhost:8080/"
        },
        "id": "HOupVCQuJNwP",
        "outputId": "bebc2520-bbed-45e4-8b3f-23e0e3b44190"
      },
      "execution_count": 84,
      "outputs": [
        {
          "output_type": "execute_result",
          "data": {
            "text/plain": [
              "array([[0.23747445, 0.20318978, 0.19417364, ..., 0.19643684, 0.26558962,\n",
              "        0.29367209],\n",
              "       [0.1979195 , 0.22965367, 0.29326939, ..., 0.18357836, 0.21291576,\n",
              "        0.20824704],\n",
              "       [0.19464287, 0.16971111, 0.29812035, ..., 0.12330867, 0.16667364,\n",
              "        0.18917892],\n",
              "       ...,\n",
              "       [0.06496517, 0.06176977, 0.06935029, ..., 0.04983456, 0.05554572,\n",
              "        0.05635995],\n",
              "       [0.07152598, 0.0720042 , 0.07289198, ..., 0.04471033, 0.0463969 ,\n",
              "        0.05100992],\n",
              "       [0.07322158, 0.07443407, 0.07053357, ..., 0.03812139, 0.04069234,\n",
              "        0.04493551]])"
            ]
          },
          "metadata": {},
          "execution_count": 84
        }
      ]
    },
    {
      "cell_type": "code",
      "source": [
        "p_array"
      ],
      "metadata": {
        "colab": {
          "base_uri": "https://localhost:8080/"
        },
        "id": "YEawsOFaT3qy",
        "outputId": "363aba10-3f76-4a21-9e12-e4c3559c3f05"
      },
      "execution_count": 85,
      "outputs": [
        {
          "output_type": "execute_result",
          "data": {
            "text/plain": [
              "array([[0.09335462, 0.15270026, 0.17214776, ..., 0.16710541, 0.05961198,\n",
              "        0.03647344],\n",
              "       [0.16386091, 0.10498633, 0.03674299, ..., 0.19722387, 0.13359189,\n",
              "        0.14252748],\n",
              "       [0.17109336, 0.23381328, 0.03360308, ..., 0.38865145, 0.24241256,\n",
              "        0.18366436],\n",
              "       ...,\n",
              "       [0.65060534, 0.66675926, 0.62869464, ..., 0.72837877, 0.69865193,\n",
              "        0.69444887],\n",
              "       [0.6179386 , 0.61558491, 0.6112256 , ..., 0.75539336, 0.74646803,\n",
              "        0.72222686],\n",
              "       [0.60961049, 0.60368506, 0.62283516, ..., 0.79055616, 0.77678245,\n",
              "        0.75419988]])"
            ]
          },
          "metadata": {},
          "execution_count": 85
        }
      ]
    },
    {
      "cell_type": "code",
      "source": [
        "print(newCon)"
      ],
      "metadata": {
        "id": "7DeH8d012Dhs",
        "colab": {
          "base_uri": "https://localhost:8080/"
        },
        "outputId": "7c47bd56-0a44-416c-be2e-30713cb7c7d4"
      },
      "execution_count": 67,
      "outputs": [
        {
          "output_type": "stream",
          "name": "stdout",
          "text": [
            "[[ 1301  1791  1974  2725  2772  4425  4341  5474  7366  8932 10390 12323\n",
            "  14753 15992 16946 19337 21885 21491 23039 23258 26148 27382 31621 29746\n",
            "  27228 19856 11615 14122 17700 16680 14520 14305 17490  9817  4578  1729\n",
            "   1284  1318  1475  1427  1283   999  1129  1068    15  1018  1056  1190\n",
            "   1293  1342  1137]]\n"
          ]
        }
      ]
    },
    {
      "cell_type": "code",
      "source": [
        "clevs=np.arange(-1,1.1,0.1)\n",
        "\n",
        "fig = plt.figure(figsize=(11,8.5))\n",
        "\n",
        "# Set the axes using the specified map projection\n",
        "ax=plt.axes(projection=ccrs.PlateCarree(central_longitude=180))\n",
        "\n",
        "# Add cyclic point\n",
        "data=r_map\n",
        "data,lon=add_cyclic_point(r_map,coord=val_yr['lon'])\n",
        "\n",
        "# Make a filled contour plot\n",
        "cs=ax.contourf(lon,val_yr['lat'],\n",
        "            data,clevs,\n",
        "            transform=ccrs.PlateCarree(),\n",
        "            cmap='PiYG',extend='both')\n",
        "\n",
        "# Add coastlines\n",
        "ax.coastlines()\n",
        "\n",
        "# Add gridlines\n",
        "ax.gridlines()\n",
        "\n",
        "# Define the xticks for longtitude \n",
        "ax.set_xticks(np.arange(-180,181,60),crs=ccrs.PlateCarree())\n",
        "lon_formatter=cticker.LongitudeFormatter()\n",
        "ax.xaxis.set_major_formatter(lon_formatter)\n",
        "\n",
        "# Define ytick for latitude\n",
        "ax.set_yticks(np.arange(-90,91,30),crs=ccrs.PlateCarree())\n",
        "lat_formatter=cticker.LatitudeFormatter()\n",
        "ax.yaxis.set_major_formatter(lat_formatter)\n",
        "\n",
        "# Call colorbar\n",
        "cbar=plt.colorbar(cs,orientation='horizontal',shrink=0.7,\n",
        "                 label='Correlation Coefficient')\n",
        "\n",
        "# Add title\n",
        "plt.title('Correlation between Nino3.4 and Precipitation Anomalies')"
      ],
      "metadata": {
        "id": "x3OrxrhrPaLm",
        "colab": {
          "base_uri": "https://localhost:8080/",
          "height": 254
        },
        "outputId": "054c9d1b-8072-4577-d6a6-3964e394edaf"
      },
      "execution_count": 69,
      "outputs": [
        {
          "output_type": "error",
          "ename": "NameError",
          "evalue": "ignored",
          "traceback": [
            "\u001b[0;31m---------------------------------------------------------------------------\u001b[0m",
            "\u001b[0;31mNameError\u001b[0m                                 Traceback (most recent call last)",
            "\u001b[0;32m<ipython-input-69-b532efe247aa>\u001b[0m in \u001b[0;36m<module>\u001b[0;34m()\u001b[0m\n\u001b[1;32m      4\u001b[0m \u001b[0;34m\u001b[0m\u001b[0m\n\u001b[1;32m      5\u001b[0m \u001b[0;31m# Set the axes using the specified map projection\u001b[0m\u001b[0;34m\u001b[0m\u001b[0;34m\u001b[0m\u001b[0;34m\u001b[0m\u001b[0m\n\u001b[0;32m----> 6\u001b[0;31m \u001b[0max\u001b[0m\u001b[0;34m=\u001b[0m\u001b[0mplt\u001b[0m\u001b[0;34m.\u001b[0m\u001b[0maxes\u001b[0m\u001b[0;34m(\u001b[0m\u001b[0mprojection\u001b[0m\u001b[0;34m=\u001b[0m\u001b[0mccrs\u001b[0m\u001b[0;34m.\u001b[0m\u001b[0mPlateCarree\u001b[0m\u001b[0;34m(\u001b[0m\u001b[0mcentral_longitude\u001b[0m\u001b[0;34m=\u001b[0m\u001b[0;36m180\u001b[0m\u001b[0;34m)\u001b[0m\u001b[0;34m)\u001b[0m\u001b[0;34m\u001b[0m\u001b[0;34m\u001b[0m\u001b[0m\n\u001b[0m\u001b[1;32m      7\u001b[0m \u001b[0;34m\u001b[0m\u001b[0m\n\u001b[1;32m      8\u001b[0m \u001b[0;31m# Add cyclic point\u001b[0m\u001b[0;34m\u001b[0m\u001b[0;34m\u001b[0m\u001b[0;34m\u001b[0m\u001b[0m\n",
            "\u001b[0;31mNameError\u001b[0m: name 'ccrs' is not defined"
          ]
        },
        {
          "output_type": "display_data",
          "data": {
            "text/plain": [
              "<Figure size 792x612 with 0 Axes>"
            ]
          },
          "metadata": {}
        }
      ]
    },
    {
      "cell_type": "code",
      "source": [
        "from pylab import rcParams\n",
        "\n",
        "fig01=px.bar(val_yr02,x=val_yr02.index,y='tas',color='tas',width=700, height=400,\n",
        "           color_continuous_scale=px.colors.diverging.Tealrose,title=\"台北年平均溫\",labels={\n",
        "                     \"val_yr02\": \"年分\",\n",
        "                     \"tas\": \"年平均溫 (degC)\",\n",
        "                 },)\n",
        "px.colors.carto.swatches\n",
        "\n",
        "\n",
        "fig01.show()"
      ],
      "metadata": {
        "id": "93ZF-DcXwILS"
      },
      "execution_count": null,
      "outputs": []
    },
    {
      "cell_type": "code",
      "source": [
        "fig02=px.bar(con02,x='year',y='Domestic',color='Domestic',width=700, height=400,\n",
        "           color_continuous_scale=px.colors.diverging.Earth,title=\"台菸公司台北市酒類銷量-國產\",labels={\n",
        "                     \"year\": \"年分\",\n",
        "                     \"Domestic\": \"北市國產酒銷量\",\n",
        "                 },)\n",
        "px.colors.carto.swatches\n",
        "\n",
        "\n",
        "fig02.show()"
      ],
      "metadata": {
        "id": "XNrH5PVUztxW"
      },
      "execution_count": null,
      "outputs": []
    },
    {
      "cell_type": "code",
      "source": [
        "fig02=px.bar(con02,x='year',y='Foreign',color='Foreign',width=700, height=400,\n",
        "           color_continuous_scale=px.colors.diverging.Earth,title=\"台菸公司台北市酒類銷量-進口\",labels={\n",
        "                     \"year\": \"年分\",\n",
        "                     \"Foreign\": \"北市進口酒銷量\",\n",
        "                 },)\n",
        "px.colors.carto.swatches\n",
        "\n",
        "\n",
        "fig02.show()"
      ],
      "metadata": {
        "id": "q3CK6fRo6AID"
      },
      "execution_count": null,
      "outputs": []
    },
    {
      "cell_type": "code",
      "source": [
        "val_yr02.plot.line(color='purple',marker='^')\n",
        "\n",
        "# \n",
        "con03=con02.plot(x='year',y='Domestic',color='green')\n",
        "con04=con02.plot(x='year',y='Foreign',color='red')\n",
        "plt.legend(title='Origin')\n",
        "# plt.legend()\n",
        "\n",
        "\n",
        "# con02.plot.line()\n",
        "\n",
        "# plt.figure(figsize=(6,3.5 ), dpi=100)\n",
        "# con03=plt.plot(con02['Foreign'], label='Foreign')\n",
        "# con03=plt.plot(con02['Domestic'], label='Domestic')\n",
        "# plt.legend(title='Origin') #圖說標題\n",
        "# plt.ylabel('Sales volume', fontsize=11)\n",
        "# plt.xlabel('year', fontsize=11)\n",
        "# plt.title('hello', fontsize=16)\n",
        "# plt.show()\n",
        "#\n"
      ],
      "metadata": {
        "id": "AFx23zldy6HG"
      },
      "execution_count": null,
      "outputs": []
    },
    {
      "cell_type": "code",
      "source": [
        "plt.scatter(val_yr02,con02['Domestic'], s=10, color=\"green\")\n"
      ],
      "metadata": {
        "id": "C1cbKRtDjK4z"
      },
      "execution_count": null,
      "outputs": []
    },
    {
      "cell_type": "code",
      "source": [
        "scipy.stats.shapiro(val_yr02)"
      ],
      "metadata": {
        "id": "LXmbtJIbM1an"
      },
      "execution_count": null,
      "outputs": []
    },
    {
      "cell_type": "code",
      "source": [
        "scipy.stats.shapiro(con02['Domestic'])"
      ],
      "metadata": {
        "id": "MR7grg7jNOE0"
      },
      "execution_count": null,
      "outputs": []
    },
    {
      "cell_type": "code",
      "source": [
        "R=np.corrcoef(val_yr02,con02['Domestic'])\n",
        "R"
      ],
      "metadata": {
        "id": "K_v9zacdv86T"
      },
      "execution_count": null,
      "outputs": []
    },
    {
      "cell_type": "code",
      "source": [
        "corr=R[0,1]\n",
        "corr"
      ],
      "metadata": {
        "id": "BoZgunqBrFv7"
      },
      "execution_count": null,
      "outputs": []
    },
    {
      "cell_type": "code",
      "source": [
        "#scipy correlation function \n",
        "(rvalue, pvalue) =  scipy.stats.spearmanr(val_yr02,con02['Domestic'])\n",
        "rvalue"
      ],
      "metadata": {
        "id": "73TBlPFgrLrD"
      },
      "execution_count": null,
      "outputs": []
    },
    {
      "cell_type": "code",
      "source": [
        "scipy.stats.spearmanr(val_yr02,con02['Domestic'])"
      ],
      "metadata": {
        "id": "gdztKSQCOo0B"
      },
      "execution_count": null,
      "outputs": []
    },
    {
      "cell_type": "code",
      "source": [
        "pvalue"
      ],
      "metadata": {
        "id": "POxorzXfrTBT"
      },
      "execution_count": null,
      "outputs": []
    },
    {
      "cell_type": "code",
      "source": [
        "plt.plot(val_yr02,val_yr02,'b')\n",
        "plt.plot(con02['year'],con02['Domestic'],'r')\n",
        "plt.legend(['tas','consumption (EQ,180)'])\n",
        "\n",
        "rvalue_2 = round(rvalue, 2)\n",
        "stuff_in_string = f\"R= {rvalue_2}*\"\n",
        "\n",
        "#print(stuff_in_string)\n",
        "plt.title(stuff_in_string,loc='right')"
      ],
      "metadata": {
        "id": "9Daz9Nouunu7"
      },
      "execution_count": null,
      "outputs": []
    },
    {
      "cell_type": "code",
      "source": [
        "plt.scatter(val_yr02,con02['Domestic'], s=10, color=\"blue\")\n",
        "plt.title(stuff_in_string,loc='right')\n",
        "\n",
        "m, b = np.polyfit(val_yr02,con02['Domestic'], 1)\n",
        "plt.plot(val_yr02, m*val_yr02 + b, color=\"orange\",linewidth=2)\n",
        "plt.xlabel(\"Temperature\")\n",
        "plt.ylabel(\"Domestic consumption\")\n",
        "\n",
        "plt.show()"
      ],
      "metadata": {
        "id": "_OEPIpdKrd4t"
      },
      "execution_count": null,
      "outputs": []
    },
    {
      "cell_type": "code",
      "source": [
        "plt.scatter(val_yr02,con02['Foreign'], s=10, color=\"purple\")\n"
      ],
      "metadata": {
        "id": "YODB4-N2JGiW"
      },
      "execution_count": null,
      "outputs": []
    },
    {
      "cell_type": "code",
      "source": [
        "R=np.corrcoef(val_yr02,con02['Foreign'])\n",
        "R"
      ],
      "metadata": {
        "id": "0-KTuGC9JPO9"
      },
      "execution_count": null,
      "outputs": []
    },
    {
      "cell_type": "code",
      "source": [
        "corr=R[0,1]\n",
        "corr"
      ],
      "metadata": {
        "id": "vWmrjDLtJTU3"
      },
      "execution_count": null,
      "outputs": []
    },
    {
      "cell_type": "code",
      "source": [
        "#scipy correlation function \n",
        "(rvalue, pvalue) =  scipy.stats.spearmanr(val_yr02,con02['Foreign'])\n",
        "rvalue"
      ],
      "metadata": {
        "id": "jGhG67ulJV99"
      },
      "execution_count": null,
      "outputs": []
    },
    {
      "cell_type": "code",
      "source": [
        "pvalue"
      ],
      "metadata": {
        "id": "vecx97y3JaZN"
      },
      "execution_count": null,
      "outputs": []
    },
    {
      "cell_type": "code",
      "source": [
        "plt.plot(val_yr02,val_yr02,'b')\n",
        "plt.plot(con02['year'],con02['Foreign'],'r')\n",
        "plt.legend(['tas','consumption (EQ,180)'])\n",
        "\n",
        "rvalue_2 = round(rvalue, 2)\n",
        "stuff_in_string = f\"R= {rvalue_2}*\"\n",
        "\n",
        "#print(stuff_in_string)\n",
        "plt.title(stuff_in_string,loc='right')"
      ],
      "metadata": {
        "id": "6hqzuRWyJjo9"
      },
      "execution_count": null,
      "outputs": []
    },
    {
      "cell_type": "code",
      "source": [
        "plt.scatter(val_yr02,con02['Foreign'], s=10, color=\"purple\")\n",
        "plt.title(stuff_in_string,loc='right')\n",
        "\n",
        "m, b = np.polyfit(val_yr02,con02['Foreign'], 1)\n",
        "plt.plot(val_yr02, m*val_yr02 + b, color=\"orange\",linewidth=2)\n",
        "plt.xlabel(\"Temperature\")\n",
        "plt.ylabel(\"Foreign consumption\")\n",
        "\n",
        "plt.show()"
      ],
      "metadata": {
        "id": "enGC7eNUJ7ee"
      },
      "execution_count": null,
      "outputs": []
    },
    {
      "cell_type": "code",
      "source": [
        "scipy.stats.spearmanr(val_yr02,con02['Foreign'])"
      ],
      "metadata": {
        "id": "gEx5f7r9NhaR"
      },
      "execution_count": null,
      "outputs": []
    },
    {
      "cell_type": "code",
      "source": [
        ""
      ],
      "metadata": {
        "id": "9FZGfo7FwKOP"
      },
      "execution_count": null,
      "outputs": []
    }
  ]
}