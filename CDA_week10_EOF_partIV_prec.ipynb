{
  "nbformat": 4,
  "nbformat_minor": 0,
  "metadata": {
    "colab": {
      "name": "CDA.week10.EOF.partIV.prec.ipynb",
      "provenance": [],
      "authorship_tag": "ABX9TyOWwWXXukW/MSwyA0kTlK1H",
      "include_colab_link": true
    },
    "kernelspec": {
      "name": "python3",
      "display_name": "Python 3"
    },
    "language_info": {
      "name": "python"
    }
  },
  "cells": [
    {
      "cell_type": "markdown",
      "metadata": {
        "id": "view-in-github",
        "colab_type": "text"
      },
      "source": [
        "<a href=\"https://colab.research.google.com/github/ioloi1128/CDA/blob/main/CDA_week10_EOF_partIV_prec.ipynb\" target=\"_parent\"><img src=\"https://colab.research.google.com/assets/colab-badge.svg\" alt=\"Open In Colab\"/></a>"
      ]
    },
    {
      "cell_type": "code",
      "source": [
        "!pip install numpy\n",
        "!pip install xarray\n",
        "!pip install matplotlib\n",
        "!pip install scipy\n",
        "!pip install pandas\n",
        "\n",
        "!apt-get install libproj-dev proj-data proj-bin\n",
        "!apt-get install libgeos-dev\n",
        "!pip install cython\n",
        "!pip install cartopy\n",
        "\n",
        "!apt-get -V -y -qq install python-cartopy python3-cartopy\n",
        "!pip uninstall shapely -y\n",
        "!pip install shapely --no-binary shapely"
      ],
      "metadata": {
        "colab": {
          "base_uri": "https://localhost:8080/"
        },
        "id": "Ku0vFaysvTNN",
        "outputId": "cfd0c677-203d-4f93-d0b6-8eda7ccc6e25"
      },
      "execution_count": null,
      "outputs": [
        {
          "output_type": "stream",
          "name": "stdout",
          "text": [
            "Requirement already satisfied: numpy in /usr/local/lib/python3.7/dist-packages (1.21.5)\n",
            "Requirement already satisfied: xarray in /usr/local/lib/python3.7/dist-packages (0.18.2)\n",
            "Requirement already satisfied: numpy>=1.17 in /usr/local/lib/python3.7/dist-packages (from xarray) (1.21.5)\n",
            "Requirement already satisfied: pandas>=1.0 in /usr/local/lib/python3.7/dist-packages (from xarray) (1.3.5)\n",
            "Requirement already satisfied: setuptools>=40.4 in /usr/local/lib/python3.7/dist-packages (from xarray) (57.4.0)\n",
            "Requirement already satisfied: python-dateutil>=2.7.3 in /usr/local/lib/python3.7/dist-packages (from pandas>=1.0->xarray) (2.8.2)\n",
            "Requirement already satisfied: pytz>=2017.3 in /usr/local/lib/python3.7/dist-packages (from pandas>=1.0->xarray) (2018.9)\n",
            "Requirement already satisfied: six>=1.5 in /usr/local/lib/python3.7/dist-packages (from python-dateutil>=2.7.3->pandas>=1.0->xarray) (1.15.0)\n",
            "Requirement already satisfied: matplotlib in /usr/local/lib/python3.7/dist-packages (3.2.2)\n",
            "Requirement already satisfied: python-dateutil>=2.1 in /usr/local/lib/python3.7/dist-packages (from matplotlib) (2.8.2)\n",
            "Requirement already satisfied: numpy>=1.11 in /usr/local/lib/python3.7/dist-packages (from matplotlib) (1.21.5)\n",
            "Requirement already satisfied: cycler>=0.10 in /usr/local/lib/python3.7/dist-packages (from matplotlib) (0.11.0)\n",
            "Requirement already satisfied: kiwisolver>=1.0.1 in /usr/local/lib/python3.7/dist-packages (from matplotlib) (1.4.2)\n",
            "Requirement already satisfied: pyparsing!=2.0.4,!=2.1.2,!=2.1.6,>=2.0.1 in /usr/local/lib/python3.7/dist-packages (from matplotlib) (3.0.8)\n",
            "Requirement already satisfied: typing-extensions in /usr/local/lib/python3.7/dist-packages (from kiwisolver>=1.0.1->matplotlib) (4.1.1)\n",
            "Requirement already satisfied: six>=1.5 in /usr/local/lib/python3.7/dist-packages (from python-dateutil>=2.1->matplotlib) (1.15.0)\n",
            "Requirement already satisfied: scipy in /usr/local/lib/python3.7/dist-packages (1.4.1)\n",
            "Requirement already satisfied: numpy>=1.13.3 in /usr/local/lib/python3.7/dist-packages (from scipy) (1.21.5)\n",
            "Requirement already satisfied: pandas in /usr/local/lib/python3.7/dist-packages (1.3.5)\n",
            "Requirement already satisfied: numpy>=1.17.3 in /usr/local/lib/python3.7/dist-packages (from pandas) (1.21.5)\n",
            "Requirement already satisfied: python-dateutil>=2.7.3 in /usr/local/lib/python3.7/dist-packages (from pandas) (2.8.2)\n",
            "Requirement already satisfied: pytz>=2017.3 in /usr/local/lib/python3.7/dist-packages (from pandas) (2018.9)\n",
            "Requirement already satisfied: six>=1.5 in /usr/local/lib/python3.7/dist-packages (from python-dateutil>=2.7.3->pandas) (1.15.0)\n",
            "Reading package lists... Done\n",
            "Building dependency tree       \n",
            "Reading state information... Done\n",
            "libproj-dev is already the newest version (4.9.3-2).\n",
            "libproj-dev set to manually installed.\n",
            "proj-data is already the newest version (4.9.3-2).\n",
            "proj-data set to manually installed.\n",
            "The following NEW packages will be installed:\n",
            "  proj-bin\n",
            "0 upgraded, 1 newly installed, 0 to remove and 39 not upgraded.\n",
            "Need to get 32.3 kB of archives.\n",
            "After this operation, 110 kB of additional disk space will be used.\n",
            "Get:1 http://archive.ubuntu.com/ubuntu bionic/universe amd64 proj-bin amd64 4.9.3-2 [32.3 kB]\n",
            "Fetched 32.3 kB in 0s (122 kB/s)\n",
            "Selecting previously unselected package proj-bin.\n",
            "(Reading database ... 155455 files and directories currently installed.)\n",
            "Preparing to unpack .../proj-bin_4.9.3-2_amd64.deb ...\n",
            "Unpacking proj-bin (4.9.3-2) ...\n",
            "Setting up proj-bin (4.9.3-2) ...\n",
            "Processing triggers for man-db (2.8.3-2ubuntu0.1) ...\n",
            "Reading package lists... Done\n",
            "Building dependency tree       \n",
            "Reading state information... Done\n",
            "libgeos-dev is already the newest version (3.6.2-1build2).\n",
            "libgeos-dev set to manually installed.\n",
            "0 upgraded, 0 newly installed, 0 to remove and 39 not upgraded.\n",
            "Requirement already satisfied: cython in /usr/local/lib/python3.7/dist-packages (0.29.28)\n",
            "Collecting cartopy\n",
            "  Downloading Cartopy-0.20.2.tar.gz (10.8 MB)\n",
            "\u001b[K     |████████████████████████████████| 10.8 MB 13.9 MB/s \n",
            "\u001b[?25h  Installing build dependencies ... \u001b[?25l\u001b[?25hdone\n",
            "  Getting requirements to build wheel ... \u001b[?25l\u001b[?25herror\n",
            "\u001b[33mWARNING: Discarding https://files.pythonhosted.org/packages/f6/55/1e1c737dc9436b320deead73d1c455ddbb74b8b6992081863492f6f6378a/Cartopy-0.20.2.tar.gz#sha256=4d08c198ecaa50a6a6b109d0f14c070e813defc046a83ac5d7ab494f85599e35 (from https://pypi.org/simple/cartopy/) (requires-python:>=3.7). Command errored out with exit status 1: /usr/bin/python3 /usr/local/lib/python3.7/dist-packages/pip/_vendor/pep517/in_process/_in_process.py get_requires_for_build_wheel /tmp/tmpn9fiaels Check the logs for full command output.\u001b[0m\n",
            "  Downloading Cartopy-0.20.1.tar.gz (10.8 MB)\n",
            "\u001b[K     |████████████████████████████████| 10.8 MB 61.1 MB/s \n",
            "\u001b[?25h  Installing build dependencies ... \u001b[?25l\u001b[?25hdone\n",
            "  Getting requirements to build wheel ... \u001b[?25l\u001b[?25herror\n",
            "\u001b[33mWARNING: Discarding https://files.pythonhosted.org/packages/fc/59/aa52698e3838f4cd0e7eaa75bd86837e9e0b05041dbdaee3cda2fffced06/Cartopy-0.20.1.tar.gz#sha256=91f87b130e2574547a20cd634498df97d797abd12dcfd0235bc0cdbcec8b05e3 (from https://pypi.org/simple/cartopy/) (requires-python:>=3.7). Command errored out with exit status 1: /usr/bin/python3 /usr/local/lib/python3.7/dist-packages/pip/_vendor/pep517/in_process/_in_process.py get_requires_for_build_wheel /tmp/tmpi_5sd4q0 Check the logs for full command output.\u001b[0m\n",
            "  Downloading Cartopy-0.20.0.tar.gz (10.8 MB)\n",
            "\u001b[K     |████████████████████████████████| 10.8 MB 63.9 MB/s \n",
            "\u001b[?25h  Installing build dependencies ... \u001b[?25l\u001b[?25hdone\n",
            "  Getting requirements to build wheel ... \u001b[?25l\u001b[?25herror\n",
            "\u001b[33mWARNING: Discarding https://files.pythonhosted.org/packages/0f/c0/58453b036e79046d211f083880d58dcce787e7e07647ac25dc46c6555099/Cartopy-0.20.0.tar.gz#sha256=eae58aff26806e63cf115b2bce9477cedc4aa9f578c5e477b2c25cfa404f2b7a (from https://pypi.org/simple/cartopy/) (requires-python:>=3.7). Command errored out with exit status 1: /usr/bin/python3 /usr/local/lib/python3.7/dist-packages/pip/_vendor/pep517/in_process/_in_process.py get_requires_for_build_wheel /tmp/tmpztpax70n Check the logs for full command output.\u001b[0m\n",
            "  Downloading Cartopy-0.19.0.post1.tar.gz (12.1 MB)\n",
            "\u001b[K     |████████████████████████████████| 12.1 MB 53.6 MB/s \n",
            "\u001b[?25h  Installing build dependencies ... \u001b[?25l\u001b[?25hdone\n",
            "  Getting requirements to build wheel ... \u001b[?25l\u001b[?25hdone\n",
            "    Preparing wheel metadata ... \u001b[?25l\u001b[?25hdone\n",
            "Collecting pyshp>=2\n",
            "  Downloading pyshp-2.2.0-py3-none-any.whl (44 kB)\n",
            "\u001b[K     |████████████████████████████████| 44 kB 2.6 MB/s \n",
            "\u001b[?25hRequirement already satisfied: numpy>=1.13.3 in /usr/local/lib/python3.7/dist-packages (from cartopy) (1.21.5)\n",
            "Requirement already satisfied: shapely>=1.5.6 in /usr/local/lib/python3.7/dist-packages (from cartopy) (1.8.1.post1)\n",
            "Building wheels for collected packages: cartopy\n",
            "  Building wheel for cartopy (PEP 517) ... \u001b[?25l\u001b[?25hdone\n",
            "  Created wheel for cartopy: filename=Cartopy-0.19.0.post1-cp37-cp37m-linux_x86_64.whl size=12516279 sha256=9c6d2aba13eacc1692bac23c031c1a9cad834a491e8d80fdc24b3898efb04e59\n",
            "  Stored in directory: /root/.cache/pip/wheels/98/01/f7/bd10aeb96fe4b518cde5f7c4f5e12c7202f85b7353a5017847\n",
            "Successfully built cartopy\n",
            "Installing collected packages: pyshp, cartopy\n",
            "Successfully installed cartopy-0.19.0.post1 pyshp-2.2.0\n",
            "Selecting previously unselected package python-pkg-resources.\n",
            "(Reading database ... 155471 files and directories currently installed.)\n",
            "Preparing to unpack .../00-python-pkg-resources_39.0.1-2_all.deb ...\n",
            "Unpacking python-pkg-resources (39.0.1-2) ...\n",
            "Selecting previously unselected package python-pyshp.\n",
            "Preparing to unpack .../01-python-pyshp_1.2.12+ds-1_all.deb ...\n",
            "Unpacking python-pyshp (1.2.12+ds-1) ...\n",
            "Selecting previously unselected package python-shapely.\n",
            "Preparing to unpack .../02-python-shapely_1.6.4-1_amd64.deb ...\n",
            "Unpacking python-shapely (1.6.4-1) ...\n",
            "Selecting previously unselected package python-six.\n",
            "Preparing to unpack .../03-python-six_1.11.0-2_all.deb ...\n",
            "Unpacking python-six (1.11.0-2) ...\n",
            "Selecting previously unselected package python-cartopy:amd64.\n",
            "Preparing to unpack .../04-python-cartopy_0.14.2+dfsg1-2build3_amd64.deb ...\n",
            "Unpacking python-cartopy:amd64 (0.14.2+dfsg1-2build3) ...\n",
            "Selecting previously unselected package python3-numpy.\n",
            "Preparing to unpack .../05-python3-numpy_1%3a1.13.3-2ubuntu1_amd64.deb ...\n",
            "Unpacking python3-numpy (1:1.13.3-2ubuntu1) ...\n",
            "Selecting previously unselected package python3-pkg-resources.\n",
            "Preparing to unpack .../06-python3-pkg-resources_39.0.1-2_all.deb ...\n",
            "Unpacking python3-pkg-resources (39.0.1-2) ...\n",
            "Selecting previously unselected package python3-pyshp.\n",
            "Preparing to unpack .../07-python3-pyshp_1.2.12+ds-1_all.deb ...\n",
            "Unpacking python3-pyshp (1.2.12+ds-1) ...\n",
            "Selecting previously unselected package python3-shapely.\n",
            "Preparing to unpack .../08-python3-shapely_1.6.4-1_amd64.deb ...\n",
            "Unpacking python3-shapely (1.6.4-1) ...\n",
            "Selecting previously unselected package python3-six.\n",
            "Preparing to unpack .../09-python3-six_1.11.0-2_all.deb ...\n",
            "Unpacking python3-six (1.11.0-2) ...\n",
            "Selecting previously unselected package python3-cartopy:amd64.\n",
            "Preparing to unpack .../10-python3-cartopy_0.14.2+dfsg1-2build3_amd64.deb ...\n",
            "Unpacking python3-cartopy:amd64 (0.14.2+dfsg1-2build3) ...\n",
            "Setting up python-shapely (1.6.4-1) ...\n",
            "Setting up python-pyshp (1.2.12+ds-1) ...\n",
            "Setting up python3-numpy (1:1.13.3-2ubuntu1) ...\n",
            "Setting up python3-six (1.11.0-2) ...\n",
            "Setting up python3-shapely (1.6.4-1) ...\n",
            "Setting up python3-pyshp (1.2.12+ds-1) ...\n",
            "Setting up python3-pkg-resources (39.0.1-2) ...\n",
            "Setting up python-pkg-resources (39.0.1-2) ...\n",
            "Setting up python-six (1.11.0-2) ...\n",
            "Setting up python3-cartopy:amd64 (0.14.2+dfsg1-2build3) ...\n",
            "Setting up python-cartopy:amd64 (0.14.2+dfsg1-2build3) ...\n",
            "Processing triggers for man-db (2.8.3-2ubuntu0.1) ...\n",
            "Found existing installation: Shapely 1.8.1.post1\n",
            "Uninstalling Shapely-1.8.1.post1:\n",
            "  Successfully uninstalled Shapely-1.8.1.post1\n",
            "Requirement already satisfied: shapely in /usr/lib/python3/dist-packages (1.6.4)\n"
          ]
        }
      ]
    },
    {
      "cell_type": "code",
      "source": [
        "import xarray as xr\n",
        "import numpy as np\n",
        "import matplotlib.pyplot as plt\n",
        "import scipy.stats\n",
        "import pandas as pd\n",
        "\n",
        "import cartopy.crs as ccrs\n",
        "import cartopy.mpl.ticker as cticker\n",
        "from cartopy.util import add_cyclic_point"
      ],
      "metadata": {
        "id": "-AFDtwUgvVMd"
      },
      "execution_count": null,
      "outputs": []
    },
    {
      "cell_type": "code",
      "source": [
        "!pip install eofs\n",
        "import cartopy.crs as ccrs\n",
        "import matplotlib.pyplot as plt\n",
        "import numpy as np\n",
        "import xarray as xr\n",
        "\n",
        "from eofs.xarray import Eof\n",
        "from eofs.examples import example_data_path"
      ],
      "metadata": {
        "colab": {
          "base_uri": "https://localhost:8080/"
        },
        "id": "7gkq0QFGwFEx",
        "outputId": "dc48b036-2958-48d4-bc5c-0eb1b284c725"
      },
      "execution_count": null,
      "outputs": [
        {
          "output_type": "stream",
          "name": "stdout",
          "text": [
            "Collecting eofs\n",
            "  Downloading eofs-1.4.0.tar.gz (1.0 MB)\n",
            "\u001b[?25l\r\u001b[K     |▎                               | 10 kB 29.1 MB/s eta 0:00:01\r\u001b[K     |▋                               | 20 kB 36.3 MB/s eta 0:00:01\r\u001b[K     |█                               | 30 kB 31.5 MB/s eta 0:00:01\r\u001b[K     |█▎                              | 40 kB 15.0 MB/s eta 0:00:01\r\u001b[K     |█▋                              | 51 kB 11.9 MB/s eta 0:00:01\r\u001b[K     |██                              | 61 kB 13.9 MB/s eta 0:00:01\r\u001b[K     |██▎                             | 71 kB 14.3 MB/s eta 0:00:01\r\u001b[K     |██▌                             | 81 kB 10.6 MB/s eta 0:00:01\r\u001b[K     |██▉                             | 92 kB 11.7 MB/s eta 0:00:01\r\u001b[K     |███▏                            | 102 kB 12.8 MB/s eta 0:00:01\r\u001b[K     |███▌                            | 112 kB 12.8 MB/s eta 0:00:01\r\u001b[K     |███▉                            | 122 kB 12.8 MB/s eta 0:00:01\r\u001b[K     |████▏                           | 133 kB 12.8 MB/s eta 0:00:01\r\u001b[K     |████▌                           | 143 kB 12.8 MB/s eta 0:00:01\r\u001b[K     |████▊                           | 153 kB 12.8 MB/s eta 0:00:01\r\u001b[K     |█████                           | 163 kB 12.8 MB/s eta 0:00:01\r\u001b[K     |█████▍                          | 174 kB 12.8 MB/s eta 0:00:01\r\u001b[K     |█████▊                          | 184 kB 12.8 MB/s eta 0:00:01\r\u001b[K     |██████                          | 194 kB 12.8 MB/s eta 0:00:01\r\u001b[K     |██████▍                         | 204 kB 12.8 MB/s eta 0:00:01\r\u001b[K     |██████▊                         | 215 kB 12.8 MB/s eta 0:00:01\r\u001b[K     |███████                         | 225 kB 12.8 MB/s eta 0:00:01\r\u001b[K     |███████▎                        | 235 kB 12.8 MB/s eta 0:00:01\r\u001b[K     |███████▋                        | 245 kB 12.8 MB/s eta 0:00:01\r\u001b[K     |████████                        | 256 kB 12.8 MB/s eta 0:00:01\r\u001b[K     |████████▎                       | 266 kB 12.8 MB/s eta 0:00:01\r\u001b[K     |████████▋                       | 276 kB 12.8 MB/s eta 0:00:01\r\u001b[K     |█████████                       | 286 kB 12.8 MB/s eta 0:00:01\r\u001b[K     |█████████▎                      | 296 kB 12.8 MB/s eta 0:00:01\r\u001b[K     |█████████▌                      | 307 kB 12.8 MB/s eta 0:00:01\r\u001b[K     |█████████▉                      | 317 kB 12.8 MB/s eta 0:00:01\r\u001b[K     |██████████▏                     | 327 kB 12.8 MB/s eta 0:00:01\r\u001b[K     |██████████▌                     | 337 kB 12.8 MB/s eta 0:00:01\r\u001b[K     |██████████▉                     | 348 kB 12.8 MB/s eta 0:00:01\r\u001b[K     |███████████▏                    | 358 kB 12.8 MB/s eta 0:00:01\r\u001b[K     |███████████▌                    | 368 kB 12.8 MB/s eta 0:00:01\r\u001b[K     |███████████▊                    | 378 kB 12.8 MB/s eta 0:00:01\r\u001b[K     |████████████                    | 389 kB 12.8 MB/s eta 0:00:01\r\u001b[K     |████████████▍                   | 399 kB 12.8 MB/s eta 0:00:01\r\u001b[K     |████████████▊                   | 409 kB 12.8 MB/s eta 0:00:01\r\u001b[K     |█████████████                   | 419 kB 12.8 MB/s eta 0:00:01\r\u001b[K     |█████████████▍                  | 430 kB 12.8 MB/s eta 0:00:01\r\u001b[K     |█████████████▊                  | 440 kB 12.8 MB/s eta 0:00:01\r\u001b[K     |██████████████                  | 450 kB 12.8 MB/s eta 0:00:01\r\u001b[K     |██████████████▎                 | 460 kB 12.8 MB/s eta 0:00:01\r\u001b[K     |██████████████▋                 | 471 kB 12.8 MB/s eta 0:00:01\r\u001b[K     |███████████████                 | 481 kB 12.8 MB/s eta 0:00:01\r\u001b[K     |███████████████▎                | 491 kB 12.8 MB/s eta 0:00:01\r\u001b[K     |███████████████▋                | 501 kB 12.8 MB/s eta 0:00:01\r\u001b[K     |████████████████                | 512 kB 12.8 MB/s eta 0:00:01\r\u001b[K     |████████████████▎               | 522 kB 12.8 MB/s eta 0:00:01\r\u001b[K     |████████████████▌               | 532 kB 12.8 MB/s eta 0:00:01\r\u001b[K     |████████████████▉               | 542 kB 12.8 MB/s eta 0:00:01\r\u001b[K     |█████████████████▏              | 552 kB 12.8 MB/s eta 0:00:01\r\u001b[K     |█████████████████▌              | 563 kB 12.8 MB/s eta 0:00:01\r\u001b[K     |█████████████████▉              | 573 kB 12.8 MB/s eta 0:00:01\r\u001b[K     |██████████████████▏             | 583 kB 12.8 MB/s eta 0:00:01\r\u001b[K     |██████████████████▌             | 593 kB 12.8 MB/s eta 0:00:01\r\u001b[K     |██████████████████▊             | 604 kB 12.8 MB/s eta 0:00:01\r\u001b[K     |███████████████████             | 614 kB 12.8 MB/s eta 0:00:01\r\u001b[K     |███████████████████▍            | 624 kB 12.8 MB/s eta 0:00:01\r\u001b[K     |███████████████████▊            | 634 kB 12.8 MB/s eta 0:00:01\r\u001b[K     |████████████████████            | 645 kB 12.8 MB/s eta 0:00:01\r\u001b[K     |████████████████████▍           | 655 kB 12.8 MB/s eta 0:00:01\r\u001b[K     |████████████████████▊           | 665 kB 12.8 MB/s eta 0:00:01\r\u001b[K     |█████████████████████           | 675 kB 12.8 MB/s eta 0:00:01\r\u001b[K     |█████████████████████▎          | 686 kB 12.8 MB/s eta 0:00:01\r\u001b[K     |█████████████████████▋          | 696 kB 12.8 MB/s eta 0:00:01\r\u001b[K     |██████████████████████          | 706 kB 12.8 MB/s eta 0:00:01\r\u001b[K     |██████████████████████▎         | 716 kB 12.8 MB/s eta 0:00:01\r\u001b[K     |██████████████████████▋         | 727 kB 12.8 MB/s eta 0:00:01\r\u001b[K     |███████████████████████         | 737 kB 12.8 MB/s eta 0:00:01\r\u001b[K     |███████████████████████▎        | 747 kB 12.8 MB/s eta 0:00:01\r\u001b[K     |███████████████████████▌        | 757 kB 12.8 MB/s eta 0:00:01\r\u001b[K     |███████████████████████▉        | 768 kB 12.8 MB/s eta 0:00:01\r\u001b[K     |████████████████████████▏       | 778 kB 12.8 MB/s eta 0:00:01\r\u001b[K     |████████████████████████▌       | 788 kB 12.8 MB/s eta 0:00:01\r\u001b[K     |████████████████████████▉       | 798 kB 12.8 MB/s eta 0:00:01\r\u001b[K     |█████████████████████████▏      | 808 kB 12.8 MB/s eta 0:00:01\r\u001b[K     |█████████████████████████▌      | 819 kB 12.8 MB/s eta 0:00:01\r\u001b[K     |█████████████████████████▊      | 829 kB 12.8 MB/s eta 0:00:01\r\u001b[K     |██████████████████████████      | 839 kB 12.8 MB/s eta 0:00:01\r\u001b[K     |██████████████████████████▍     | 849 kB 12.8 MB/s eta 0:00:01\r\u001b[K     |██████████████████████████▊     | 860 kB 12.8 MB/s eta 0:00:01\r\u001b[K     |███████████████████████████     | 870 kB 12.8 MB/s eta 0:00:01\r\u001b[K     |███████████████████████████▍    | 880 kB 12.8 MB/s eta 0:00:01\r\u001b[K     |███████████████████████████▊    | 890 kB 12.8 MB/s eta 0:00:01\r\u001b[K     |████████████████████████████    | 901 kB 12.8 MB/s eta 0:00:01\r\u001b[K     |████████████████████████████▎   | 911 kB 12.8 MB/s eta 0:00:01\r\u001b[K     |████████████████████████████▋   | 921 kB 12.8 MB/s eta 0:00:01\r\u001b[K     |█████████████████████████████   | 931 kB 12.8 MB/s eta 0:00:01\r\u001b[K     |█████████████████████████████▎  | 942 kB 12.8 MB/s eta 0:00:01\r\u001b[K     |█████████████████████████████▋  | 952 kB 12.8 MB/s eta 0:00:01\r\u001b[K     |██████████████████████████████  | 962 kB 12.8 MB/s eta 0:00:01\r\u001b[K     |██████████████████████████████▏ | 972 kB 12.8 MB/s eta 0:00:01\r\u001b[K     |██████████████████████████████▌ | 983 kB 12.8 MB/s eta 0:00:01\r\u001b[K     |██████████████████████████████▉ | 993 kB 12.8 MB/s eta 0:00:01\r\u001b[K     |███████████████████████████████▏| 1.0 MB 12.8 MB/s eta 0:00:01\r\u001b[K     |███████████████████████████████▌| 1.0 MB 12.8 MB/s eta 0:00:01\r\u001b[K     |███████████████████████████████▉| 1.0 MB 12.8 MB/s eta 0:00:01\r\u001b[K     |████████████████████████████████| 1.0 MB 12.8 MB/s \n",
            "\u001b[?25hRequirement already satisfied: numpy in /usr/local/lib/python3.7/dist-packages (from eofs) (1.21.5)\n",
            "Building wheels for collected packages: eofs\n",
            "  Building wheel for eofs (setup.py) ... \u001b[?25l\u001b[?25hdone\n",
            "  Created wheel for eofs: filename=eofs-1.4.0-py3-none-any.whl size=1100374 sha256=20ee8421878e4dacdb6e1fa8f05f1d65e0f88d485d30cb8c90aa9dee0dd4bee6\n",
            "  Stored in directory: /root/.cache/pip/wheels/ce/4e/36/2ef48d7342cd326d5f3bdb4ddd0441f06b387b5cbfc8336095\n",
            "Successfully built eofs\n",
            "Installing collected packages: eofs\n",
            "Successfully installed eofs-1.4.0\n"
          ]
        }
      ]
    },
    {
      "cell_type": "code",
      "source": [
        "#read precipitation\n",
        "url = 'http://www.esrl.noaa.gov/psd/thredds/dodsC/Datasets/gpcp/precip.mon.mean.nc'\n",
        "ds_prec = xr.open_dataset(url)\n",
        "ds_prec = ds_prec.sel(time=slice('1979', '2019'))\n",
        "ds_prec.load()\n",
        "ds_prec"
      ],
      "metadata": {
        "colab": {
          "base_uri": "https://localhost:8080/",
          "height": 504
        },
        "id": "eIg9ALiEMLoR",
        "outputId": "c1d24c7b-1c76-4918-b8c0-881f7ac5e12c"
      },
      "execution_count": null,
      "outputs": [
        {
          "output_type": "error",
          "ename": "OSError",
          "evalue": "ignored",
          "traceback": [
            "\u001b[0;31m---------------------------------------------------------------------------\u001b[0m",
            "\u001b[0;31mKeyError\u001b[0m                                  Traceback (most recent call last)",
            "\u001b[0;32m/usr/local/lib/python3.7/dist-packages/xarray/backends/file_manager.py\u001b[0m in \u001b[0;36m_acquire_with_cache_info\u001b[0;34m(self, needs_lock)\u001b[0m\n\u001b[1;32m    198\u001b[0m             \u001b[0;32mtry\u001b[0m\u001b[0;34m:\u001b[0m\u001b[0;34m\u001b[0m\u001b[0;34m\u001b[0m\u001b[0m\n\u001b[0;32m--> 199\u001b[0;31m                 \u001b[0mfile\u001b[0m \u001b[0;34m=\u001b[0m \u001b[0mself\u001b[0m\u001b[0;34m.\u001b[0m\u001b[0m_cache\u001b[0m\u001b[0;34m[\u001b[0m\u001b[0mself\u001b[0m\u001b[0;34m.\u001b[0m\u001b[0m_key\u001b[0m\u001b[0;34m]\u001b[0m\u001b[0;34m\u001b[0m\u001b[0;34m\u001b[0m\u001b[0m\n\u001b[0m\u001b[1;32m    200\u001b[0m             \u001b[0;32mexcept\u001b[0m \u001b[0mKeyError\u001b[0m\u001b[0;34m:\u001b[0m\u001b[0;34m\u001b[0m\u001b[0;34m\u001b[0m\u001b[0m\n",
            "\u001b[0;32m/usr/local/lib/python3.7/dist-packages/xarray/backends/lru_cache.py\u001b[0m in \u001b[0;36m__getitem__\u001b[0;34m(self, key)\u001b[0m\n\u001b[1;32m     52\u001b[0m         \u001b[0;32mwith\u001b[0m \u001b[0mself\u001b[0m\u001b[0;34m.\u001b[0m\u001b[0m_lock\u001b[0m\u001b[0;34m:\u001b[0m\u001b[0;34m\u001b[0m\u001b[0;34m\u001b[0m\u001b[0m\n\u001b[0;32m---> 53\u001b[0;31m             \u001b[0mvalue\u001b[0m \u001b[0;34m=\u001b[0m \u001b[0mself\u001b[0m\u001b[0;34m.\u001b[0m\u001b[0m_cache\u001b[0m\u001b[0;34m[\u001b[0m\u001b[0mkey\u001b[0m\u001b[0;34m]\u001b[0m\u001b[0;34m\u001b[0m\u001b[0;34m\u001b[0m\u001b[0m\n\u001b[0m\u001b[1;32m     54\u001b[0m             \u001b[0mself\u001b[0m\u001b[0;34m.\u001b[0m\u001b[0m_cache\u001b[0m\u001b[0;34m.\u001b[0m\u001b[0mmove_to_end\u001b[0m\u001b[0;34m(\u001b[0m\u001b[0mkey\u001b[0m\u001b[0;34m)\u001b[0m\u001b[0;34m\u001b[0m\u001b[0;34m\u001b[0m\u001b[0m\n",
            "\u001b[0;31mKeyError\u001b[0m: [<class 'netCDF4._netCDF4.Dataset'>, ('http://www.esrl.noaa.gov/psd/thredds/dodsC/Datasets/gpcp/precip.mon.mean.nc',), 'r', (('clobber', True), ('diskless', False), ('format', 'NETCDF4'), ('persist', False))]",
            "\nDuring handling of the above exception, another exception occurred:\n",
            "\u001b[0;31mOSError\u001b[0m                                   Traceback (most recent call last)",
            "\u001b[0;32m<ipython-input-5-f7b0a11af865>\u001b[0m in \u001b[0;36m<module>\u001b[0;34m()\u001b[0m\n\u001b[1;32m      1\u001b[0m \u001b[0;31m#read precipitation\u001b[0m\u001b[0;34m\u001b[0m\u001b[0;34m\u001b[0m\u001b[0;34m\u001b[0m\u001b[0m\n\u001b[1;32m      2\u001b[0m \u001b[0murl\u001b[0m \u001b[0;34m=\u001b[0m \u001b[0;34m'http://www.esrl.noaa.gov/psd/thredds/dodsC/Datasets/gpcp/precip.mon.mean.nc'\u001b[0m\u001b[0;34m\u001b[0m\u001b[0;34m\u001b[0m\u001b[0m\n\u001b[0;32m----> 3\u001b[0;31m \u001b[0mds_prec\u001b[0m \u001b[0;34m=\u001b[0m \u001b[0mxr\u001b[0m\u001b[0;34m.\u001b[0m\u001b[0mopen_dataset\u001b[0m\u001b[0;34m(\u001b[0m\u001b[0murl\u001b[0m\u001b[0;34m)\u001b[0m\u001b[0;34m\u001b[0m\u001b[0;34m\u001b[0m\u001b[0m\n\u001b[0m\u001b[1;32m      4\u001b[0m \u001b[0mds_prec\u001b[0m \u001b[0;34m=\u001b[0m \u001b[0mds_prec\u001b[0m\u001b[0;34m.\u001b[0m\u001b[0msel\u001b[0m\u001b[0;34m(\u001b[0m\u001b[0mtime\u001b[0m\u001b[0;34m=\u001b[0m\u001b[0mslice\u001b[0m\u001b[0;34m(\u001b[0m\u001b[0;34m'1979'\u001b[0m\u001b[0;34m,\u001b[0m \u001b[0;34m'2019'\u001b[0m\u001b[0;34m)\u001b[0m\u001b[0;34m)\u001b[0m\u001b[0;34m\u001b[0m\u001b[0;34m\u001b[0m\u001b[0m\n\u001b[1;32m      5\u001b[0m \u001b[0mds_prec\u001b[0m\u001b[0;34m.\u001b[0m\u001b[0mload\u001b[0m\u001b[0;34m(\u001b[0m\u001b[0;34m)\u001b[0m\u001b[0;34m\u001b[0m\u001b[0;34m\u001b[0m\u001b[0m\n",
            "\u001b[0;32m/usr/local/lib/python3.7/dist-packages/xarray/backends/api.py\u001b[0m in \u001b[0;36mopen_dataset\u001b[0;34m(filename_or_obj, engine, chunks, cache, decode_cf, mask_and_scale, decode_times, decode_timedelta, use_cftime, concat_characters, decode_coords, drop_variables, backend_kwargs, *args, **kwargs)\u001b[0m\n\u001b[1;32m    498\u001b[0m         \u001b[0mdrop_variables\u001b[0m\u001b[0;34m=\u001b[0m\u001b[0mdrop_variables\u001b[0m\u001b[0;34m,\u001b[0m\u001b[0;34m\u001b[0m\u001b[0;34m\u001b[0m\u001b[0m\n\u001b[1;32m    499\u001b[0m         \u001b[0;34m**\u001b[0m\u001b[0mdecoders\u001b[0m\u001b[0;34m,\u001b[0m\u001b[0;34m\u001b[0m\u001b[0;34m\u001b[0m\u001b[0m\n\u001b[0;32m--> 500\u001b[0;31m         \u001b[0;34m**\u001b[0m\u001b[0mkwargs\u001b[0m\u001b[0;34m,\u001b[0m\u001b[0;34m\u001b[0m\u001b[0;34m\u001b[0m\u001b[0m\n\u001b[0m\u001b[1;32m    501\u001b[0m     )\n\u001b[1;32m    502\u001b[0m     ds = _dataset_from_backend_dataset(\n",
            "\u001b[0;32m/usr/local/lib/python3.7/dist-packages/xarray/backends/netCDF4_.py\u001b[0m in \u001b[0;36mopen_dataset\u001b[0;34m(self, filename_or_obj, mask_and_scale, decode_times, concat_characters, decode_coords, drop_variables, use_cftime, decode_timedelta, group, mode, format, clobber, diskless, persist, lock, autoclose)\u001b[0m\n\u001b[1;32m    556\u001b[0m             \u001b[0mpersist\u001b[0m\u001b[0;34m=\u001b[0m\u001b[0mpersist\u001b[0m\u001b[0;34m,\u001b[0m\u001b[0;34m\u001b[0m\u001b[0;34m\u001b[0m\u001b[0m\n\u001b[1;32m    557\u001b[0m             \u001b[0mlock\u001b[0m\u001b[0;34m=\u001b[0m\u001b[0mlock\u001b[0m\u001b[0;34m,\u001b[0m\u001b[0;34m\u001b[0m\u001b[0;34m\u001b[0m\u001b[0m\n\u001b[0;32m--> 558\u001b[0;31m             \u001b[0mautoclose\u001b[0m\u001b[0;34m=\u001b[0m\u001b[0mautoclose\u001b[0m\u001b[0;34m,\u001b[0m\u001b[0;34m\u001b[0m\u001b[0;34m\u001b[0m\u001b[0m\n\u001b[0m\u001b[1;32m    559\u001b[0m         )\n\u001b[1;32m    560\u001b[0m \u001b[0;34m\u001b[0m\u001b[0m\n",
            "\u001b[0;32m/usr/local/lib/python3.7/dist-packages/xarray/backends/netCDF4_.py\u001b[0m in \u001b[0;36mopen\u001b[0;34m(cls, filename, mode, format, group, clobber, diskless, persist, lock, lock_maker, autoclose)\u001b[0m\n\u001b[1;32m    378\u001b[0m             \u001b[0mnetCDF4\u001b[0m\u001b[0;34m.\u001b[0m\u001b[0mDataset\u001b[0m\u001b[0;34m,\u001b[0m \u001b[0mfilename\u001b[0m\u001b[0;34m,\u001b[0m \u001b[0mmode\u001b[0m\u001b[0;34m=\u001b[0m\u001b[0mmode\u001b[0m\u001b[0;34m,\u001b[0m \u001b[0mkwargs\u001b[0m\u001b[0;34m=\u001b[0m\u001b[0mkwargs\u001b[0m\u001b[0;34m\u001b[0m\u001b[0;34m\u001b[0m\u001b[0m\n\u001b[1;32m    379\u001b[0m         )\n\u001b[0;32m--> 380\u001b[0;31m         \u001b[0;32mreturn\u001b[0m \u001b[0mcls\u001b[0m\u001b[0;34m(\u001b[0m\u001b[0mmanager\u001b[0m\u001b[0;34m,\u001b[0m \u001b[0mgroup\u001b[0m\u001b[0;34m=\u001b[0m\u001b[0mgroup\u001b[0m\u001b[0;34m,\u001b[0m \u001b[0mmode\u001b[0m\u001b[0;34m=\u001b[0m\u001b[0mmode\u001b[0m\u001b[0;34m,\u001b[0m \u001b[0mlock\u001b[0m\u001b[0;34m=\u001b[0m\u001b[0mlock\u001b[0m\u001b[0;34m,\u001b[0m \u001b[0mautoclose\u001b[0m\u001b[0;34m=\u001b[0m\u001b[0mautoclose\u001b[0m\u001b[0;34m)\u001b[0m\u001b[0;34m\u001b[0m\u001b[0;34m\u001b[0m\u001b[0m\n\u001b[0m\u001b[1;32m    381\u001b[0m \u001b[0;34m\u001b[0m\u001b[0m\n\u001b[1;32m    382\u001b[0m     \u001b[0;32mdef\u001b[0m \u001b[0m_acquire\u001b[0m\u001b[0;34m(\u001b[0m\u001b[0mself\u001b[0m\u001b[0;34m,\u001b[0m \u001b[0mneeds_lock\u001b[0m\u001b[0;34m=\u001b[0m\u001b[0;32mTrue\u001b[0m\u001b[0;34m)\u001b[0m\u001b[0;34m:\u001b[0m\u001b[0;34m\u001b[0m\u001b[0;34m\u001b[0m\u001b[0m\n",
            "\u001b[0;32m/usr/local/lib/python3.7/dist-packages/xarray/backends/netCDF4_.py\u001b[0m in \u001b[0;36m__init__\u001b[0;34m(self, manager, group, mode, lock, autoclose)\u001b[0m\n\u001b[1;32m    326\u001b[0m         \u001b[0mself\u001b[0m\u001b[0;34m.\u001b[0m\u001b[0m_group\u001b[0m \u001b[0;34m=\u001b[0m \u001b[0mgroup\u001b[0m\u001b[0;34m\u001b[0m\u001b[0;34m\u001b[0m\u001b[0m\n\u001b[1;32m    327\u001b[0m         \u001b[0mself\u001b[0m\u001b[0;34m.\u001b[0m\u001b[0m_mode\u001b[0m \u001b[0;34m=\u001b[0m \u001b[0mmode\u001b[0m\u001b[0;34m\u001b[0m\u001b[0;34m\u001b[0m\u001b[0m\n\u001b[0;32m--> 328\u001b[0;31m         \u001b[0mself\u001b[0m\u001b[0;34m.\u001b[0m\u001b[0mformat\u001b[0m \u001b[0;34m=\u001b[0m \u001b[0mself\u001b[0m\u001b[0;34m.\u001b[0m\u001b[0mds\u001b[0m\u001b[0;34m.\u001b[0m\u001b[0mdata_model\u001b[0m\u001b[0;34m\u001b[0m\u001b[0;34m\u001b[0m\u001b[0m\n\u001b[0m\u001b[1;32m    329\u001b[0m         \u001b[0mself\u001b[0m\u001b[0;34m.\u001b[0m\u001b[0m_filename\u001b[0m \u001b[0;34m=\u001b[0m \u001b[0mself\u001b[0m\u001b[0;34m.\u001b[0m\u001b[0mds\u001b[0m\u001b[0;34m.\u001b[0m\u001b[0mfilepath\u001b[0m\u001b[0;34m(\u001b[0m\u001b[0;34m)\u001b[0m\u001b[0;34m\u001b[0m\u001b[0;34m\u001b[0m\u001b[0m\n\u001b[1;32m    330\u001b[0m         \u001b[0mself\u001b[0m\u001b[0;34m.\u001b[0m\u001b[0mis_remote\u001b[0m \u001b[0;34m=\u001b[0m \u001b[0mis_remote_uri\u001b[0m\u001b[0;34m(\u001b[0m\u001b[0mself\u001b[0m\u001b[0;34m.\u001b[0m\u001b[0m_filename\u001b[0m\u001b[0;34m)\u001b[0m\u001b[0;34m\u001b[0m\u001b[0;34m\u001b[0m\u001b[0m\n",
            "\u001b[0;32m/usr/local/lib/python3.7/dist-packages/xarray/backends/netCDF4_.py\u001b[0m in \u001b[0;36mds\u001b[0;34m(self)\u001b[0m\n\u001b[1;32m    387\u001b[0m     \u001b[0;34m@\u001b[0m\u001b[0mproperty\u001b[0m\u001b[0;34m\u001b[0m\u001b[0;34m\u001b[0m\u001b[0m\n\u001b[1;32m    388\u001b[0m     \u001b[0;32mdef\u001b[0m \u001b[0mds\u001b[0m\u001b[0;34m(\u001b[0m\u001b[0mself\u001b[0m\u001b[0;34m)\u001b[0m\u001b[0;34m:\u001b[0m\u001b[0;34m\u001b[0m\u001b[0;34m\u001b[0m\u001b[0m\n\u001b[0;32m--> 389\u001b[0;31m         \u001b[0;32mreturn\u001b[0m \u001b[0mself\u001b[0m\u001b[0;34m.\u001b[0m\u001b[0m_acquire\u001b[0m\u001b[0;34m(\u001b[0m\u001b[0;34m)\u001b[0m\u001b[0;34m\u001b[0m\u001b[0;34m\u001b[0m\u001b[0m\n\u001b[0m\u001b[1;32m    390\u001b[0m \u001b[0;34m\u001b[0m\u001b[0m\n\u001b[1;32m    391\u001b[0m     \u001b[0;32mdef\u001b[0m \u001b[0mopen_store_variable\u001b[0m\u001b[0;34m(\u001b[0m\u001b[0mself\u001b[0m\u001b[0;34m,\u001b[0m \u001b[0mname\u001b[0m\u001b[0;34m,\u001b[0m \u001b[0mvar\u001b[0m\u001b[0;34m)\u001b[0m\u001b[0;34m:\u001b[0m\u001b[0;34m\u001b[0m\u001b[0;34m\u001b[0m\u001b[0m\n",
            "\u001b[0;32m/usr/local/lib/python3.7/dist-packages/xarray/backends/netCDF4_.py\u001b[0m in \u001b[0;36m_acquire\u001b[0;34m(self, needs_lock)\u001b[0m\n\u001b[1;32m    381\u001b[0m \u001b[0;34m\u001b[0m\u001b[0m\n\u001b[1;32m    382\u001b[0m     \u001b[0;32mdef\u001b[0m \u001b[0m_acquire\u001b[0m\u001b[0;34m(\u001b[0m\u001b[0mself\u001b[0m\u001b[0;34m,\u001b[0m \u001b[0mneeds_lock\u001b[0m\u001b[0;34m=\u001b[0m\u001b[0;32mTrue\u001b[0m\u001b[0;34m)\u001b[0m\u001b[0;34m:\u001b[0m\u001b[0;34m\u001b[0m\u001b[0;34m\u001b[0m\u001b[0m\n\u001b[0;32m--> 383\u001b[0;31m         \u001b[0;32mwith\u001b[0m \u001b[0mself\u001b[0m\u001b[0;34m.\u001b[0m\u001b[0m_manager\u001b[0m\u001b[0;34m.\u001b[0m\u001b[0macquire_context\u001b[0m\u001b[0;34m(\u001b[0m\u001b[0mneeds_lock\u001b[0m\u001b[0;34m)\u001b[0m \u001b[0;32mas\u001b[0m \u001b[0mroot\u001b[0m\u001b[0;34m:\u001b[0m\u001b[0;34m\u001b[0m\u001b[0;34m\u001b[0m\u001b[0m\n\u001b[0m\u001b[1;32m    384\u001b[0m             \u001b[0mds\u001b[0m \u001b[0;34m=\u001b[0m \u001b[0m_nc4_require_group\u001b[0m\u001b[0;34m(\u001b[0m\u001b[0mroot\u001b[0m\u001b[0;34m,\u001b[0m \u001b[0mself\u001b[0m\u001b[0;34m.\u001b[0m\u001b[0m_group\u001b[0m\u001b[0;34m,\u001b[0m \u001b[0mself\u001b[0m\u001b[0;34m.\u001b[0m\u001b[0m_mode\u001b[0m\u001b[0;34m)\u001b[0m\u001b[0;34m\u001b[0m\u001b[0;34m\u001b[0m\u001b[0m\n\u001b[1;32m    385\u001b[0m         \u001b[0;32mreturn\u001b[0m \u001b[0mds\u001b[0m\u001b[0;34m\u001b[0m\u001b[0;34m\u001b[0m\u001b[0m\n",
            "\u001b[0;32m/usr/lib/python3.7/contextlib.py\u001b[0m in \u001b[0;36m__enter__\u001b[0;34m(self)\u001b[0m\n\u001b[1;32m    110\u001b[0m         \u001b[0;32mdel\u001b[0m \u001b[0mself\u001b[0m\u001b[0;34m.\u001b[0m\u001b[0margs\u001b[0m\u001b[0;34m,\u001b[0m \u001b[0mself\u001b[0m\u001b[0;34m.\u001b[0m\u001b[0mkwds\u001b[0m\u001b[0;34m,\u001b[0m \u001b[0mself\u001b[0m\u001b[0;34m.\u001b[0m\u001b[0mfunc\u001b[0m\u001b[0;34m\u001b[0m\u001b[0;34m\u001b[0m\u001b[0m\n\u001b[1;32m    111\u001b[0m         \u001b[0;32mtry\u001b[0m\u001b[0;34m:\u001b[0m\u001b[0;34m\u001b[0m\u001b[0;34m\u001b[0m\u001b[0m\n\u001b[0;32m--> 112\u001b[0;31m             \u001b[0;32mreturn\u001b[0m \u001b[0mnext\u001b[0m\u001b[0;34m(\u001b[0m\u001b[0mself\u001b[0m\u001b[0;34m.\u001b[0m\u001b[0mgen\u001b[0m\u001b[0;34m)\u001b[0m\u001b[0;34m\u001b[0m\u001b[0;34m\u001b[0m\u001b[0m\n\u001b[0m\u001b[1;32m    113\u001b[0m         \u001b[0;32mexcept\u001b[0m \u001b[0mStopIteration\u001b[0m\u001b[0;34m:\u001b[0m\u001b[0;34m\u001b[0m\u001b[0;34m\u001b[0m\u001b[0m\n\u001b[1;32m    114\u001b[0m             \u001b[0;32mraise\u001b[0m \u001b[0mRuntimeError\u001b[0m\u001b[0;34m(\u001b[0m\u001b[0;34m\"generator didn't yield\"\u001b[0m\u001b[0;34m)\u001b[0m \u001b[0;32mfrom\u001b[0m \u001b[0;32mNone\u001b[0m\u001b[0;34m\u001b[0m\u001b[0;34m\u001b[0m\u001b[0m\n",
            "\u001b[0;32m/usr/local/lib/python3.7/dist-packages/xarray/backends/file_manager.py\u001b[0m in \u001b[0;36macquire_context\u001b[0;34m(self, needs_lock)\u001b[0m\n\u001b[1;32m    185\u001b[0m     \u001b[0;32mdef\u001b[0m \u001b[0macquire_context\u001b[0m\u001b[0;34m(\u001b[0m\u001b[0mself\u001b[0m\u001b[0;34m,\u001b[0m \u001b[0mneeds_lock\u001b[0m\u001b[0;34m=\u001b[0m\u001b[0;32mTrue\u001b[0m\u001b[0;34m)\u001b[0m\u001b[0;34m:\u001b[0m\u001b[0;34m\u001b[0m\u001b[0;34m\u001b[0m\u001b[0m\n\u001b[1;32m    186\u001b[0m         \u001b[0;34m\"\"\"Context manager for acquiring a file.\"\"\"\u001b[0m\u001b[0;34m\u001b[0m\u001b[0;34m\u001b[0m\u001b[0m\n\u001b[0;32m--> 187\u001b[0;31m         \u001b[0mfile\u001b[0m\u001b[0;34m,\u001b[0m \u001b[0mcached\u001b[0m \u001b[0;34m=\u001b[0m \u001b[0mself\u001b[0m\u001b[0;34m.\u001b[0m\u001b[0m_acquire_with_cache_info\u001b[0m\u001b[0;34m(\u001b[0m\u001b[0mneeds_lock\u001b[0m\u001b[0;34m)\u001b[0m\u001b[0;34m\u001b[0m\u001b[0;34m\u001b[0m\u001b[0m\n\u001b[0m\u001b[1;32m    188\u001b[0m         \u001b[0;32mtry\u001b[0m\u001b[0;34m:\u001b[0m\u001b[0;34m\u001b[0m\u001b[0;34m\u001b[0m\u001b[0m\n\u001b[1;32m    189\u001b[0m             \u001b[0;32myield\u001b[0m \u001b[0mfile\u001b[0m\u001b[0;34m\u001b[0m\u001b[0;34m\u001b[0m\u001b[0m\n",
            "\u001b[0;32m/usr/local/lib/python3.7/dist-packages/xarray/backends/file_manager.py\u001b[0m in \u001b[0;36m_acquire_with_cache_info\u001b[0;34m(self, needs_lock)\u001b[0m\n\u001b[1;32m    203\u001b[0m                     \u001b[0mkwargs\u001b[0m \u001b[0;34m=\u001b[0m \u001b[0mkwargs\u001b[0m\u001b[0;34m.\u001b[0m\u001b[0mcopy\u001b[0m\u001b[0;34m(\u001b[0m\u001b[0;34m)\u001b[0m\u001b[0;34m\u001b[0m\u001b[0;34m\u001b[0m\u001b[0m\n\u001b[1;32m    204\u001b[0m                     \u001b[0mkwargs\u001b[0m\u001b[0;34m[\u001b[0m\u001b[0;34m\"mode\"\u001b[0m\u001b[0;34m]\u001b[0m \u001b[0;34m=\u001b[0m \u001b[0mself\u001b[0m\u001b[0;34m.\u001b[0m\u001b[0m_mode\u001b[0m\u001b[0;34m\u001b[0m\u001b[0;34m\u001b[0m\u001b[0m\n\u001b[0;32m--> 205\u001b[0;31m                 \u001b[0mfile\u001b[0m \u001b[0;34m=\u001b[0m \u001b[0mself\u001b[0m\u001b[0;34m.\u001b[0m\u001b[0m_opener\u001b[0m\u001b[0;34m(\u001b[0m\u001b[0;34m*\u001b[0m\u001b[0mself\u001b[0m\u001b[0;34m.\u001b[0m\u001b[0m_args\u001b[0m\u001b[0;34m,\u001b[0m \u001b[0;34m**\u001b[0m\u001b[0mkwargs\u001b[0m\u001b[0;34m)\u001b[0m\u001b[0;34m\u001b[0m\u001b[0;34m\u001b[0m\u001b[0m\n\u001b[0m\u001b[1;32m    206\u001b[0m                 \u001b[0;32mif\u001b[0m \u001b[0mself\u001b[0m\u001b[0;34m.\u001b[0m\u001b[0m_mode\u001b[0m \u001b[0;34m==\u001b[0m \u001b[0;34m\"w\"\u001b[0m\u001b[0;34m:\u001b[0m\u001b[0;34m\u001b[0m\u001b[0;34m\u001b[0m\u001b[0m\n\u001b[1;32m    207\u001b[0m                     \u001b[0;31m# ensure file doesn't get overriden when opened again\u001b[0m\u001b[0;34m\u001b[0m\u001b[0;34m\u001b[0m\u001b[0;34m\u001b[0m\u001b[0m\n",
            "\u001b[0;32msrc/netCDF4/_netCDF4.pyx\u001b[0m in \u001b[0;36mnetCDF4._netCDF4.Dataset.__init__\u001b[0;34m()\u001b[0m\n",
            "\u001b[0;32msrc/netCDF4/_netCDF4.pyx\u001b[0m in \u001b[0;36mnetCDF4._netCDF4._ensure_nc_success\u001b[0;34m()\u001b[0m\n",
            "\u001b[0;31mOSError\u001b[0m: [Errno -68] NetCDF: I/O failure: b'http://www.esrl.noaa.gov/psd/thredds/dodsC/Datasets/gpcp/precip.mon.mean.nc'"
          ]
        }
      ]
    },
    {
      "cell_type": "code",
      "source": [
        "#ds_prec = ds_prec.sel(time=slice('1979', '2019'))\n",
        "\n",
        "\n",
        "ds_climo=ds_prec.groupby('time.month').mean()\n",
        "ds_anoms=ds_prec.groupby('time.month')-ds_climo\n",
        "ds_anoms\n",
        "\n",
        "#ds_anoms=ds_anoms.reindex(lat=list(reversed(ds_anoms['lat'])))\n",
        "#ds_prec=ds_anoms.sel(lat=slice(10,60),lon=slice(90,150))\n"
      ],
      "metadata": {
        "id": "h0fPOOY9MR7q"
      },
      "execution_count": null,
      "outputs": []
    },
    {
      "cell_type": "code",
      "source": [
        "ds_prec=ds_anoms.sel(lat=slice(10,60),lon=slice(90,150))"
      ],
      "metadata": {
        "id": "iTWXeYONUrP6"
      },
      "execution_count": null,
      "outputs": []
    },
    {
      "cell_type": "code",
      "source": [
        "print(ds_prec)"
      ],
      "metadata": {
        "id": "Pxo_yjz4SmyS"
      },
      "execution_count": null,
      "outputs": []
    },
    {
      "cell_type": "code",
      "source": [
        "ds_prec = ds_prec.sel(time=ds_prec.time.dt.month.isin([7,8,9])) #JJA\n",
        "#ds_prec_avg = ds_prec.mean(dim=('time'))\n",
        "prec = ds_prec['precip']\n",
        "prec"
      ],
      "metadata": {
        "id": "K7kRFGghN7_A"
      },
      "execution_count": null,
      "outputs": []
    },
    {
      "cell_type": "code",
      "source": [
        "# Create an EOF solver to do the EOF analysis. Square-root of cosine of\n",
        "# latitude weights are applied before the computation of EOFs.\n",
        "coslat = np.cos(np.deg2rad(prec.coords['lat'].values))\n",
        "wgts = np.sqrt(coslat)[..., np.newaxis]\n",
        "solver = Eof(prec, weights=wgts)\n",
        "\n",
        "# Retrieve the leading EOF, expressed as the correlation between the leading\n",
        "# PC time series and the input SST anomalies at each grid point, and the\n",
        "# leading PC time series itself.\n",
        "eofs = solver.eofsAsCorrelation(neofs=4)\n",
        "#eofs = solver.eofsAsCovariance(neofs=4)\n",
        "#eofs = solver.eofs(neofs=4)\n",
        "pcs = solver.pcs(npcs=4, pcscaling=1)\n",
        "vars = solver.varianceFraction(neigs=4)"
      ],
      "metadata": {
        "id": "ePvbavE20u4v"
      },
      "execution_count": null,
      "outputs": []
    },
    {
      "cell_type": "code",
      "source": [
        "vars"
      ],
      "metadata": {
        "id": "i_Hz0B7r4mFK"
      },
      "execution_count": null,
      "outputs": []
    },
    {
      "cell_type": "code",
      "source": [
        "import cartopy.feature as cfeature\n",
        "# Plot the leading EOF expressed as correlation in the Pacific domain.\n",
        "clevs = np.linspace(-1, 1, 11)\n",
        "ax = plt.axes(projection=ccrs.PlateCarree(central_longitude=120))\n",
        "fill = eofs[0].plot.contourf(ax=ax, levels=clevs, cmap=plt.cm.RdBu_r,\n",
        "                             add_colorbar=False, transform=ccrs.PlateCarree())\n",
        "ax.add_feature(cfeature.LAND, facecolor='w', edgecolor='k')\n",
        "cb = plt.colorbar(fill, orientation='horizontal')\n",
        "cb.set_label('correlation coefficient', fontsize=12)\n",
        "ax.set_title('EOF1 expressed as correlation', fontsize=16)\n",
        "\n",
        "gl = ax.gridlines(crs=ccrs.PlateCarree(), draw_labels=True,\n",
        "                  linewidth=2, color='gray', alpha=0.6, linestyle='--')\n",
        "# Plot the leading PC time series.\n",
        "plt.figure()\n",
        "pcs[:, 0].plot(color='b', linewidth=2)\n",
        "ax = plt.gca()\n",
        "ax.axhline(0, color='k')\n",
        "ax.set_ylim(-3, 3)\n",
        "ax.set_xlabel('Year')\n",
        "ax.set_ylabel('Normalized Units')\n",
        "ax.set_title('PC1 Time Series', fontsize=16)\n",
        "\n",
        "plt.show()"
      ],
      "metadata": {
        "id": "vXg82VP9QH49"
      },
      "execution_count": null,
      "outputs": []
    },
    {
      "cell_type": "code",
      "source": [
        "import cartopy.feature as cfeature\n",
        "# Plot the leading EOF expressed as correlation in the Pacific domain.\n",
        "clevs = np.linspace(-1, 1, 11)\n",
        "ax = plt.axes(projection=ccrs.PlateCarree(central_longitude=120))\n",
        "fill = eofs[1].plot.contourf(ax=ax, levels=clevs, cmap=plt.cm.RdBu_r,\n",
        "                             add_colorbar=False, transform=ccrs.PlateCarree())\n",
        "ax.add_feature(cfeature.LAND, facecolor='w', edgecolor='k')\n",
        "cb = plt.colorbar(fill, orientation='horizontal')\n",
        "cb.set_label('correlation coefficient', fontsize=12)\n",
        "ax.set_title('EOF2 expressed as correlation', fontsize=16)\n",
        "\n",
        "gl = ax.gridlines(crs=ccrs.PlateCarree(), draw_labels=True,\n",
        "                  linewidth=2, color='gray', alpha=0.6, linestyle='--')\n",
        "# Plot the leading PC time series.\n",
        "plt.figure()\n",
        "pcs[:, 1].plot(color='b', linewidth=2)\n",
        "ax = plt.gca()\n",
        "ax.axhline(0, color='k')\n",
        "ax.set_ylim(-3, 3)\n",
        "ax.set_xlabel('Year')\n",
        "ax.set_ylabel('Normalized Units')\n",
        "ax.set_title('PC2 Time Series', fontsize=16)\n",
        "\n",
        "plt.show()"
      ],
      "metadata": {
        "id": "_Vx7x4PkVRxb"
      },
      "execution_count": null,
      "outputs": []
    }
  ]
}