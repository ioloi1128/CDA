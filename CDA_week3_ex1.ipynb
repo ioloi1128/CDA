{
  "nbformat": 4,
  "nbformat_minor": 0,
  "metadata": {
    "colab": {
      "name": "CDA.week3.ex1.ipynb",
      "provenance": [],
      "mount_file_id": "1ODZX6KdsFFmSDewOUnU_xUMHjwaSBeyP",
      "authorship_tag": "ABX9TyOSmn1c9Vgk1z+gAd4cLGxk",
      "include_colab_link": true
    },
    "kernelspec": {
      "name": "python3",
      "display_name": "Python 3"
    },
    "language_info": {
      "name": "python"
    }
  },
  "cells": [
    {
      "cell_type": "markdown",
      "metadata": {
        "id": "view-in-github",
        "colab_type": "text"
      },
      "source": [
        "<a href=\"https://colab.research.google.com/github/ioloi1128/CDA/blob/main/CDA_week3_ex1.ipynb\" target=\"_parent\"><img src=\"https://colab.research.google.com/assets/colab-badge.svg\" alt=\"Open In Colab\"/></a>"
      ]
    },
    {
      "cell_type": "markdown",
      "source": [
        "\n",
        "\"#\" add comments/ \"!\" linux comments"
      ],
      "metadata": {
        "id": "qc5xCZLxP0Ov"
      }
    },
    {
      "cell_type": "code",
      "source": [
        "# comments"
      ],
      "metadata": {
        "id": "JiL2PGXfPnB2"
      },
      "execution_count": null,
      "outputs": []
    },
    {
      "cell_type": "markdown",
      "source": [
        "How to upload data to colab? \n",
        "\n",
        "*Method01: through the browser"
      ],
      "metadata": {
        "id": "fRFV348s-0ch"
      }
    },
    {
      "cell_type": "code",
      "execution_count": null,
      "metadata": {
        "id": "kdrEShi9-tDj"
      },
      "outputs": [],
      "source": [
        "from google.colab import files\n",
        "\n",
        "uploaded = files.upload()\n",
        "\n",
        "for fn in uploaded.keys():\n",
        "  print('User uploaded file \"{name}\" with length {length} bytes'.format(\n",
        "      name=fn, length=len(uploaded[fn])))"
      ]
    },
    {
      "cell_type": "markdown",
      "source": [
        "*Method02: link the google drve\n",
        "可以直接按圖示連接"
      ],
      "metadata": {
        "id": "nI-dlnWL7qKF"
      }
    },
    {
      "cell_type": "code",
      "source": [
        "from google.colab import drive\n",
        "drive.mount('/content/drive')"
      ],
      "metadata": {
        "id": "loqYAIdeCbNg",
        "colab": {
          "base_uri": "https://localhost:8080/"
        },
        "outputId": "10c1c3a7-926f-4fa4-f425-008e0a77e254"
      },
      "execution_count": null,
      "outputs": [
        {
          "output_type": "stream",
          "name": "stdout",
          "text": [
            "Drive already mounted at /content/drive; to attempt to forcibly remount, call drive.mount(\"/content/drive\", force_remount=True).\n"
          ]
        }
      ]
    },
    {
      "cell_type": "markdown",
      "source": [
        "How to download data from colab?"
      ],
      "metadata": {
        "id": "J2PToty08JRh"
      }
    },
    {
      "cell_type": "code",
      "source": [
        "from google.colab import files\n",
        "\n",
        "with open('example.txt', 'w') as f:\n",
        "  f.write('some content')\n",
        "\n",
        "files.download('example.txt')"
      ],
      "metadata": {
        "id": "PKqJ5JVTABL_"
      },
      "execution_count": null,
      "outputs": []
    },
    {
      "cell_type": "markdown",
      "source": [
        "How to check python version "
      ],
      "metadata": {
        "id": "ZRN6GBaPADYG"
      }
    },
    {
      "cell_type": "code",
      "source": [
        "!python --version"
      ],
      "metadata": {
        "colab": {
          "base_uri": "https://localhost:8080/"
        },
        "id": "d-QuEVT2U4Z_",
        "outputId": "86108603-9479-4051-ad92-eccb4a08ba16"
      },
      "execution_count": null,
      "outputs": [
        {
          "output_type": "stream",
          "name": "stdout",
          "text": [
            "Python 3.7.12\n"
          ]
        }
      ]
    },
    {
      "cell_type": "code",
      "source": [
        "!ls \"/content/drive/My Drive/Colab_data\""
      ],
      "metadata": {
        "colab": {
          "base_uri": "https://localhost:8080/"
        },
        "id": "KnuJV9kKOGGr",
        "outputId": "14bac93a-a4a5-4515-d467-6d80f845b66a"
      },
      "execution_count": null,
      "outputs": [
        {
          "output_type": "stream",
          "name": "stdout",
          "text": [
            "nina34.anom.data\n"
          ]
        }
      ]
    },
    {
      "cell_type": "code",
      "source": [
        "!pip install numpy\n",
        "import numpy as np\n",
        "\n",
        "!pip install pandas\n",
        "import pandas as pd"
      ],
      "metadata": {
        "id": "-X-ti7SCQULQ"
      },
      "execution_count": null,
      "outputs": []
    },
    {
      "cell_type": "code",
      "source": [
        "df = pd.read_csv(\"/content/drive/My Drive/Colab_data/nina34.anom.data\")\n",
        "print(df)"
      ],
      "metadata": {
        "id": "AY5kCUuiQKMX"
      },
      "execution_count": null,
      "outputs": []
    }
  ]
}